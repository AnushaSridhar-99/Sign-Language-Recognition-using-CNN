{
 "cells": [
  {
   "cell_type": "code",
   "execution_count": 1,
   "metadata": {},
   "outputs": [
    {
     "name": "stderr",
     "output_type": "stream",
     "text": [
      "Using TensorFlow backend.\n",
      "C:\\Users\\91876\\Anaconda3\\lib\\site-packages\\tensorflow\\python\\framework\\dtypes.py:526: FutureWarning: Passing (type, 1) or '1type' as a synonym of type is deprecated; in a future version of numpy, it will be understood as (type, (1,)) / '(1,)type'.\n",
      "  _np_qint8 = np.dtype([(\"qint8\", np.int8, 1)])\n",
      "C:\\Users\\91876\\Anaconda3\\lib\\site-packages\\tensorflow\\python\\framework\\dtypes.py:527: FutureWarning: Passing (type, 1) or '1type' as a synonym of type is deprecated; in a future version of numpy, it will be understood as (type, (1,)) / '(1,)type'.\n",
      "  _np_quint8 = np.dtype([(\"quint8\", np.uint8, 1)])\n",
      "C:\\Users\\91876\\Anaconda3\\lib\\site-packages\\tensorflow\\python\\framework\\dtypes.py:528: FutureWarning: Passing (type, 1) or '1type' as a synonym of type is deprecated; in a future version of numpy, it will be understood as (type, (1,)) / '(1,)type'.\n",
      "  _np_qint16 = np.dtype([(\"qint16\", np.int16, 1)])\n",
      "C:\\Users\\91876\\Anaconda3\\lib\\site-packages\\tensorflow\\python\\framework\\dtypes.py:529: FutureWarning: Passing (type, 1) or '1type' as a synonym of type is deprecated; in a future version of numpy, it will be understood as (type, (1,)) / '(1,)type'.\n",
      "  _np_quint16 = np.dtype([(\"quint16\", np.uint16, 1)])\n",
      "C:\\Users\\91876\\Anaconda3\\lib\\site-packages\\tensorflow\\python\\framework\\dtypes.py:530: FutureWarning: Passing (type, 1) or '1type' as a synonym of type is deprecated; in a future version of numpy, it will be understood as (type, (1,)) / '(1,)type'.\n",
      "  _np_qint32 = np.dtype([(\"qint32\", np.int32, 1)])\n",
      "C:\\Users\\91876\\Anaconda3\\lib\\site-packages\\tensorflow\\python\\framework\\dtypes.py:535: FutureWarning: Passing (type, 1) or '1type' as a synonym of type is deprecated; in a future version of numpy, it will be understood as (type, (1,)) / '(1,)type'.\n",
      "  np_resource = np.dtype([(\"resource\", np.ubyte, 1)])\n",
      "C:\\Users\\91876\\Anaconda3\\lib\\site-packages\\requests\\__init__.py:91: RequestsDependencyWarning: urllib3 (1.26.4) or chardet (3.0.4) doesn't match a supported version!\n",
      "  RequestsDependencyWarning)\n"
     ]
    }
   ],
   "source": [
    "import os, cv, math\n",
    "from keras.models import Sequential\n",
    "from keras.models import model_from_json\n",
    "from keras.layers import Conv2D\n",
    "from keras.layers import MaxPooling2D\n",
    "from keras.layers import Flatten\n",
    "from keras.layers import Dense\n",
    "from keras.layers import Dropout, BatchNormalization\n",
    "from keras.preprocessing.image import ImageDataGenerator\n",
    "from keras.preprocessing.image import load_img\n",
    "from keras.utils import plot_model\n",
    "import numpy as np\n",
    "from keras.preprocessing import image\n",
    "from sklearn.model_selection import train_test_split\n",
    "from shutil import copyfile\n",
    "from tqdm import tqdm\n",
    "import matplotlib.pyplot as plt\n",
    "import matplotlib.image as mpimg\n",
    "import Augmentor\n",
    "import cv2\n",
    "from PIL import Image\n",
    "import numpy as np\n",
    "%matplotlib inline"
   ]
  },
  {
   "cell_type": "code",
   "execution_count": 60,
   "metadata": {},
   "outputs": [
    {
     "name": "stdout",
     "output_type": "stream",
     "text": [
      "['0', '1', '2', '3', '4', '5', '6', '7', '8', '9', 'A', 'B', 'C', 'D', 'del', 'E', 'F', 'G', 'H', 'I', 'J', 'K', 'L', 'M', 'N', 'nothing', 'O', 'P', 'Q', 'R', 'S', 'space', 'T', 'test_set', 'training_set', 'U', 'V', 'validation_set', 'W', 'X', 'Y', 'Z']\n"
     ]
    }
   ],
   "source": [
    "dataset_path = 'asl_dataset_augmented'\n",
    "dataset_list = os.listdir(dataset_path)\n",
    "print(dataset_list)"
   ]
  },
  {
   "cell_type": "code",
   "execution_count": 41,
   "metadata": {},
   "outputs": [
    {
     "name": "stderr",
     "output_type": "stream",
     "text": [
      "\r",
      "Executing Pipeline:   0%|          | 0/100 [00:00<?, ? Samples/s]"
     ]
    },
    {
     "name": "stdout",
     "output_type": "stream",
     "text": [
      "Initialised with 40 image(s) found.\n",
      "Output directory set to dataset\\A\\output."
     ]
    },
    {
     "name": "stderr",
     "output_type": "stream",
     "text": [
      "Processing <PIL.JpegImagePlugin.JpegImageFile image mode=RGB size=400x400 at 0x205990D5710>: 100%|██████████| 100/100 [00:00<00:00, 108.81 Samples/s]\n",
      "Processing <PIL.Image.Image image mode=RGB size=400x400 at 0x2059914CEF0>:   2%|▏         | 2/100 [00:00<00:14,  6.58 Samples/s]                  "
     ]
    },
    {
     "name": "stdout",
     "output_type": "stream",
     "text": [
      "Initialised with 40 image(s) found.\n",
      "Output directory set to dataset\\B\\output."
     ]
    },
    {
     "name": "stderr",
     "output_type": "stream",
     "text": [
      "Processing <PIL.Image.Image image mode=RGB size=400x400 at 0x20599690518>: 100%|██████████| 100/100 [00:00<00:00, 183.59 Samples/s]                \n",
      "Processing <PIL.JpegImagePlugin.JpegImageFile image mode=RGB size=400x400 at 0x20599693160>:   1%|          | 1/100 [00:00<00:15,  6.23 Samples/s]"
     ]
    },
    {
     "name": "stdout",
     "output_type": "stream",
     "text": [
      "Initialised with 40 image(s) found.\n",
      "Output directory set to dataset\\C\\output."
     ]
    },
    {
     "name": "stderr",
     "output_type": "stream",
     "text": [
      "Processing <PIL.Image.Image image mode=RGB size=400x400 at 0x20598F1B358>: 100%|██████████| 100/100 [00:00<00:00, 215.47 Samples/s]                \n",
      "Executing Pipeline:   0%|          | 0/100 [00:00<?, ? Samples/s]"
     ]
    },
    {
     "name": "stdout",
     "output_type": "stream",
     "text": [
      "Initialised with 40 image(s) found.\n",
      "Output directory set to dataset\\D\\output."
     ]
    },
    {
     "name": "stderr",
     "output_type": "stream",
     "text": [
      "Processing <PIL.JpegImagePlugin.JpegImageFile image mode=RGB size=400x400 at 0x205996A56D8>: 100%|██████████| 100/100 [00:00<00:00, 134.96 Samples/s]\n",
      "Processing <PIL.JpegImagePlugin.JpegImageFile image mode=RGB size=200x200 at 0x20598F1B198>:   1%|          | 1/100 [00:00<00:15,  6.42 Samples/s]"
     ]
    },
    {
     "name": "stdout",
     "output_type": "stream",
     "text": [
      "Initialised with 40 image(s) found.\n",
      "Output directory set to dataset\\del\\output."
     ]
    },
    {
     "name": "stderr",
     "output_type": "stream",
     "text": [
      "Processing <PIL.JpegImagePlugin.JpegImageFile image mode=RGB size=200x200 at 0x205996B8F28>: 100%|██████████| 100/100 [00:00<00:00, 190.50 Samples/s]\n",
      "Executing Pipeline:   0%|          | 0/100 [00:00<?, ? Samples/s]"
     ]
    },
    {
     "name": "stdout",
     "output_type": "stream",
     "text": [
      "Initialised with 40 image(s) found.\n",
      "Output directory set to dataset\\E\\output."
     ]
    },
    {
     "name": "stderr",
     "output_type": "stream",
     "text": [
      "Processing <PIL.Image.Image image mode=RGB size=400x400 at 0x20599171550>: 100%|██████████| 100/100 [00:00<00:00, 144.44 Samples/s]                \n",
      "Executing Pipeline:   0%|          | 0/100 [00:00<?, ? Samples/s]"
     ]
    },
    {
     "name": "stdout",
     "output_type": "stream",
     "text": [
      "Initialised with 40 image(s) found.\n",
      "Output directory set to dataset\\F\\output."
     ]
    },
    {
     "name": "stderr",
     "output_type": "stream",
     "text": [
      "Processing <PIL.JpegImagePlugin.JpegImageFile image mode=RGB size=400x400 at 0x20599690320>: 100%|██████████| 100/100 [00:00<00:00, 187.14 Samples/s]\n",
      "Executing Pipeline:   0%|          | 0/100 [00:00<?, ? Samples/s]"
     ]
    },
    {
     "name": "stdout",
     "output_type": "stream",
     "text": [
      "Initialised with 40 image(s) found.\n",
      "Output directory set to dataset\\G\\output."
     ]
    },
    {
     "name": "stderr",
     "output_type": "stream",
     "text": [
      "Processing <PIL.Image.Image image mode=RGB size=400x400 at 0x2059915BC88>: 100%|██████████| 100/100 [00:00<00:00, 190.01 Samples/s]                \n",
      "Executing Pipeline:   0%|          | 0/100 [00:00<?, ? Samples/s]"
     ]
    },
    {
     "name": "stdout",
     "output_type": "stream",
     "text": [
      "Initialised with 40 image(s) found.\n",
      "Output directory set to dataset\\H\\output."
     ]
    },
    {
     "name": "stderr",
     "output_type": "stream",
     "text": [
      "Processing <PIL.JpegImagePlugin.JpegImageFile image mode=RGB size=400x400 at 0x20599159BE0>: 100%|██████████| 100/100 [00:00<00:00, 183.34 Samples/s]\n",
      "Executing Pipeline:   0%|          | 0/100 [00:00<?, ? Samples/s]"
     ]
    },
    {
     "name": "stdout",
     "output_type": "stream",
     "text": [
      "Initialised with 40 image(s) found.\n",
      "Output directory set to dataset\\I\\output."
     ]
    },
    {
     "name": "stderr",
     "output_type": "stream",
     "text": [
      "Processing <PIL.Image.Image image mode=RGB size=400x400 at 0x2059918FEF0>: 100%|██████████| 100/100 [00:00<00:00, 152.55 Samples/s]                \n",
      "Processing <PIL.JpegImagePlugin.JpegImageFile image mode=RGB size=200x200 at 0x2059913E208>:   2%|▏         | 2/100 [00:00<00:14,  7.00 Samples/s]"
     ]
    },
    {
     "name": "stdout",
     "output_type": "stream",
     "text": [
      "Initialised with 40 image(s) found.\n",
      "Output directory set to dataset\\J\\output."
     ]
    },
    {
     "name": "stderr",
     "output_type": "stream",
     "text": [
      "Processing <PIL.JpegImagePlugin.JpegImageFile image mode=RGB size=200x200 at 0x20599175C50>: 100%|██████████| 100/100 [00:00<00:00, 268.63 Samples/s]\n",
      "Executing Pipeline:   0%|          | 0/100 [00:00<?, ? Samples/s]"
     ]
    },
    {
     "name": "stdout",
     "output_type": "stream",
     "text": [
      "Initialised with 40 image(s) found.\n",
      "Output directory set to dataset\\K\\output."
     ]
    },
    {
     "name": "stderr",
     "output_type": "stream",
     "text": [
      "Processing <PIL.Image.Image image mode=RGB size=400x400 at 0x2059914C5C0>: 100%|██████████| 100/100 [00:00<00:00, 186.28 Samples/s]                \n",
      "Executing Pipeline:   0%|          | 0/100 [00:00<?, ? Samples/s]"
     ]
    },
    {
     "name": "stdout",
     "output_type": "stream",
     "text": [
      "Initialised with 40 image(s) found.\n",
      "Output directory set to dataset\\L\\output."
     ]
    },
    {
     "name": "stderr",
     "output_type": "stream",
     "text": [
      "Processing <PIL.JpegImagePlugin.JpegImageFile image mode=RGB size=400x400 at 0x20599157400>: 100%|██████████| 100/100 [00:00<00:00, 179.91 Samples/s]\n",
      "Executing Pipeline:   0%|          | 0/100 [00:00<?, ? Samples/s]"
     ]
    },
    {
     "name": "stdout",
     "output_type": "stream",
     "text": [
      "Initialised with 40 image(s) found.\n",
      "Output directory set to dataset\\M\\output."
     ]
    },
    {
     "name": "stderr",
     "output_type": "stream",
     "text": [
      "Processing <PIL.JpegImagePlugin.JpegImageFile image mode=RGB size=400x400 at 0x205996A1400>: 100%|██████████| 100/100 [00:00<00:00, 193.05 Samples/s]\n",
      "Processing <PIL.JpegImagePlugin.JpegImageFile image mode=RGB size=400x400 at 0x2059915B048>:   0%|          | 0/100 [00:00<?, ? Samples/s]"
     ]
    },
    {
     "name": "stdout",
     "output_type": "stream",
     "text": [
      "Initialised with 40 image(s) found.\n",
      "Output directory set to dataset\\N\\output."
     ]
    },
    {
     "name": "stderr",
     "output_type": "stream",
     "text": [
      "Processing <PIL.JpegImagePlugin.JpegImageFile image mode=RGB size=400x400 at 0x20599180DD8>: 100%|██████████| 100/100 [00:00<00:00, 190.44 Samples/s]\n",
      "Processing <PIL.JpegImagePlugin.JpegImageFile image mode=RGB size=200x200 at 0x2059914CEF0>:   2%|▏         | 2/100 [00:00<00:13,  7.15 Samples/s]"
     ]
    },
    {
     "name": "stdout",
     "output_type": "stream",
     "text": [
      "Initialised with 40 image(s) found.\n",
      "Output directory set to dataset\\nothing\\output."
     ]
    },
    {
     "name": "stderr",
     "output_type": "stream",
     "text": [
      "Processing <PIL.Image.Image image mode=RGB size=200x200 at 0x20599181748>: 100%|██████████| 100/100 [00:00<00:00, 276.07 Samples/s]                \n",
      "Executing Pipeline:   0%|          | 0/100 [00:00<?, ? Samples/s]"
     ]
    },
    {
     "name": "stdout",
     "output_type": "stream",
     "text": [
      "Initialised with 40 image(s) found.\n",
      "Output directory set to dataset\\O\\output."
     ]
    },
    {
     "name": "stderr",
     "output_type": "stream",
     "text": [
      "Processing <PIL.Image.Image image mode=RGB size=400x400 at 0x2059915B588>: 100%|██████████| 100/100 [00:00<00:00, 181.61 Samples/s]                \n",
      "Executing Pipeline:   0%|          | 0/100 [00:00<?, ? Samples/s]"
     ]
    },
    {
     "name": "stdout",
     "output_type": "stream",
     "text": [
      "Initialised with 40 image(s) found.\n",
      "Output directory set to dataset\\P\\output."
     ]
    },
    {
     "name": "stderr",
     "output_type": "stream",
     "text": [
      "Processing <PIL.JpegImagePlugin.JpegImageFile image mode=RGB size=400x400 at 0x20599181908>: 100%|██████████| 100/100 [00:00<00:00, 181.91 Samples/s]\n",
      "Processing <PIL.Image.Image image mode=RGB size=400x400 at 0x2059914C978>:   0%|          | 0/100 [00:00<?, ? Samples/s]"
     ]
    },
    {
     "name": "stdout",
     "output_type": "stream",
     "text": [
      "Initialised with 40 image(s) found.\n",
      "Output directory set to dataset\\Q\\output."
     ]
    },
    {
     "name": "stderr",
     "output_type": "stream",
     "text": [
      "Processing <PIL.JpegImagePlugin.JpegImageFile image mode=RGB size=400x400 at 0x205990E94A8>: 100%|██████████| 100/100 [00:00<00:00, 199.71 Samples/s]\n",
      "Executing Pipeline:   0%|          | 0/100 [00:00<?, ? Samples/s]"
     ]
    },
    {
     "name": "stdout",
     "output_type": "stream",
     "text": [
      "Initialised with 40 image(s) found.\n",
      "Output directory set to dataset\\R\\output."
     ]
    },
    {
     "name": "stderr",
     "output_type": "stream",
     "text": [
      "Processing <PIL.Image.Image image mode=RGB size=400x400 at 0x20599179E80>: 100%|██████████| 100/100 [00:00<00:00, 180.07 Samples/s]                \n",
      "Executing Pipeline:   0%|          | 0/100 [00:00<?, ? Samples/s]"
     ]
    },
    {
     "name": "stdout",
     "output_type": "stream",
     "text": [
      "Initialised with 40 image(s) found.\n",
      "Output directory set to dataset\\S\\output."
     ]
    },
    {
     "name": "stderr",
     "output_type": "stream",
     "text": [
      "Processing <PIL.JpegImagePlugin.JpegImageFile image mode=RGB size=400x400 at 0x2059918FC50>: 100%|██████████| 100/100 [00:00<00:00, 180.09 Samples/s]\n",
      "Processing <PIL.Image.Image image mode=RGB size=200x200 at 0x205991657F0>:   1%|          | 1/100 [00:00<00:16,  6.18 Samples/s]"
     ]
    },
    {
     "name": "stdout",
     "output_type": "stream",
     "text": [
      "Initialised with 40 image(s) found.\n",
      "Output directory set to dataset\\space\\output."
     ]
    },
    {
     "name": "stderr",
     "output_type": "stream",
     "text": [
      "Processing <PIL.JpegImagePlugin.JpegImageFile image mode=RGB size=200x200 at 0x205996A55F8>: 100%|██████████| 100/100 [00:00<00:00, 253.80 Samples/s]\n",
      "Executing Pipeline:   0%|          | 0/100 [00:00<?, ? Samples/s]"
     ]
    },
    {
     "name": "stdout",
     "output_type": "stream",
     "text": [
      "Initialised with 40 image(s) found.\n",
      "Output directory set to dataset\\T\\output."
     ]
    },
    {
     "name": "stderr",
     "output_type": "stream",
     "text": [
      "Processing <PIL.Image.Image image mode=RGB size=400x400 at 0x205996A1B38>: 100%|██████████| 100/100 [00:00<00:00, 174.55 Samples/s]                \n",
      "Executing Pipeline:   0%|          | 0/100 [00:00<?, ? Samples/s]"
     ]
    },
    {
     "name": "stdout",
     "output_type": "stream",
     "text": [
      "Initialised with 40 image(s) found.\n",
      "Output directory set to dataset\\U\\output."
     ]
    },
    {
     "name": "stderr",
     "output_type": "stream",
     "text": [
      "Processing <PIL.Image.Image image mode=RGB size=400x400 at 0x20599181438>: 100%|██████████| 100/100 [00:00<00:00, 169.99 Samples/s]                \n",
      "Processing <PIL.Image.Image image mode=RGB size=400x400 at 0x20599171048>:   0%|          | 0/100 [00:00<?, ? Samples/s]"
     ]
    },
    {
     "name": "stdout",
     "output_type": "stream",
     "text": [
      "Initialised with 40 image(s) found.\n",
      "Output directory set to dataset\\V\\output."
     ]
    },
    {
     "name": "stderr",
     "output_type": "stream",
     "text": [
      "Processing <PIL.JpegImagePlugin.JpegImageFile image mode=RGB size=400x400 at 0x20599171B38>: 100%|██████████| 100/100 [00:00<00:00, 191.18 Samples/s]\n",
      "Executing Pipeline:   0%|          | 0/100 [00:00<?, ? Samples/s]"
     ]
    },
    {
     "name": "stdout",
     "output_type": "stream",
     "text": [
      "Initialised with 40 image(s) found.\n",
      "Output directory set to dataset\\W\\output."
     ]
    },
    {
     "name": "stderr",
     "output_type": "stream",
     "text": [
      "Processing <PIL.JpegImagePlugin.JpegImageFile image mode=RGB size=400x400 at 0x2059918B198>: 100%|██████████| 100/100 [00:00<00:00, 180.34 Samples/s]\n",
      "Executing Pipeline:   0%|          | 0/100 [00:00<?, ? Samples/s]"
     ]
    },
    {
     "name": "stdout",
     "output_type": "stream",
     "text": [
      "Initialised with 40 image(s) found.\n",
      "Output directory set to dataset\\X\\output."
     ]
    },
    {
     "name": "stderr",
     "output_type": "stream",
     "text": [
      "Processing <PIL.Image.Image image mode=RGB size=400x400 at 0x205991750B8>: 100%|██████████| 100/100 [00:00<00:00, 184.00 Samples/s]                \n",
      "Executing Pipeline:   0%|          | 0/100 [00:00<?, ? Samples/s]"
     ]
    },
    {
     "name": "stdout",
     "output_type": "stream",
     "text": [
      "Initialised with 40 image(s) found.\n",
      "Output directory set to dataset\\Y\\output."
     ]
    },
    {
     "name": "stderr",
     "output_type": "stream",
     "text": [
      "Processing <PIL.Image.Image image mode=RGB size=400x400 at 0x20599182400>: 100%|██████████| 100/100 [00:02<00:00, 36.91 Samples/s]                 \n",
      "Processing <PIL.JpegImagePlugin.JpegImageFile image mode=RGB size=200x200 at 0x20599171A58>:   2%|▏         | 2/100 [00:00<00:10,  9.45 Samples/s]"
     ]
    },
    {
     "name": "stdout",
     "output_type": "stream",
     "text": [
      "Initialised with 40 image(s) found.\n",
      "Output directory set to dataset\\Z\\output."
     ]
    },
    {
     "name": "stderr",
     "output_type": "stream",
     "text": [
      "Processing <PIL.JpegImagePlugin.JpegImageFile image mode=RGB size=200x200 at 0x2059916E860>: 100%|██████████| 100/100 [00:00<00:00, 228.47 Samples/s]\n"
     ]
    }
   ],
   "source": [
    "training_path = dataset_path\n",
    "for i in dataset_list:\n",
    "    p = Augmentor.Pipeline(os.path.join(training_path, i))\n",
    "    p.zoom(probability=0.5, min_factor=1.1, max_factor=1.3)\n",
    "    p.sample(100)"
   ]
  },
  {
   "cell_type": "code",
   "execution_count": 42,
   "metadata": {},
   "outputs": [],
   "source": [
    "train_set = {}\n",
    "validation_set = {}\n",
    "test_set = {}\n",
    "\n",
    "for cat in dataset_list:\n",
    "    cat_dir = os.path.join(dataset_path, cat, 'output')\n",
    "    cat_files = os.listdir(cat_dir)\n",
    "    train_list, test_list = train_test_split(cat_files, test_size=0.3)\n",
    "    validation_list, test_list = train_test_split(test_list, test_size=0.5)\n",
    "    \n",
    "    train_set[cat] = train_list\n",
    "    test_set[cat] = test_list\n",
    "    validation_set[cat] = validation_list"
   ]
  },
  {
   "cell_type": "code",
   "execution_count": 43,
   "metadata": {},
   "outputs": [
    {
     "name": "stderr",
     "output_type": "stream",
     "text": [
      "100%|██████████| 29/29 [01:06<00:00,  2.31s/it]\n"
     ]
    }
   ],
   "source": [
    "for cat in tqdm(train_set.keys()):\n",
    "    cat_dir = os.path.join(dataset_path, 'training_set', 'class_' + str(cat))\n",
    "    os.makedirs(cat_dir)\n",
    "    for file in train_set[cat]:\n",
    "        image = cv2.imread(os.path.join(dataset_path, cat, 'output', file))\n",
    "        gray = cv2.cvtColor(image, cv2.COLOR_BGR2GRAY)\n",
    "        blurred = cv2.GaussianBlur(gray, (3, 3), 0)\n",
    "        src = cv2.Canny(blurred, 10, 100)\n",
    "        dest = os.path.join(cat_dir, file)\n",
    "        im = Image.fromarray(src)\n",
    "        im.save(dest)"
   ]
  },
  {
   "cell_type": "code",
   "execution_count": 44,
   "metadata": {},
   "outputs": [
    {
     "name": "stderr",
     "output_type": "stream",
     "text": [
      "100%|██████████| 29/29 [00:15<00:00,  1.82it/s]\n"
     ]
    }
   ],
   "source": [
    "for cat in tqdm(validation_set.keys()):\n",
    "    cat_dir = os.path.join(dataset_path, 'validation_set', 'class_' + str(cat))\n",
    "    os.makedirs(cat_dir)\n",
    "    for file in validation_set[cat]:\n",
    "        image = cv2.imread(os.path.join(dataset_path, cat, 'output', file))\n",
    "        gray = cv2.cvtColor(image, cv2.COLOR_BGR2GRAY)\n",
    "        blurred = cv2.GaussianBlur(gray, (3, 3), 0)\n",
    "        src = cv2.Canny(blurred, 10, 100)\n",
    "        dest = os.path.join(cat_dir, file)\n",
    "        im = Image.fromarray(src)\n",
    "        im.save(dest)"
   ]
  },
  {
   "cell_type": "code",
   "execution_count": 45,
   "metadata": {},
   "outputs": [
    {
     "name": "stderr",
     "output_type": "stream",
     "text": [
      "100%|██████████| 29/29 [00:13<00:00,  2.16it/s]\n"
     ]
    }
   ],
   "source": [
    "for cat in tqdm(test_set.keys()):\n",
    "    cat_dir = os.path.join(dataset_path, 'test_set', 'class_' + str(cat))\n",
    "    os.makedirs(cat_dir)\n",
    "    for file in test_set[cat]:\n",
    "        image = cv2.imread(os.path.join(dataset_path, cat, 'output', file))\n",
    "        gray = cv2.cvtColor(image, cv2.COLOR_BGR2GRAY)\n",
    "        blurred = cv2.GaussianBlur(gray, (3, 3), 0)\n",
    "        src = cv2.Canny(blurred, 10, 100)\n",
    "        dest = os.path.join(cat_dir, file)\n",
    "        im = Image.fromarray(src)\n",
    "        im.save(dest)"
   ]
  },
  {
   "cell_type": "code",
   "execution_count": 61,
   "metadata": {},
   "outputs": [
    {
     "name": "stdout",
     "output_type": "stream",
     "text": [
      "A- Training size: 70 Validation set: 15 Test set: 15\n",
      "B- Training size: 70 Validation set: 15 Test set: 15\n",
      "C- Training size: 70 Validation set: 15 Test set: 15\n",
      "D- Training size: 70 Validation set: 15 Test set: 15\n",
      "del- Training size: 70 Validation set: 15 Test set: 15\n",
      "E- Training size: 70 Validation set: 15 Test set: 15\n",
      "F- Training size: 70 Validation set: 15 Test set: 15\n",
      "G- Training size: 70 Validation set: 15 Test set: 15\n",
      "H- Training size: 70 Validation set: 15 Test set: 15\n",
      "I- Training size: 70 Validation set: 15 Test set: 15\n",
      "J- Training size: 70 Validation set: 15 Test set: 15\n",
      "K- Training size: 70 Validation set: 15 Test set: 15\n",
      "L- Training size: 70 Validation set: 15 Test set: 15\n",
      "M- Training size: 70 Validation set: 15 Test set: 15\n",
      "N- Training size: 70 Validation set: 15 Test set: 15\n",
      "nothing- Training size: 70 Validation set: 15 Test set: 15\n",
      "O- Training size: 70 Validation set: 15 Test set: 15\n",
      "P- Training size: 70 Validation set: 15 Test set: 15\n",
      "Q- Training size: 70 Validation set: 15 Test set: 15\n",
      "R- Training size: 70 Validation set: 15 Test set: 15\n",
      "S- Training size: 70 Validation set: 15 Test set: 15\n",
      "space- Training size: 70 Validation set: 15 Test set: 15\n",
      "T- Training size: 70 Validation set: 15 Test set: 15\n",
      "U- Training size: 70 Validation set: 15 Test set: 15\n",
      "V- Training size: 70 Validation set: 15 Test set: 15\n",
      "W- Training size: 70 Validation set: 15 Test set: 15\n",
      "X- Training size: 70 Validation set: 15 Test set: 15\n",
      "Y- Training size: 70 Validation set: 15 Test set: 15\n",
      "Z- Training size: 70 Validation set: 15 Test set: 15\n"
     ]
    }
   ],
   "source": [
    "for i in train_set.keys():\n",
    "    print(i+ \"- Training size: \"+ str(len(train_set[i]))+ \" Validation set: \"+ str(len(validation_set[i]))+ \" Test set: \"+ str(len(test_set[i])))"
   ]
  },
  {
   "cell_type": "code",
   "execution_count": 62,
   "metadata": {},
   "outputs": [
    {
     "name": "stdout",
     "output_type": "stream",
     "text": [
      "Found 8190 images belonging to 39 classes.\n",
      "Found 1755 images belonging to 39 classes.\n",
      "Found 1755 images belonging to 39 classes.\n"
     ]
    }
   ],
   "source": [
    "train_datagen = ImageDataGenerator(rescale=1./255, shear_range=0.2, zoom_range=0.2)\n",
    "validation_datagen = ImageDataGenerator(rescale=1./255)\n",
    "test_datagen = ImageDataGenerator(rescale=1./255)\n",
    "\n",
    "training_data = train_datagen.flow_from_directory(os.path.join(dataset_path, 'training_set'),\n",
    "                                                 target_size = (64,64),\n",
    "                                                 batch_size = 32,\n",
    "                                                 class_mode = 'categorical')\n",
    "\n",
    "validation_data = validation_datagen.flow_from_directory(os.path.join(dataset_path, 'validation_set'),\n",
    "                                            target_size = (64,64),\n",
    "                                            batch_size = 32,\n",
    "                                            class_mode = 'categorical')\n",
    "\n",
    "test_data = test_datagen.flow_from_directory(os.path.join(dataset_path, 'test_set'),\n",
    "                                            target_size = (64,64),\n",
    "                                            batch_size = 32,\n",
    "                                            class_mode = 'categorical')"
   ]
  },
  {
   "cell_type": "code",
   "execution_count": 64,
   "metadata": {},
   "outputs": [],
   "source": [
    "classifier = Sequential()\n",
    "\n",
    "classifier.add(Conv2D(32, (3,3), input_shape = (64,64,3), activation= 'relu'))\n",
    "BatchNormalization()\n",
    "classifier.add(MaxPooling2D(pool_size=(2,2)))\n",
    "classifier.add(Dropout(0.25))\n",
    "\n",
    "classifier.add(Conv2D(32, (3,3), activation = 'relu'))\n",
    "BatchNormalization()\n",
    "classifier.add(MaxPooling2D(pool_size = (2,2)))\n",
    "classifier.add(Dropout(0.25))\n",
    "\n",
    "classifier.add(Conv2D(32, (3,3), activation = 'relu'))\n",
    "classifier.add(MaxPooling2D(pool_size = (2,2)))\n",
    "classifier.add(Dropout(0.25))\n",
    "\n",
    "classifier.add(Flatten())\n",
    "classifier.add(Dense(units = 128, activation = 'relu'))\n",
    "classifier.add(Dense(units = 39, activation = 'softmax'))\n",
    "\n",
    "classifier.compile(optimizer = 'adam', loss = 'categorical_crossentropy', metrics = ['accuracy'])"
   ]
  },
  {
   "cell_type": "code",
   "execution_count": 65,
   "metadata": {},
   "outputs": [
    {
     "name": "stdout",
     "output_type": "stream",
     "text": [
      "Epoch 1/30\n",
      "256/256 [==============================] - 84s 326ms/step - loss: 2.9737 - acc: 0.1743 - val_loss: 2.5263 - val_acc: 0.2912\n",
      "Epoch 2/30\n",
      "256/256 [==============================] - 75s 294ms/step - loss: 2.3368 - acc: 0.3391 - val_loss: 1.9557 - val_acc: 0.4154\n",
      "Epoch 3/30\n",
      "256/256 [==============================] - 75s 292ms/step - loss: 1.8738 - acc: 0.4528 - val_loss: 1.6401 - val_acc: 0.5202\n",
      "Epoch 4/30\n",
      "256/256 [==============================] - 73s 287ms/step - loss: 1.6044 - acc: 0.5170 - val_loss: 1.4338 - val_acc: 0.5977\n",
      "Epoch 5/30\n",
      "256/256 [==============================] - 76s 296ms/step - loss: 1.3844 - acc: 0.5805 - val_loss: 1.2887 - val_acc: 0.6313\n",
      "Epoch 6/30\n",
      "256/256 [==============================] - 81s 315ms/step - loss: 1.2490 - acc: 0.6109 - val_loss: 1.2010 - val_acc: 0.6450\n",
      "Epoch 7/30\n",
      "256/256 [==============================] - 78s 306ms/step - loss: 1.1226 - acc: 0.6514 - val_loss: 1.1602 - val_acc: 0.6644\n",
      "Epoch 8/30\n",
      "256/256 [==============================] - 74s 291ms/step - loss: 1.0418 - acc: 0.6812 - val_loss: 1.0431 - val_acc: 0.6963\n",
      "Epoch 9/30\n",
      "256/256 [==============================] - 74s 288ms/step - loss: 0.9352 - acc: 0.7038 - val_loss: 0.9673 - val_acc: 0.7145\n",
      "Epoch 10/30\n",
      "256/256 [==============================] - 82s 320ms/step - loss: 0.8598 - acc: 0.7320 - val_loss: 0.9569 - val_acc: 0.7356\n",
      "Epoch 11/30\n",
      "256/256 [==============================] - 75s 294ms/step - loss: 0.8127 - acc: 0.7410 - val_loss: 0.9926 - val_acc: 0.7214\n",
      "Epoch 12/30\n",
      "256/256 [==============================] - 75s 291ms/step - loss: 0.7607 - acc: 0.7606 - val_loss: 0.8921 - val_acc: 0.7504\n",
      "Epoch 13/30\n",
      "256/256 [==============================] - 74s 291ms/step - loss: 0.7221 - acc: 0.7696 - val_loss: 0.9139 - val_acc: 0.7442\n",
      "Epoch 14/30\n",
      "256/256 [==============================] - 74s 290ms/step - loss: 0.6784 - acc: 0.7850 - val_loss: 0.9406 - val_acc: 0.7390\n",
      "Epoch 15/30\n",
      "256/256 [==============================] - 75s 294ms/step - loss: 0.6449 - acc: 0.8005 - val_loss: 0.9141 - val_acc: 0.7538\n",
      "Epoch 16/30\n",
      "256/256 [==============================] - 75s 293ms/step - loss: 0.6131 - acc: 0.8054 - val_loss: 0.8249 - val_acc: 0.7863\n",
      "Epoch 17/30\n",
      "256/256 [==============================] - 81s 318ms/step - loss: 0.5723 - acc: 0.8144 - val_loss: 0.8819 - val_acc: 0.7709\n",
      "Epoch 18/30\n",
      "256/256 [==============================] - 76s 296ms/step - loss: 0.5412 - acc: 0.8237 - val_loss: 0.8363 - val_acc: 0.7795\n",
      "Epoch 19/30\n",
      "256/256 [==============================] - 76s 295ms/step - loss: 0.5234 - acc: 0.8284 - val_loss: 0.8592 - val_acc: 0.7766\n",
      "Epoch 20/30\n",
      "256/256 [==============================] - 76s 296ms/step - loss: 0.4980 - acc: 0.8370 - val_loss: 0.8535 - val_acc: 0.7852\n",
      "Epoch 21/30\n",
      "256/256 [==============================] - 74s 289ms/step - loss: 0.4729 - acc: 0.8479 - val_loss: 0.8679 - val_acc: 0.7892\n",
      "Epoch 22/30\n",
      "256/256 [==============================] - 75s 291ms/step - loss: 0.4461 - acc: 0.8531 - val_loss: 0.8187 - val_acc: 0.7761\n",
      "Epoch 23/30\n",
      "256/256 [==============================] - 85s 330ms/step - loss: 0.4382 - acc: 0.8558 - val_loss: 0.8139 - val_acc: 0.7915\n",
      "Epoch 24/30\n",
      "256/256 [==============================] - 83s 324ms/step - loss: 0.4284 - acc: 0.8571 - val_loss: 0.8835 - val_acc: 0.7835\n",
      "Epoch 25/30\n",
      "256/256 [==============================] - 81s 318ms/step - loss: 0.4220 - acc: 0.8607 - val_loss: 0.8636 - val_acc: 0.7869\n",
      "Epoch 26/30\n",
      "256/256 [==============================] - 68s 264ms/step - loss: 0.3868 - acc: 0.8747 - val_loss: 0.8065 - val_acc: 0.8103\n",
      "Epoch 27/30\n",
      "256/256 [==============================] - 59s 230ms/step - loss: 0.3655 - acc: 0.8784 - val_loss: 0.8159 - val_acc: 0.8046\n",
      "Epoch 28/30\n",
      "256/256 [==============================] - 59s 231ms/step - loss: 0.3738 - acc: 0.8746 - val_loss: 0.7737 - val_acc: 0.8120\n",
      "Epoch 29/30\n",
      "256/256 [==============================] - 59s 229ms/step - loss: 0.3759 - acc: 0.8775 - val_loss: 0.8108 - val_acc: 0.7954\n",
      "Epoch 30/30\n",
      "256/256 [==============================] - 60s 235ms/step - loss: 0.3494 - acc: 0.8873 - val_loss: 0.8681 - val_acc: 0.8051\n"
     ]
    }
   ],
   "source": [
    "history = classifier.fit_generator(training_data,\n",
    "                                  steps_per_epoch= math.ceil(training_data.n/training_data.batch_size),\n",
    "                                  epochs=30,\n",
    "                                  validation_data= validation_data,\n",
    "                                  validation_steps= math.ceil(validation_data.n/validation_data.batch_size))"
   ]
  },
  {
   "cell_type": "code",
   "execution_count": 66,
   "metadata": {},
   "outputs": [
    {
     "data": {
      "text/plain": [
       "<matplotlib.legend.Legend at 0x205a1ed97f0>"
      ]
     },
     "execution_count": 66,
     "metadata": {},
     "output_type": "execute_result"
    },
    {
     "data": {
      "image/png": "[encoded data removed]",
      "text/plain": [
       "<Figure size 432x288 with 1 Axes>"
      ]
     },
     "metadata": {
      "needs_background": "light"
     },
     "output_type": "display_data"
    }
   ],
   "source": [
    "plt.plot(history.history['acc'])\n",
    "plt.plot(history.history['val_acc'])\n",
    "plt.title('Model Accuracy')\n",
    "plt.ylabel('accuracy')\n",
    "plt.xlabel('epoch')\n",
    "plt.legend(['Training', 'Validation'])\n"
   ]
  },
  {
   "cell_type": "code",
   "execution_count": 51,
   "metadata": {},
   "outputs": [
    {
     "name": "stdout",
     "output_type": "stream",
     "text": [
      "Accuracy on test set : 0.8712643680901363\n"
     ]
    }
   ],
   "source": [
    "test_loss, test_accuracy = classifier.evaluate_generator(test_data, math.ceil(test_data.n / test_data.batch_size))\n",
    "print(\"Accuracy on test set : {}\".format(test_accuracy))"
   ]
  },
  {
   "cell_type": "code",
   "execution_count": 52,
   "metadata": {},
   "outputs": [
    {
     "name": "stdout",
     "output_type": "stream",
     "text": [
      "Accuracy on validation set: 0.8643678154068432\n"
     ]
    }
   ],
   "source": [
    "validation_loss, validation_accuracy = classifier.evaluate_generator(validation_data, math.ceil(validation_data.n / validation_data.batch_size))\n",
    "print(\"Accuracy on validation set: {}\".format(validation_accuracy))"
   ]
  },
  {
   "cell_type": "code",
   "execution_count": null,
   "metadata": {},
   "outputs": [],
   "source": []
  },
  {
   "cell_type": "code",
   "execution_count": null,
   "metadata": {},
   "outputs": [],
   "source": []
  },
  {
   "cell_type": "code",
   "execution_count": 43,
   "metadata": {},
   "outputs": [],
   "source": [
    "import tensorflow as tf"
   ]
  },
  {
   "cell_type": "code",
   "execution_count": 15,
   "metadata": {},
   "outputs": [
    {
     "ename": "NameError",
     "evalue": "name 'classifier' is not defined",
     "output_type": "error",
     "traceback": [
      "\u001b[1;31m---------------------------------------------------------------------------\u001b[0m",
      "\u001b[1;31mNameError\u001b[0m                                 Traceback (most recent call last)",
      "\u001b[1;32m<ipython-input-15-2d4ba8232067>\u001b[0m in \u001b[0;36m<module>\u001b[1;34m\u001b[0m\n\u001b[1;32m----> 1\u001b[1;33m \u001b[0mclassifier_json\u001b[0m \u001b[1;33m=\u001b[0m \u001b[0mclassifier\u001b[0m\u001b[1;33m.\u001b[0m\u001b[0mto_json\u001b[0m\u001b[1;33m(\u001b[0m\u001b[1;33m)\u001b[0m\u001b[1;33m\u001b[0m\u001b[1;33m\u001b[0m\u001b[0m\n\u001b[0m\u001b[0;32m      2\u001b[0m \u001b[1;32mwith\u001b[0m \u001b[0mopen\u001b[0m\u001b[1;33m(\u001b[0m\u001b[1;34m\"model.json\"\u001b[0m\u001b[1;33m,\u001b[0m \u001b[1;34m\"w\"\u001b[0m\u001b[1;33m)\u001b[0m \u001b[1;32mas\u001b[0m \u001b[0mjson_file\u001b[0m\u001b[1;33m:\u001b[0m\u001b[1;33m\u001b[0m\u001b[1;33m\u001b[0m\u001b[0m\n\u001b[0;32m      3\u001b[0m     \u001b[0mjson_file\u001b[0m\u001b[1;33m.\u001b[0m\u001b[0mwrite\u001b[0m\u001b[1;33m(\u001b[0m\u001b[0mclassifier_json\u001b[0m\u001b[1;33m)\u001b[0m\u001b[1;33m\u001b[0m\u001b[1;33m\u001b[0m\u001b[0m\n\u001b[0;32m      4\u001b[0m \u001b[1;33m\u001b[0m\u001b[0m\n\u001b[0;32m      5\u001b[0m \u001b[0mclassifier\u001b[0m\u001b[1;33m.\u001b[0m\u001b[0msave_weights\u001b[0m\u001b[1;33m(\u001b[0m\u001b[1;34m\"model.h5\"\u001b[0m\u001b[1;33m)\u001b[0m\u001b[1;33m\u001b[0m\u001b[1;33m\u001b[0m\u001b[0m\n",
      "\u001b[1;31mNameError\u001b[0m: name 'classifier' is not defined"
     ]
    }
   ],
   "source": [
    "classifier_json = classifier.to_json()\n",
    "with open(\"model.json\", \"w\") as json_file:\n",
    "    json_file.write(classifier_json)\n",
    "\n",
    "classifier.save_weights(\"model.h5\")\n",
    "print(\"Model saved to disk\")"
   ]
  },
  {
   "cell_type": "code",
   "execution_count": 2,
   "metadata": {},
   "outputs": [
    {
     "name": "stdout",
     "output_type": "stream",
     "text": [
      "WARNING:tensorflow:From C:\\Users\\91876\\Anaconda3\\lib\\site-packages\\tensorflow\\python\\framework\\op_def_library.py:263: colocate_with (from tensorflow.python.framework.ops) is deprecated and will be removed in a future version.\n",
      "Instructions for updating:\n",
      "Colocations handled automatically by placer.\n",
      "WARNING:tensorflow:From C:\\Users\\91876\\Anaconda3\\lib\\site-packages\\keras\\backend\\tensorflow_backend.py:3445: calling dropout (from tensorflow.python.ops.nn_ops) with keep_prob is deprecated and will be removed in a future version.\n",
      "Instructions for updating:\n",
      "Please use `rate` instead of `keep_prob`. Rate should be set to `rate = 1 - keep_prob`.\n",
      "Loaded model from disk\n"
     ]
    }
   ],
   "source": [
    "json_file = open('model.json', 'r')\n",
    "loaded_model_json = json_file.read()\n",
    "json_file.close()\n",
    "\n",
    "loaded_model = model_from_json(loaded_model_json)\n",
    "\n",
    "loaded_model.load_weights(\"model.h5\")\n",
    "print('Loaded model from disk')"
   ]
  },
  {
   "cell_type": "code",
   "execution_count": 3,
   "metadata": {},
   "outputs": [
    {
     "name": "stdout",
     "output_type": "stream",
     "text": [
      "_________________________________________________________________\n",
      "Layer (type)                 Output Shape              Param #   \n",
      "=================================================================\n",
      "conv2d_10 (Conv2D)           (None, 62, 62, 32)        896       \n",
      "_________________________________________________________________\n",
      "max_pooling2d_10 (MaxPooling (None, 31, 31, 32)        0         \n",
      "_________________________________________________________________\n",
      "dropout_10 (Dropout)         (None, 31, 31, 32)        0         \n",
      "_________________________________________________________________\n",
      "conv2d_11 (Conv2D)           (None, 29, 29, 32)        9248      \n",
      "_________________________________________________________________\n",
      "max_pooling2d_11 (MaxPooling (None, 14, 14, 32)        0         \n",
      "_________________________________________________________________\n",
      "dropout_11 (Dropout)         (None, 14, 14, 32)        0         \n",
      "_________________________________________________________________\n",
      "conv2d_12 (Conv2D)           (None, 12, 12, 32)        9248      \n",
      "_________________________________________________________________\n",
      "max_pooling2d_12 (MaxPooling (None, 6, 6, 32)          0         \n",
      "_________________________________________________________________\n",
      "dropout_12 (Dropout)         (None, 6, 6, 32)          0         \n",
      "_________________________________________________________________\n",
      "flatten_4 (Flatten)          (None, 1152)              0         \n",
      "_________________________________________________________________\n",
      "dense_7 (Dense)              (None, 128)               147584    \n",
      "_________________________________________________________________\n",
      "dense_8 (Dense)              (None, 39)                5031      \n",
      "=================================================================\n",
      "Total params: 172,007\n",
      "Trainable params: 172,007\n",
      "Non-trainable params: 0\n",
      "_________________________________________________________________\n"
     ]
    }
   ],
   "source": [
    "loaded_model.summary()"
   ]
  },
  {
   "cell_type": "code",
   "execution_count": 4,
   "metadata": {},
   "outputs": [],
   "source": [
    "loaded_model.compile(optimizer = 'adam', loss = 'categorical_crossentropy', metrics = ['accuracy'])"
   ]
  },
  {
   "cell_type": "code",
   "execution_count": null,
   "metadata": {},
   "outputs": [],
   "source": []
  },
  {
   "cell_type": "code",
   "execution_count": null,
   "metadata": {},
   "outputs": [],
   "source": [
    "key = cv2.waitKey(1)\n",
    "webcam = cv2.VideoCapture(0)\n",
    "i= 10\n",
    "while True:\n",
    "    check, frame = webcam.read()\n",
    "    cv2.imshow(\"Capturing\", frame)\n",
    "    key = cv2.waitKey(1)\n",
    "    x,y,w,h = 0,0,300,300\n",
    "    cv2.rectangle(frame,(x,y),(x+w,y+h),(0,255,0),3)\n",
    "    roi = frame[y:y+h, x:x+w]\n",
    "    cv2.imshow(\"Capturing\", frame)\n",
    "    cv2.imwrite(filename='Images\\\\saved_img'+str(i)+'.jpg', img=roi)\n",
    "    cv2.waitKey(3000)\n",
    "    i += 1 \n",
    "    \n",
    "    if cv2.waitKey(1) & 0xFF == ord('q'):\n",
    "        break\n",
    "del webcam\n",
    "cv2.destroyAllWindows()    "
   ]
  },
  {
   "cell_type": "code",
   "execution_count": 5,
   "metadata": {
    "scrolled": true
   },
   "outputs": [],
   "source": [
    "import numpy as np\n",
    "from keras.preprocessing.image import img_to_array\n",
    "cat_dir = \"Images\"\n",
    "cat_files = os.listdir(cat_dir)\n",
    "\n",
    "for file in cat_files:\n",
    "    image = cv2.imread(os.path.join(cat_dir, file))\n",
    "    gray = cv2.cvtColor(image, cv2.COLOR_BGR2GRAY)\n",
    "    blurred = cv2.GaussianBlur(gray, (3, 3), 0)\n",
    "    src = cv2.Canny(blurred, 10, 150)\n",
    "    dest = os.path.join(cat_dir, file)\n",
    "    im = Image.fromarray(src)\n",
    "    im.save(dest)\n",
    "    \n"
   ]
  },
  {
   "cell_type": "code",
   "execution_count": 8,
   "metadata": {},
   "outputs": [
    {
     "name": "stdout",
     "output_type": "stream",
     "text": [
      "AMRBLHA\n"
     ]
    }
   ],
   "source": [
    "cat_dir = \"Images\"\n",
    "cat_files = os.listdir(cat_dir)\n",
    "sentence = ''\n",
    "for i in cat_files:\n",
    "    img = cv2.imread(os.path.join(cat_dir, i))\n",
    "#     plt.imshow(img)\n",
    "    dims = (64,64)\n",
    "    img1 = cv2.resize(img, dims, interpolation=cv2.INTER_AREA)\n",
    "    \n",
    "    image = img1/255\n",
    "    test_image = np.expand_dims(image, axis = 0)\n",
    "    \n",
    "    result = loaded_model.predict(test_image)\n",
    "#   print(result)\n",
    "    labels = np.argmax(result, axis=-1)  \n",
    "    if labels[0] == 0:\n",
    "        sentence += '0'\n",
    "    elif labels[0] == 1:\n",
    "        sentence += '1'\n",
    "    elif labels[0] == 2:\n",
    "        sentence += '2'\n",
    "    elif labels[0] == 3:\n",
    "        sentence += '3'\n",
    "    elif labels[0] == 4:\n",
    "        sentence += '4'\n",
    "    elif labels[0] == 5:\n",
    "        sentence += '5'\n",
    "    elif labels[0] == 6:\n",
    "        sentence += '6'\n",
    "    elif labels[0] == 7:\n",
    "        sentence += '7'\n",
    "    elif labels[0] == 8:\n",
    "        sentence += '8'\n",
    "    elif labels[0] == 9:\n",
    "        sentence += '9'\n",
    "    elif labels[0] == 10:\n",
    "        sentence += 'A'\n",
    "    elif labels[0] == 11:\n",
    "        sentence += 'B'\n",
    "    elif labels[0] == 12:\n",
    "        sentence += 'C'\n",
    "    elif labels[0] == 13:\n",
    "        sentence += 'D'\n",
    "    elif labels[0] == 36:\n",
    "        sentence = sentence[:-1]\n",
    "    elif labels[0] == 14:\n",
    "        sentence += 'E'\n",
    "    elif labels[0] == 15:\n",
    "        sentence += 'F'\n",
    "    elif labels[0] == 16:\n",
    "        sentence += 'G'\n",
    "    elif labels[0] == 17:\n",
    "        sentence += 'H'\n",
    "    elif labels[0] == 18:\n",
    "        sentence += 'I'\n",
    "    elif labels[0] == 19:\n",
    "        sentence += 'J'\n",
    "    elif labels[0] == 20:\n",
    "        sentence += 'K'\n",
    "    elif labels[0] == 21:\n",
    "        sentence += 'L'\n",
    "    elif labels[0] == 22:\n",
    "        sentence += 'M'\n",
    "    elif labels[0] == 23:\n",
    "        sentence += 'N'\n",
    "    elif labels[0] == 37:\n",
    "        sentence += ''\n",
    "    elif labels[0] == 24:\n",
    "        sentence += 'O'\n",
    "    elif labels[0] == 25:\n",
    "        sentence += 'P'\n",
    "    elif labels[0] == 26:\n",
    "        sentence += 'Q'\n",
    "    elif labels[0] == 27:\n",
    "        sentence += 'R'\n",
    "    elif labels[0] == 28:\n",
    "        sentence += 'S'\n",
    "    elif labels[0] == 38:\n",
    "        sentence += ' '\n",
    "    elif labels[0] == 29:\n",
    "        sentence += 'T'\n",
    "    elif labels[0] == 30:\n",
    "        sentence += 'U'\n",
    "    elif labels[0] == 31:\n",
    "        sentence += 'V'\n",
    "    elif labels[0] == 32:\n",
    "        sentence += 'W'\n",
    "    elif labels[0] == 33:\n",
    "        sentence += 'X'\n",
    "    elif labels[0] == 34:\n",
    "        sentence += 'Y'\n",
    "    elif labels[0] == 35:\n",
    "        sentence += 'Z'\n",
    "\n",
    "print(sentence)"
   ]
  },
  {
   "cell_type": "code",
   "execution_count": 9,
   "metadata": {},
   "outputs": [
    {
     "name": "stdout",
     "output_type": "stream",
     "text": [
      "Enter:\n",
      "1 for English\n",
      "2 for Kannada\n",
      "3 for Hindi\n",
      "4 for Telugu\n",
      "1\n"
     ]
    }
   ],
   "source": [
    "print(\"Enter:\")\n",
    "print(\"1 for English\")\n",
    "print(\"2 for Kannada\")\n",
    "print(\"3 for Hindi\")\n",
    "print(\"4 for Telugu\")\n",
    "lang = input()"
   ]
  },
  {
   "cell_type": "code",
   "execution_count": 10,
   "metadata": {},
   "outputs": [],
   "source": [
    "if lang == '1':\n",
    "    language = 'en'\n",
    "elif lang == '2':\n",
    "    language = 'kn'\n",
    "elif lang == '3':\n",
    "    language = 'hi'\n",
    "elif lang == '4':\n",
    "    language = 'te'\n",
    "else:\n",
    "    print('Please enter a proper value')"
   ]
  },
  {
   "cell_type": "markdown",
   "metadata": {},
   "source": []
  },
  {
   "cell_type": "code",
   "execution_count": null,
   "metadata": {},
   "outputs": [],
   "source": []
  },
  {
   "cell_type": "code",
   "execution_count": 11,
   "metadata": {},
   "outputs": [],
   "source": [
    "from google_trans_new import google_translator\n",
    "translator = google_translator()\n",
    "result = translator.translate(sentence.lower(), lang_tgt=language)"
   ]
  },
  {
   "cell_type": "code",
   "execution_count": 12,
   "metadata": {},
   "outputs": [
    {
     "name": "stdout",
     "output_type": "stream",
     "text": [
      "Ambelha \n"
     ]
    }
   ],
   "source": [
    "print(result)"
   ]
  },
  {
   "cell_type": "code",
   "execution_count": 13,
   "metadata": {},
   "outputs": [],
   "source": [
    "from gtts import gTTS"
   ]
  },
  {
   "cell_type": "code",
   "execution_count": 14,
   "metadata": {},
   "outputs": [
    {
     "data": {
      "text/plain": [
       "0"
      ]
     },
     "execution_count": 14,
     "metadata": {},
     "output_type": "execute_result"
    }
   ],
   "source": [
    "output = gTTS(text=result, lang=language, slow=False, tld='com')\n",
    "output.save('speech.mp3')\n",
    "\n",
    "os.system(\"start speech.mp3\")"
   ]
  },
  {
   "cell_type": "code",
   "execution_count": null,
   "metadata": {},
   "outputs": [],
   "source": []
  },
  {
   "cell_type": "code",
   "execution_count": null,
   "metadata": {},
   "outputs": [],
   "source": []
  },
  {
   "cell_type": "code",
   "execution_count": null,
   "metadata": {},
   "outputs": [],
   "source": []
  },
  {
   "cell_type": "code",
   "execution_count": null,
   "metadata": {},
   "outputs": [],
   "source": []
  },
  {
   "cell_type": "code",
   "execution_count": null,
   "metadata": {},
   "outputs": [],
   "source": []
  },
  {
   "cell_type": "code",
   "execution_count": 1,
   "metadata": {},
   "outputs": [],
   "source": []
  },
  {
   "cell_type": "code",
   "execution_count": null,
   "metadata": {},
   "outputs": [],
   "source": [
    "   "
   ]
  },
  {
   "cell_type": "code",
   "execution_count": null,
   "metadata": {},
   "outputs": [],
   "source": []
  },
  {
   "cell_type": "code",
   "execution_count": null,
   "metadata": {},
   "outputs": [],
   "source": []
  },
  {
   "cell_type": "code",
   "execution_count": null,
   "metadata": {},
   "outputs": [],
   "source": []
  },
  {
   "cell_type": "code",
   "execution_count": null,
   "metadata": {},
   "outputs": [],
   "source": []
  }
 ],
 "metadata": {
  "kernelspec": {
   "display_name": "Python 3",
   "language": "python",
   "name": "python3"
  },
  "language_info": {
   "codemirror_mode": {
    "name": "ipython",
    "version": 3
   },
   "file_extension": ".py",
   "mimetype": "text/x-python",
   "name": "python",
   "nbconvert_exporter": "python",
   "pygments_lexer": "ipython3",
   "version": "3.7.1"
  }
 },
 "nbformat": 4,
 "nbformat_minor": 2
}
