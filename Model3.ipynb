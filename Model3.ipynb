{
 "cells": [
  {
   "cell_type": "code",
   "execution_count": 1,
   "metadata": {},
   "outputs": [
    {
     "name": "stderr",
     "output_type": "stream",
     "text": [
      "Using TensorFlow backend.\n",
      "C:\\Users\\91876\\Anaconda3\\lib\\site-packages\\tensorflow\\python\\framework\\dtypes.py:526: FutureWarning: Passing (type, 1) or '1type' as a synonym of type is deprecated; in a future version of numpy, it will be understood as (type, (1,)) / '(1,)type'.\n",
      "  _np_qint8 = np.dtype([(\"qint8\", np.int8, 1)])\n",
      "C:\\Users\\91876\\Anaconda3\\lib\\site-packages\\tensorflow\\python\\framework\\dtypes.py:527: FutureWarning: Passing (type, 1) or '1type' as a synonym of type is deprecated; in a future version of numpy, it will be understood as (type, (1,)) / '(1,)type'.\n",
      "  _np_quint8 = np.dtype([(\"quint8\", np.uint8, 1)])\n",
      "C:\\Users\\91876\\Anaconda3\\lib\\site-packages\\tensorflow\\python\\framework\\dtypes.py:528: FutureWarning: Passing (type, 1) or '1type' as a synonym of type is deprecated; in a future version of numpy, it will be understood as (type, (1,)) / '(1,)type'.\n",
      "  _np_qint16 = np.dtype([(\"qint16\", np.int16, 1)])\n",
      "C:\\Users\\91876\\Anaconda3\\lib\\site-packages\\tensorflow\\python\\framework\\dtypes.py:529: FutureWarning: Passing (type, 1) or '1type' as a synonym of type is deprecated; in a future version of numpy, it will be understood as (type, (1,)) / '(1,)type'.\n",
      "  _np_quint16 = np.dtype([(\"quint16\", np.uint16, 1)])\n",
      "C:\\Users\\91876\\Anaconda3\\lib\\site-packages\\tensorflow\\python\\framework\\dtypes.py:530: FutureWarning: Passing (type, 1) or '1type' as a synonym of type is deprecated; in a future version of numpy, it will be understood as (type, (1,)) / '(1,)type'.\n",
      "  _np_qint32 = np.dtype([(\"qint32\", np.int32, 1)])\n",
      "C:\\Users\\91876\\Anaconda3\\lib\\site-packages\\tensorflow\\python\\framework\\dtypes.py:535: FutureWarning: Passing (type, 1) or '1type' as a synonym of type is deprecated; in a future version of numpy, it will be understood as (type, (1,)) / '(1,)type'.\n",
      "  np_resource = np.dtype([(\"resource\", np.ubyte, 1)])\n",
      "C:\\Users\\91876\\Anaconda3\\lib\\site-packages\\requests\\__init__.py:91: RequestsDependencyWarning: urllib3 (1.26.4) or chardet (3.0.4) doesn't match a supported version!\n",
      "  RequestsDependencyWarning)\n"
     ]
    }
   ],
   "source": [
    "import os, cv, math\n",
    "from keras.models import Sequential\n",
    "from keras.models import model_from_json\n",
    "from keras.layers import Conv2D\n",
    "from keras.layers import MaxPooling2D\n",
    "from keras.layers import Flatten\n",
    "from keras.layers import Dense\n",
    "from keras.layers import Dropout, BatchNormalization\n",
    "from keras.preprocessing.image import ImageDataGenerator\n",
    "from keras.preprocessing.image import load_img\n",
    "from keras.utils import plot_model\n",
    "import numpy as np\n",
    "from keras.preprocessing import image\n",
    "from sklearn.model_selection import train_test_split\n",
    "from shutil import copyfile\n",
    "from tqdm import tqdm\n",
    "import matplotlib.pyplot as plt\n",
    "import matplotlib.image as mpimg\n",
    "import Augmentor\n",
    "import cv2\n",
    "from PIL import Image\n",
    "import numpy as np\n",
    "%matplotlib inline"
   ]
  },
  {
   "cell_type": "code",
   "execution_count": 20,
   "metadata": {},
   "outputs": [
    {
     "name": "stdout",
     "output_type": "stream",
     "text": [
      "['0', '1', '2', '3', '4', '5', '6', '7', '8', '9', 'A', 'B', 'C', 'D', 'del', 'E', 'F', 'G', 'H', 'I', 'J', 'K', 'L', 'M', 'N', 'nothing', 'O', 'P', 'Q', 'R', 'S', 'space', 'T', 'U', 'V', 'W', 'X', 'Y', 'Z']\n"
     ]
    }
   ],
   "source": [
    "dataset_path = 'asl_dataset'\n",
    "dataset_list = os.listdir(dataset_path)\n",
    "print(dataset_list)"
   ]
  },
  {
   "cell_type": "code",
   "execution_count": 9,
   "metadata": {},
   "outputs": [
    {
     "name": "stderr",
     "output_type": "stream",
     "text": [
      "Processing <PIL.Image.Image image mode=RGB size=400x400 at 0x1700AF14B00>:   5%|▌         | 5/100 [00:00<00:13,  7.11 Samples/s]                  "
     ]
    },
    {
     "name": "stdout",
     "output_type": "stream",
     "text": [
      "Initialised with 70 image(s) found.\n",
      "Output directory set to asl_dataset_new\\0\\output."
     ]
    },
    {
     "name": "stderr",
     "output_type": "stream",
     "text": [
      "Processing <PIL.Image.Image image mode=RGB size=400x400 at 0x1700AF2BE80>: 100%|██████████| 100/100 [00:00<00:00, 239.18 Samples/s]                \n",
      "Processing <PIL.Image.Image image mode=RGB size=400x400 at 0x1700AF3A9E8>:   3%|▎         | 3/100 [00:00<00:10,  8.83 Samples/s]"
     ]
    },
    {
     "name": "stdout",
     "output_type": "stream",
     "text": [
      "Initialised with 70 image(s) found.\n",
      "Output directory set to asl_dataset_new\\1\\output."
     ]
    },
    {
     "name": "stderr",
     "output_type": "stream",
     "text": [
      "Processing <PIL.Image.Image image mode=RGB size=400x400 at 0x1700AF726D8>: 100%|██████████| 100/100 [00:00<00:00, 275.69 Samples/s]                \n",
      "Processing <PIL.Image.Image image mode=RGB size=400x400 at 0x1700AF491D0>:   5%|▌         | 5/100 [00:00<00:11,  8.43 Samples/s]                  "
     ]
    },
    {
     "name": "stdout",
     "output_type": "stream",
     "text": [
      "Initialised with 70 image(s) found.\n",
      "Output directory set to asl_dataset_new\\2\\output."
     ]
    },
    {
     "name": "stderr",
     "output_type": "stream",
     "text": [
      "Processing <PIL.JpegImagePlugin.JpegImageFile image mode=RGB size=400x400 at 0x1700AF63320>: 100%|██████████| 100/100 [00:00<00:00, 268.09 Samples/s]\n",
      "Processing <PIL.JpegImagePlugin.JpegImageFile image mode=RGB size=400x400 at 0x1700AF5A940>:   5%|▌         | 5/100 [00:00<00:10,  9.46 Samples/s]"
     ]
    },
    {
     "name": "stdout",
     "output_type": "stream",
     "text": [
      "Initialised with 70 image(s) found.\n",
      "Output directory set to asl_dataset_new\\3\\output."
     ]
    },
    {
     "name": "stderr",
     "output_type": "stream",
     "text": [
      "Processing <PIL.Image.Image image mode=RGB size=400x400 at 0x1700AF53160>: 100%|██████████| 100/100 [00:00<00:00, 237.25 Samples/s]                \n",
      "Processing <PIL.Image.Image image mode=RGB size=400x400 at 0x1700AF72278>:   2%|▏         | 2/100 [00:00<00:12,  8.04 Samples/s]"
     ]
    },
    {
     "name": "stdout",
     "output_type": "stream",
     "text": [
      "Initialised with 70 image(s) found.\n",
      "Output directory set to asl_dataset_new\\4\\output."
     ]
    },
    {
     "name": "stderr",
     "output_type": "stream",
     "text": [
      "Processing <PIL.JpegImagePlugin.JpegImageFile image mode=RGB size=400x400 at 0x1700AF729B0>: 100%|██████████| 100/100 [00:00<00:00, 221.71 Samples/s]\n",
      "Processing <PIL.JpegImagePlugin.JpegImageFile image mode=RGB size=400x400 at 0x1700AF25C18>:   4%|▍         | 4/100 [00:00<00:12,  7.54 Samples/s]"
     ]
    },
    {
     "name": "stdout",
     "output_type": "stream",
     "text": [
      "Initialised with 70 image(s) found.\n",
      "Output directory set to asl_dataset_new\\5\\output."
     ]
    },
    {
     "name": "stderr",
     "output_type": "stream",
     "text": [
      "Processing <PIL.Image.Image image mode=RGB size=400x400 at 0x1700AF72E80>: 100%|██████████| 100/100 [00:00<00:00, 213.79 Samples/s]                \n",
      "Processing <PIL.JpegImagePlugin.JpegImageFile image mode=RGB size=400x400 at 0x1700AF2BC50>:   5%|▌         | 5/100 [00:00<00:13,  7.14 Samples/s]"
     ]
    },
    {
     "name": "stdout",
     "output_type": "stream",
     "text": [
      "Initialised with 70 image(s) found.\n",
      "Output directory set to asl_dataset_new\\6\\output."
     ]
    },
    {
     "name": "stderr",
     "output_type": "stream",
     "text": [
      "Processing <PIL.Image.Image image mode=RGB size=400x400 at 0x1700ADCADA0>: 100%|██████████| 100/100 [00:00<00:00, 203.80 Samples/s]                \n",
      "Processing <PIL.JpegImagePlugin.JpegImageFile image mode=RGB size=400x400 at 0x1700AF00F60>:   6%|▌         | 6/100 [00:00<00:11,  7.96 Samples/s]"
     ]
    },
    {
     "name": "stdout",
     "output_type": "stream",
     "text": [
      "Initialised with 70 image(s) found.\n",
      "Output directory set to asl_dataset_new\\7\\output."
     ]
    },
    {
     "name": "stderr",
     "output_type": "stream",
     "text": [
      "Processing <PIL.Image.Image image mode=RGB size=400x400 at 0x1700AF2B208>: 100%|██████████| 100/100 [00:00<00:00, 258.56 Samples/s]                \n",
      "Processing <PIL.Image.Image image mode=RGB size=400x400 at 0x1700AF5AC18>:   6%|▌         | 6/100 [00:00<00:10,  8.88 Samples/s]                  "
     ]
    },
    {
     "name": "stdout",
     "output_type": "stream",
     "text": [
      "Initialised with 70 image(s) found.\n",
      "Output directory set to asl_dataset_new\\8\\output."
     ]
    },
    {
     "name": "stderr",
     "output_type": "stream",
     "text": [
      "Processing <PIL.Image.Image image mode=RGB size=400x400 at 0x1700AF35AC8>: 100%|██████████| 100/100 [00:00<00:00, 271.76 Samples/s]                \n",
      "Processing <PIL.Image.Image image mode=RGB size=400x400 at 0x1700AF53438>:   3%|▎         | 3/100 [00:00<00:12,  7.89 Samples/s]                  "
     ]
    },
    {
     "name": "stdout",
     "output_type": "stream",
     "text": [
      "Initialised with 70 image(s) found.\n",
      "Output directory set to asl_dataset_new\\9\\output."
     ]
    },
    {
     "name": "stderr",
     "output_type": "stream",
     "text": [
      "Processing <PIL.Image.Image image mode=RGB size=400x400 at 0x1700AF6ED68>: 100%|██████████| 100/100 [00:00<00:00, 267.38 Samples/s]                \n",
      "Processing <PIL.Image.Image image mode=RGB size=400x400 at 0x1700AF72D68>:   1%|          | 1/100 [00:00<00:13,  7.27 Samples/s]"
     ]
    },
    {
     "name": "stdout",
     "output_type": "stream",
     "text": [
      "Initialised with 70 image(s) found.\n",
      "Output directory set to asl_dataset_new\\a\\output."
     ]
    },
    {
     "name": "stderr",
     "output_type": "stream",
     "text": [
      "Processing <PIL.JpegImagePlugin.JpegImageFile image mode=RGB size=400x400 at 0x1700AF72A90>: 100%|██████████| 100/100 [00:00<00:00, 247.46 Samples/s]\n",
      "Processing <PIL.Image.Image image mode=RGB size=400x400 at 0x1700AF49C50>:   8%|▊         | 8/100 [00:00<00:10,  8.80 Samples/s]"
     ]
    },
    {
     "name": "stdout",
     "output_type": "stream",
     "text": [
      "Initialised with 70 image(s) found.\n",
      "Output directory set to asl_dataset_new\\b\\output."
     ]
    },
    {
     "name": "stderr",
     "output_type": "stream",
     "text": [
      "Processing <PIL.Image.Image image mode=RGB size=400x400 at 0x1700AF4B390>: 100%|██████████| 100/100 [00:00<00:00, 275.44 Samples/s]                \n",
      "Processing <PIL.JpegImagePlugin.JpegImageFile image mode=RGB size=400x400 at 0x1700AF14CC0>:   2%|▏         | 2/100 [00:00<00:14,  6.96 Samples/s]"
     ]
    },
    {
     "name": "stdout",
     "output_type": "stream",
     "text": [
      "Initialised with 70 image(s) found.\n",
      "Output directory set to asl_dataset_new\\c\\output."
     ]
    },
    {
     "name": "stderr",
     "output_type": "stream",
     "text": [
      "Processing <PIL.JpegImagePlugin.JpegImageFile image mode=RGB size=400x400 at 0x1700AF14CC0>: 100%|██████████| 100/100 [00:00<00:00, 209.97 Samples/s]\n",
      "Processing <PIL.JpegImagePlugin.JpegImageFile image mode=RGB size=400x400 at 0x1700AF3A2E8>:   1%|          | 1/100 [00:00<00:17,  5.76 Samples/s]"
     ]
    },
    {
     "name": "stdout",
     "output_type": "stream",
     "text": [
      "Initialised with 70 image(s) found.\n",
      "Output directory set to asl_dataset_new\\d\\output."
     ]
    },
    {
     "name": "stderr",
     "output_type": "stream",
     "text": [
      "Processing <PIL.JpegImagePlugin.JpegImageFile image mode=RGB size=400x400 at 0x1700AF71D68>: 100%|██████████| 100/100 [00:00<00:00, 186.59 Samples/s]\n",
      "Processing <PIL.JpegImagePlugin.JpegImageFile image mode=RGB size=400x400 at 0x1700AF00438>:   1%|          | 1/100 [00:00<00:15,  6.57 Samples/s]"
     ]
    },
    {
     "name": "stdout",
     "output_type": "stream",
     "text": [
      "Initialised with 70 image(s) found.\n",
      "Output directory set to asl_dataset_new\\e\\output."
     ]
    },
    {
     "name": "stderr",
     "output_type": "stream",
     "text": [
      "Processing <PIL.JpegImagePlugin.JpegImageFile image mode=RGB size=400x400 at 0x1700AF1DE48>: 100%|██████████| 100/100 [00:00<00:00, 208.86 Samples/s]\n",
      "Processing <PIL.JpegImagePlugin.JpegImageFile image mode=RGB size=400x400 at 0x1700AF49A58>:   1%|          | 1/100 [00:00<00:17,  5.80 Samples/s]"
     ]
    },
    {
     "name": "stdout",
     "output_type": "stream",
     "text": [
      "Initialised with 70 image(s) found.\n",
      "Output directory set to asl_dataset_new\\f\\output."
     ]
    },
    {
     "name": "stderr",
     "output_type": "stream",
     "text": [
      "Processing <PIL.JpegImagePlugin.JpegImageFile image mode=RGB size=400x400 at 0x1700AF89BE0>: 100%|██████████| 100/100 [00:00<00:00, 205.04 Samples/s]\n",
      "Processing <PIL.JpegImagePlugin.JpegImageFile image mode=RGB size=400x400 at 0x1700AF72E80>:   6%|▌         | 6/100 [00:00<00:09,  9.64 Samples/s]"
     ]
    },
    {
     "name": "stdout",
     "output_type": "stream",
     "text": [
      "Initialised with 70 image(s) found.\n",
      "Output directory set to asl_dataset_new\\g\\output."
     ]
    },
    {
     "name": "stderr",
     "output_type": "stream",
     "text": [
      "Processing <PIL.Image.Image image mode=RGB size=400x400 at 0x1700AF72358>: 100%|██████████| 100/100 [00:00<00:00, 268.84 Samples/s]                \n",
      "Processing <PIL.JpegImagePlugin.JpegImageFile image mode=RGB size=400x400 at 0x1700AF25B38>:   7%|▋         | 7/100 [00:00<00:09,  9.83 Samples/s]"
     ]
    },
    {
     "name": "stdout",
     "output_type": "stream",
     "text": [
      "Initialised with 70 image(s) found.\n",
      "Output directory set to asl_dataset_new\\h\\output."
     ]
    },
    {
     "name": "stderr",
     "output_type": "stream",
     "text": [
      "Processing <PIL.Image.Image image mode=RGB size=400x400 at 0x1700AF00B70>: 100%|██████████| 100/100 [00:00<00:00, 247.57 Samples/s]                \n",
      "Processing <PIL.Image.Image image mode=RGB size=400x400 at 0x1700AF49860>:   7%|▋         | 7/100 [00:00<00:05, 18.07 Samples/s]                  "
     ]
    },
    {
     "name": "stdout",
     "output_type": "stream",
     "text": [
      "Initialised with 70 image(s) found.\n",
      "Output directory set to asl_dataset_new\\i\\output."
     ]
    },
    {
     "name": "stderr",
     "output_type": "stream",
     "text": [
      "Processing <PIL.Image.Image image mode=RGB size=400x400 at 0x1700AF5A7B8>: 100%|██████████| 100/100 [00:00<00:00, 273.90 Samples/s]                \n",
      "Processing <PIL.JpegImagePlugin.JpegImageFile image mode=RGB size=400x400 at 0x1700AF53400>:   2%|▏         | 2/100 [00:00<00:14,  6.87 Samples/s]"
     ]
    },
    {
     "name": "stdout",
     "output_type": "stream",
     "text": [
      "Initialised with 70 image(s) found.\n",
      "Output directory set to asl_dataset_new\\j\\output."
     ]
    },
    {
     "name": "stderr",
     "output_type": "stream",
     "text": [
      "Processing <PIL.JpegImagePlugin.JpegImageFile image mode=RGB size=400x400 at 0x1700AF7A5F8>: 100%|██████████| 100/100 [00:00<00:00, 226.85 Samples/s]\n",
      "Processing <PIL.Image.Image image mode=RGB size=400x400 at 0x1700AF00A58>:   4%|▍         | 4/100 [00:00<00:11,  8.05 Samples/s]                  "
     ]
    },
    {
     "name": "stdout",
     "output_type": "stream",
     "text": [
      "Initialised with 70 image(s) found.\n",
      "Output directory set to asl_dataset_new\\k\\output."
     ]
    },
    {
     "name": "stderr",
     "output_type": "stream",
     "text": [
      "Processing <PIL.Image.Image image mode=RGB size=400x400 at 0x1700ADCA3C8>: 100%|██████████| 100/100 [00:00<00:00, 211.98 Samples/s]                \n",
      "Processing <PIL.Image.Image image mode=RGB size=400x400 at 0x1700AF14828>:   1%|          | 1/100 [00:00<00:12,  7.65 Samples/s]                  "
     ]
    },
    {
     "name": "stdout",
     "output_type": "stream",
     "text": [
      "Initialised with 70 image(s) found.\n",
      "Output directory set to asl_dataset_new\\l\\output."
     ]
    },
    {
     "name": "stderr",
     "output_type": "stream",
     "text": [
      "Processing <PIL.JpegImagePlugin.JpegImageFile image mode=RGB size=400x400 at 0x1700AF72D30>: 100%|██████████| 100/100 [00:00<00:00, 250.67 Samples/s]\n",
      "Processing <PIL.Image.Image image mode=RGB size=400x400 at 0x1700AF62CC0>:   2%|▏         | 2/100 [00:00<00:13,  7.21 Samples/s]                  "
     ]
    },
    {
     "name": "stdout",
     "output_type": "stream",
     "text": [
      "Initialised with 70 image(s) found.\n",
      "Output directory set to asl_dataset_new\\m\\output."
     ]
    },
    {
     "name": "stderr",
     "output_type": "stream",
     "text": [
      "Processing <PIL.JpegImagePlugin.JpegImageFile image mode=RGB size=400x400 at 0x1700AF3A518>: 100%|██████████| 100/100 [00:00<00:00, 222.82 Samples/s]\n",
      "Processing <PIL.JpegImagePlugin.JpegImageFile image mode=RGB size=400x400 at 0x1700AF00B38>:   3%|▎         | 3/100 [00:00<00:13,  7.43 Samples/s]"
     ]
    },
    {
     "name": "stdout",
     "output_type": "stream",
     "text": [
      "Initialised with 70 image(s) found.\n",
      "Output directory set to asl_dataset_new\\n\\output."
     ]
    },
    {
     "name": "stderr",
     "output_type": "stream",
     "text": [
      "Processing <PIL.Image.Image image mode=RGB size=400x400 at 0x1700AF72390>: 100%|██████████| 100/100 [00:00<00:00, 204.63 Samples/s]                \n",
      "Processing <PIL.JpegImagePlugin.JpegImageFile image mode=RGB size=200x200 at 0x1700AF728D0>:  14%|█▍        | 14/100 [00:00<00:02, 35.97 Samples/s]"
     ]
    },
    {
     "name": "stdout",
     "output_type": "stream",
     "text": [
      "Initialised with 70 image(s) found.\n",
      "Output directory set to asl_dataset_new\\nothing\\output."
     ]
    },
    {
     "name": "stderr",
     "output_type": "stream",
     "text": [
      "Processing <PIL.JpegImagePlugin.JpegImageFile image mode=RGB size=200x200 at 0x1700AF00550>: 100%|██████████| 100/100 [00:00<00:00, 352.53 Samples/s]\n",
      "Processing <PIL.JpegImagePlugin.JpegImageFile image mode=RGB size=400x400 at 0x1700AF72748>:   5%|▌         | 5/100 [00:00<00:12,  7.57 Samples/s]"
     ]
    },
    {
     "name": "stdout",
     "output_type": "stream",
     "text": [
      "Initialised with 70 image(s) found.\n",
      "Output directory set to asl_dataset_new\\o\\output."
     ]
    },
    {
     "name": "stderr",
     "output_type": "stream",
     "text": [
      "Processing <PIL.Image.Image image mode=RGB size=400x400 at 0x1700AF559B0>: 100%|██████████| 100/100 [00:00<00:00, 218.91 Samples/s]                \n",
      "Processing <PIL.JpegImagePlugin.JpegImageFile image mode=RGB size=400x400 at 0x1700AF14630>:   5%|▌         | 5/100 [00:00<00:10,  8.95 Samples/s]"
     ]
    },
    {
     "name": "stdout",
     "output_type": "stream",
     "text": [
      "Initialised with 70 image(s) found.\n",
      "Output directory set to asl_dataset_new\\p\\output."
     ]
    },
    {
     "name": "stderr",
     "output_type": "stream",
     "text": [
      "Processing <PIL.Image.Image image mode=RGB size=400x400 at 0x1700AF53F60>: 100%|██████████| 100/100 [00:00<00:00, 230.66 Samples/s]                \n",
      "Processing <PIL.Image.Image image mode=RGB size=400x400 at 0x1700AF2B198>:   1%|          | 1/100 [00:00<00:13,  7.54 Samples/s]"
     ]
    },
    {
     "name": "stdout",
     "output_type": "stream",
     "text": [
      "Initialised with 70 image(s) found.\n",
      "Output directory set to asl_dataset_new\\q\\output."
     ]
    },
    {
     "name": "stderr",
     "output_type": "stream",
     "text": [
      "Processing <PIL.Image.Image image mode=RGB size=400x400 at 0x1700AF3F0B8>: 100%|██████████| 100/100 [00:00<00:00, 207.72 Samples/s]                \n",
      "Processing <PIL.JpegImagePlugin.JpegImageFile image mode=RGB size=400x400 at 0x1700AF5AE10>:   6%|▌         | 6/100 [00:00<00:04, 19.10 Samples/s]"
     ]
    },
    {
     "name": "stdout",
     "output_type": "stream",
     "text": [
      "Initialised with 70 image(s) found.\n",
      "Output directory set to asl_dataset_new\\r\\output."
     ]
    },
    {
     "name": "stderr",
     "output_type": "stream",
     "text": [
      "Processing <PIL.Image.Image image mode=RGB size=400x400 at 0x1700AF555C0>: 100%|██████████| 100/100 [00:00<00:00, 256.40 Samples/s]                \n",
      "Processing <PIL.JpegImagePlugin.JpegImageFile image mode=RGB size=400x400 at 0x1700AF004A8>:   3%|▎         | 3/100 [00:00<00:11,  8.72 Samples/s]"
     ]
    },
    {
     "name": "stdout",
     "output_type": "stream",
     "text": [
      "Initialised with 70 image(s) found.\n",
      "Output directory set to asl_dataset_new\\s\\output."
     ]
    },
    {
     "name": "stderr",
     "output_type": "stream",
     "text": [
      "Processing <PIL.Image.Image image mode=RGB size=400x400 at 0x1700AF00DD8>: 100%|██████████| 100/100 [00:00<00:00, 244.54 Samples/s]                \n",
      "Processing <PIL.Image.Image image mode=RGB size=200x200 at 0x1700AF14B00>:  30%|███       | 30/100 [00:00<00:01, 55.70 Samples/s]                  "
     ]
    },
    {
     "name": "stdout",
     "output_type": "stream",
     "text": [
      "Initialised with 70 image(s) found.\n",
      "Output directory set to asl_dataset_new\\space\\output."
     ]
    },
    {
     "name": "stderr",
     "output_type": "stream",
     "text": [
      "Processing <PIL.JpegImagePlugin.JpegImageFile image mode=RGB size=200x200 at 0x1700AF72780>: 100%|██████████| 100/100 [00:00<00:00, 385.63 Samples/s]\n",
      "Processing <PIL.JpegImagePlugin.JpegImageFile image mode=RGB size=400x400 at 0x1700AF53320>:   6%|▌         | 6/100 [00:00<00:11,  8.29 Samples/s]"
     ]
    },
    {
     "name": "stdout",
     "output_type": "stream",
     "text": [
      "Initialised with 65 image(s) found.\n",
      "Output directory set to asl_dataset_new\\t\\output."
     ]
    },
    {
     "name": "stderr",
     "output_type": "stream",
     "text": [
      "Processing <PIL.JpegImagePlugin.JpegImageFile image mode=RGB size=400x400 at 0x1700AF2B780>: 100%|██████████| 100/100 [00:00<00:00, 236.14 Samples/s]\n",
      "Processing <PIL.JpegImagePlugin.JpegImageFile image mode=RGB size=400x400 at 0x1700AF49CC0>:   3%|▎         | 3/100 [00:00<00:11,  8.15 Samples/s]"
     ]
    },
    {
     "name": "stdout",
     "output_type": "stream",
     "text": [
      "Initialised with 70 image(s) found.\n",
      "Output directory set to asl_dataset_new\\u\\output."
     ]
    },
    {
     "name": "stderr",
     "output_type": "stream",
     "text": [
      "Processing <PIL.Image.Image image mode=RGB size=400x400 at 0x1700AF13BA8>: 100%|██████████| 100/100 [00:00<00:00, 219.87 Samples/s]                \n",
      "Processing <PIL.Image.Image image mode=RGB size=400x400 at 0x1700AF145F8>:   4%|▍         | 4/100 [00:00<00:11,  8.57 Samples/s]                  "
     ]
    },
    {
     "name": "stdout",
     "output_type": "stream",
     "text": [
      "Initialised with 70 image(s) found.\n",
      "Output directory set to asl_dataset_new\\v\\output."
     ]
    },
    {
     "name": "stderr",
     "output_type": "stream",
     "text": [
      "Processing <PIL.JpegImagePlugin.JpegImageFile image mode=RGB size=400x400 at 0x1700AF00B38>: 100%|██████████| 100/100 [00:00<00:00, 240.71 Samples/s]\n",
      "Processing <PIL.Image.Image image mode=RGB size=400x400 at 0x1700AF5AA58>:   6%|▌         | 6/100 [00:00<00:11,  8.15 Samples/s]                  "
     ]
    },
    {
     "name": "stdout",
     "output_type": "stream",
     "text": [
      "Initialised with 70 image(s) found.\n",
      "Output directory set to asl_dataset_new\\w\\output."
     ]
    },
    {
     "name": "stderr",
     "output_type": "stream",
     "text": [
      "Processing <PIL.JpegImagePlugin.JpegImageFile image mode=RGB size=400x400 at 0x1700AF28128>: 100%|██████████| 100/100 [00:00<00:00, 242.83 Samples/s]\n",
      "Processing <PIL.Image.Image image mode=RGB size=400x400 at 0x1700AF72780>:   1%|          | 1/100 [00:00<00:16,  6.11 Samples/s]"
     ]
    },
    {
     "name": "stdout",
     "output_type": "stream",
     "text": [
      "Initialised with 70 image(s) found.\n",
      "Output directory set to asl_dataset_new\\x\\output."
     ]
    },
    {
     "name": "stderr",
     "output_type": "stream",
     "text": [
      "Processing <PIL.Image.Image image mode=RGB size=400x400 at 0x1700AF62C88>: 100%|██████████| 100/100 [00:00<00:00, 167.67 Samples/s]                \n",
      "Processing <PIL.Image.Image image mode=RGB size=400x400 at 0x1700AF3A438>:   1%|          | 1/100 [00:00<00:18,  5.39 Samples/s]"
     ]
    },
    {
     "name": "stdout",
     "output_type": "stream",
     "text": [
      "Initialised with 70 image(s) found.\n",
      "Output directory set to asl_dataset_new\\y\\output."
     ]
    },
    {
     "name": "stderr",
     "output_type": "stream",
     "text": [
      "Processing <PIL.Image.Image image mode=RGB size=400x400 at 0x1700AF6EF28>: 100%|██████████| 100/100 [00:00<00:00, 174.06 Samples/s]                \n",
      "Processing <PIL.JpegImagePlugin.JpegImageFile image mode=RGB size=400x400 at 0x1700AF53BE0>:   6%|▌         | 6/100 [00:00<00:12,  7.71 Samples/s]"
     ]
    },
    {
     "name": "stdout",
     "output_type": "stream",
     "text": [
      "Initialised with 70 image(s) found.\n",
      "Output directory set to asl_dataset_new\\z\\output."
     ]
    },
    {
     "name": "stderr",
     "output_type": "stream",
     "text": [
      "Processing <PIL.JpegImagePlugin.JpegImageFile image mode=RGB size=400x400 at 0x1700AF76940>: 100%|██████████| 100/100 [00:00<00:00, 216.23 Samples/s]\n"
     ]
    }
   ],
   "source": [
    "training_path = dataset_path\n",
    "for i in dataset_list:\n",
    "    p = Augmentor.Pipeline(os.path.join(training_path, i))\n",
    "    p.zoom(probability=0.5, min_factor=1.1, max_factor=1.3)\n",
    "    p.sample(100)"
   ]
  },
  {
   "cell_type": "code",
   "execution_count": 21,
   "metadata": {},
   "outputs": [],
   "source": [
    "train_set = {}\n",
    "validation_set = {}\n",
    "test_set = {}\n",
    "\n",
    "for cat in dataset_list:\n",
    "    cat_dir = os.path.join(dataset_path, cat)\n",
    "    cat_files = os.listdir(cat_dir)\n",
    "    train_list, test_list = train_test_split(cat_files, test_size=0.3)\n",
    "    validation_list, test_list = train_test_split(test_list, test_size=0.5)\n",
    "    \n",
    "    train_set[cat] = train_list\n",
    "    test_set[cat] = test_list\n",
    "    validation_set[cat] = validation_list"
   ]
  },
  {
   "cell_type": "code",
   "execution_count": 22,
   "metadata": {},
   "outputs": [
    {
     "name": "stderr",
     "output_type": "stream",
     "text": [
      "100%|██████████| 39/39 [00:34<00:00,  1.14it/s]\n"
     ]
    }
   ],
   "source": [
    "for cat in tqdm(train_set.keys()):\n",
    "    cat_dir = os.path.join(dataset_path, 'training_set', 'class_' + str(cat))\n",
    "    os.makedirs(cat_dir)\n",
    "    for file in train_set[cat]:\n",
    "        image = cv2.imread(os.path.join(dataset_path, cat, file))\n",
    "        gray = cv2.cvtColor(image, cv2.COLOR_BGR2GRAY)\n",
    "        blurred = cv2.GaussianBlur(gray, (3, 3), 0)\n",
    "        src = cv2.Canny(blurred, 10, 100)\n",
    "        dest = os.path.join(cat_dir, file)\n",
    "        im = Image.fromarray(src)\n",
    "        im.save(dest)"
   ]
  },
  {
   "cell_type": "code",
   "execution_count": 23,
   "metadata": {},
   "outputs": [
    {
     "name": "stderr",
     "output_type": "stream",
     "text": [
      "100%|██████████| 39/39 [00:07<00:00,  5.17it/s]\n"
     ]
    }
   ],
   "source": [
    "for cat in tqdm(validation_set.keys()):\n",
    "    cat_dir = os.path.join(dataset_path, 'validation_set', 'class_' + str(cat))\n",
    "    os.makedirs(cat_dir)\n",
    "    for file in validation_set[cat]:\n",
    "        image = cv2.imread(os.path.join(dataset_path, cat, file))\n",
    "        gray = cv2.cvtColor(image, cv2.COLOR_BGR2GRAY)\n",
    "        blurred = cv2.GaussianBlur(gray, (3, 3), 0)\n",
    "        src = cv2.Canny(blurred, 10, 100)\n",
    "        dest = os.path.join(cat_dir, file)\n",
    "        im = Image.fromarray(src)\n",
    "        im.save(dest)"
   ]
  },
  {
   "cell_type": "code",
   "execution_count": 24,
   "metadata": {},
   "outputs": [
    {
     "name": "stderr",
     "output_type": "stream",
     "text": [
      "100%|██████████| 39/39 [00:07<00:00,  5.05it/s]\n"
     ]
    }
   ],
   "source": [
    "for cat in tqdm(test_set.keys()):\n",
    "    cat_dir = os.path.join(dataset_path, 'test_set', 'class_' + str(cat))\n",
    "    os.makedirs(cat_dir)\n",
    "    for file in test_set[cat]:\n",
    "        image = cv2.imread(os.path.join(dataset_path, cat, file))\n",
    "        gray = cv2.cvtColor(image, cv2.COLOR_BGR2GRAY)\n",
    "        blurred = cv2.GaussianBlur(gray, (3, 3), 0)\n",
    "        src = cv2.Canny(blurred, 10, 100)\n",
    "        dest = os.path.join(cat_dir, file)\n",
    "        im = Image.fromarray(src)\n",
    "        im.save(dest)"
   ]
  },
  {
   "cell_type": "code",
   "execution_count": 25,
   "metadata": {},
   "outputs": [
    {
     "name": "stdout",
     "output_type": "stream",
     "text": [
      "0- Training size: 143 Validation set: 31 Test set: 31\n",
      "1- Training size: 144 Validation set: 31 Test set: 31\n",
      "2- Training size: 144 Validation set: 31 Test set: 31\n",
      "3- Training size: 144 Validation set: 31 Test set: 31\n",
      "4- Training size: 144 Validation set: 31 Test set: 32\n",
      "5- Training size: 144 Validation set: 31 Test set: 32\n",
      "6- Training size: 144 Validation set: 31 Test set: 32\n",
      "7- Training size: 144 Validation set: 31 Test set: 31\n",
      "8- Training size: 145 Validation set: 31 Test set: 32\n",
      "9- Training size: 142 Validation set: 31 Test set: 31\n",
      "A- Training size: 210 Validation set: 45 Test set: 45\n",
      "B- Training size: 210 Validation set: 45 Test set: 45\n",
      "C- Training size: 210 Validation set: 45 Test set: 45\n",
      "D- Training size: 210 Validation set: 45 Test set: 45\n",
      "del- Training size: 210 Validation set: 45 Test set: 45\n",
      "E- Training size: 210 Validation set: 45 Test set: 45\n",
      "F- Training size: 210 Validation set: 45 Test set: 45\n",
      "G- Training size: 210 Validation set: 45 Test set: 45\n",
      "H- Training size: 210 Validation set: 45 Test set: 45\n",
      "I- Training size: 210 Validation set: 45 Test set: 45\n",
      "J- Training size: 210 Validation set: 45 Test set: 45\n",
      "K- Training size: 210 Validation set: 45 Test set: 45\n",
      "L- Training size: 210 Validation set: 45 Test set: 45\n",
      "M- Training size: 210 Validation set: 45 Test set: 45\n",
      "N- Training size: 210 Validation set: 45 Test set: 45\n",
      "nothing- Training size: 210 Validation set: 45 Test set: 45\n",
      "O- Training size: 210 Validation set: 45 Test set: 45\n",
      "P- Training size: 210 Validation set: 45 Test set: 45\n",
      "Q- Training size: 210 Validation set: 45 Test set: 45\n",
      "R- Training size: 210 Validation set: 45 Test set: 45\n",
      "S- Training size: 210 Validation set: 45 Test set: 45\n",
      "space- Training size: 210 Validation set: 45 Test set: 45\n",
      "T- Training size: 210 Validation set: 45 Test set: 45\n",
      "U- Training size: 210 Validation set: 45 Test set: 45\n",
      "V- Training size: 210 Validation set: 45 Test set: 45\n",
      "W- Training size: 210 Validation set: 45 Test set: 45\n",
      "X- Training size: 210 Validation set: 45 Test set: 45\n",
      "Y- Training size: 210 Validation set: 45 Test set: 45\n",
      "Z- Training size: 210 Validation set: 45 Test set: 45\n"
     ]
    }
   ],
   "source": [
    "for i in train_set.keys():\n",
    "    print(i+ \"- Training size: \"+ str(len(train_set[i]))+ \" Validation set: \"+ str(len(validation_set[i]))+ \" Test set: \"+ str(len(test_set[i])))"
   ]
  },
  {
   "cell_type": "code",
   "execution_count": 26,
   "metadata": {},
   "outputs": [
    {
     "name": "stdout",
     "output_type": "stream",
     "text": [
      "Found 7528 images belonging to 39 classes.\n",
      "Found 1615 images belonging to 39 classes.\n",
      "Found 1619 images belonging to 39 classes.\n"
     ]
    }
   ],
   "source": [
    "train_datagen = ImageDataGenerator(rescale=1./255, shear_range=0.2, zoom_range=0.2)\n",
    "validation_datagen = ImageDataGenerator(rescale=1./255)\n",
    "test_datagen = ImageDataGenerator(rescale=1./255)\n",
    "\n",
    "training_data = train_datagen.flow_from_directory(os.path.join(dataset_path, 'training_set'),\n",
    "                                                 target_size = (64,64),\n",
    "                                                 batch_size = 32,\n",
    "                                                 class_mode = 'categorical')\n",
    "\n",
    "validation_data = validation_datagen.flow_from_directory(os.path.join(dataset_path, 'validation_set'),\n",
    "                                            target_size = (64,64),\n",
    "                                            batch_size = 32,\n",
    "                                            class_mode = 'categorical')\n",
    "\n",
    "test_data = test_datagen.flow_from_directory(os.path.join(dataset_path, 'test_set'),\n",
    "                                            target_size = (64,64),\n",
    "                                            batch_size = 32,\n",
    "                                            class_mode = 'categorical')"
   ]
  },
  {
   "cell_type": "code",
   "execution_count": 27,
   "metadata": {},
   "outputs": [],
   "source": [
    "classifier = Sequential()\n",
    "\n",
    "classifier.add(Conv2D(32, (3,3), input_shape = (64,64,3), activation= 'relu'))\n",
    "BatchNormalization()\n",
    "classifier.add(MaxPooling2D(pool_size=(2,2)))\n",
    "classifier.add(Dropout(0.25))\n",
    "\n",
    "classifier.add(Conv2D(32, (3,3), activation = 'relu'))\n",
    "BatchNormalization()\n",
    "classifier.add(MaxPooling2D(pool_size = (2,2)))\n",
    "classifier.add(Dropout(0.25))\n",
    "\n",
    "classifier.add(Conv2D(32, (3,3), activation = 'relu'))\n",
    "classifier.add(MaxPooling2D(pool_size = (2,2)))\n",
    "classifier.add(Dropout(0.25))\n",
    "\n",
    "classifier.add(Flatten())\n",
    "classifier.add(Dense(units = 128, activation = 'relu'))\n",
    "classifier.add(Dense(units = 39, activation = 'softmax'))\n",
    "\n",
    "classifier.compile(optimizer = 'adam', loss = 'categorical_crossentropy', metrics = ['accuracy'])"
   ]
  },
  {
   "cell_type": "code",
   "execution_count": 28,
   "metadata": {},
   "outputs": [
    {
     "name": "stdout",
     "output_type": "stream",
     "text": [
      "Epoch 1/30\n",
      "236/236 [==============================] - 88s 373ms/step - loss: 3.0610 - acc: 0.1433 - val_loss: 2.4932 - val_acc: 0.2743\n",
      "Epoch 2/30\n",
      "236/236 [==============================] - 44s 186ms/step - loss: 2.3378 - acc: 0.3195 - val_loss: 1.8432 - val_acc: 0.4396\n",
      "Epoch 3/30\n",
      "236/236 [==============================] - 44s 187ms/step - loss: 1.8450 - acc: 0.4452 - val_loss: 1.5681 - val_acc: 0.5238\n",
      "Epoch 4/30\n",
      "236/236 [==============================] - 45s 192ms/step - loss: 1.5596 - acc: 0.5226 - val_loss: 1.4425 - val_acc: 0.5616\n",
      "Epoch 5/30\n",
      "236/236 [==============================] - 51s 215ms/step - loss: 1.3910 - acc: 0.5681 - val_loss: 1.1839 - val_acc: 0.6241\n",
      "Epoch 6/30\n",
      "236/236 [==============================] - 49s 208ms/step - loss: 1.2487 - acc: 0.6087 - val_loss: 1.0971 - val_acc: 0.6551\n",
      "Epoch 7/30\n",
      "236/236 [==============================] - 47s 200ms/step - loss: 1.1203 - acc: 0.6507 - val_loss: 1.0453 - val_acc: 0.6749\n",
      "Epoch 8/30\n",
      "236/236 [==============================] - 48s 202ms/step - loss: 1.0523 - acc: 0.6615 - val_loss: 0.9839 - val_acc: 0.6854\n",
      "Epoch 9/30\n",
      "236/236 [==============================] - 47s 200ms/step - loss: 0.9566 - acc: 0.6917 - val_loss: 0.9004 - val_acc: 0.7176\n",
      "Epoch 10/30\n",
      "236/236 [==============================] - 47s 199ms/step - loss: 0.8813 - acc: 0.7149 - val_loss: 0.8864 - val_acc: 0.7121\n",
      "Epoch 11/30\n",
      "236/236 [==============================] - 48s 205ms/step - loss: 0.8225 - acc: 0.7340 - val_loss: 0.8480 - val_acc: 0.7337\n",
      "Epoch 12/30\n",
      "236/236 [==============================] - 49s 207ms/step - loss: 0.7866 - acc: 0.7468 - val_loss: 0.8570 - val_acc: 0.7344\n",
      "Epoch 13/30\n",
      "236/236 [==============================] - 47s 200ms/step - loss: 0.7411 - acc: 0.7616 - val_loss: 0.8305 - val_acc: 0.7486\n",
      "Epoch 14/30\n",
      "236/236 [==============================] - 48s 201ms/step - loss: 0.7191 - acc: 0.7663 - val_loss: 0.7973 - val_acc: 0.7486\n",
      "Epoch 15/30\n",
      "236/236 [==============================] - 47s 199ms/step - loss: 0.6573 - acc: 0.7881 - val_loss: 0.7923 - val_acc: 0.7635\n",
      "Epoch 16/30\n",
      "236/236 [==============================] - 48s 203ms/step - loss: 0.6123 - acc: 0.7961 - val_loss: 0.7773 - val_acc: 0.7585\n",
      "Epoch 17/30\n",
      "236/236 [==============================] - 49s 207ms/step - loss: 0.5890 - acc: 0.8060 - val_loss: 0.7867 - val_acc: 0.7610\n",
      "Epoch 18/30\n",
      "236/236 [==============================] - 48s 203ms/step - loss: 0.5625 - acc: 0.8159 - val_loss: 0.7685 - val_acc: 0.7771\n",
      "Epoch 19/30\n",
      "236/236 [==============================] - 47s 200ms/step - loss: 0.5394 - acc: 0.8138 - val_loss: 0.7530 - val_acc: 0.7851\n",
      "Epoch 20/30\n",
      "236/236 [==============================] - 47s 200ms/step - loss: 0.5146 - acc: 0.8292 - val_loss: 0.7601 - val_acc: 0.7765\n",
      "Epoch 21/30\n",
      "236/236 [==============================] - 48s 205ms/step - loss: 0.5114 - acc: 0.8305 - val_loss: 0.7507 - val_acc: 0.7944\n",
      "Epoch 22/30\n",
      "236/236 [==============================] - 47s 200ms/step - loss: 0.4888 - acc: 0.8369 - val_loss: 0.7039 - val_acc: 0.7889\n",
      "Epoch 23/30\n",
      "236/236 [==============================] - 47s 200ms/step - loss: 0.4693 - acc: 0.8452 - val_loss: 0.7423 - val_acc: 0.7845\n",
      "Epoch 24/30\n",
      "236/236 [==============================] - 47s 201ms/step - loss: 0.4688 - acc: 0.8427 - val_loss: 0.7473 - val_acc: 0.7870\n",
      "Epoch 25/30\n",
      "236/236 [==============================] - 47s 200ms/step - loss: 0.4407 - acc: 0.8468 - val_loss: 0.7358 - val_acc: 0.7895\n",
      "Epoch 26/30\n",
      "236/236 [==============================] - 47s 200ms/step - loss: 0.4408 - acc: 0.8528 - val_loss: 0.7353 - val_acc: 0.7920\n",
      "Epoch 27/30\n",
      "236/236 [==============================] - 48s 204ms/step - loss: 0.4054 - acc: 0.8604 - val_loss: 0.7234 - val_acc: 0.7950\n",
      "Epoch 28/30\n",
      "236/236 [==============================] - 48s 205ms/step - loss: 0.3945 - acc: 0.8648 - val_loss: 0.7630 - val_acc: 0.7963\n",
      "Epoch 29/30\n",
      "236/236 [==============================] - 49s 206ms/step - loss: 0.4066 - acc: 0.8604 - val_loss: 0.7460 - val_acc: 0.7802\n",
      "Epoch 30/30\n",
      "236/236 [==============================] - 47s 198ms/step - loss: 0.3877 - acc: 0.8657 - val_loss: 0.7358 - val_acc: 0.7882\n"
     ]
    }
   ],
   "source": [
    "history = classifier.fit_generator(training_data,\n",
    "                                  steps_per_epoch= math.ceil(training_data.n/training_data.batch_size),\n",
    "                                  epochs=30,\n",
    "                                  validation_data= validation_data,\n",
    "                                  validation_steps= math.ceil(validation_data.n/validation_data.batch_size))"
   ]
  },
  {
   "cell_type": "code",
   "execution_count": 29,
   "metadata": {},
   "outputs": [
    {
     "data": {
      "text/plain": [
       "<matplotlib.legend.Legend at 0x2b710589278>"
      ]
     },
     "execution_count": 29,
     "metadata": {},
     "output_type": "execute_result"
    },
    {
     "data": {
      "image/png": "[encoded data removed]",
      "text/plain": [
       "<Figure size 432x288 with 1 Axes>"
      ]
     },
     "metadata": {
      "needs_background": "light"
     },
     "output_type": "display_data"
    }
   ],
   "source": [
    "plt.plot(history.history['acc'])\n",
    "plt.plot(history.history['val_acc'])\n",
    "plt.title('Model Accuracy')\n",
    "plt.ylabel('accuracy')\n",
    "plt.xlabel('epoch')\n",
    "plt.legend(['Training', 'Validation'])\n"
   ]
  },
  {
   "cell_type": "code",
   "execution_count": 12,
   "metadata": {},
   "outputs": [
    {
     "name": "stdout",
     "output_type": "stream",
     "text": [
      "Accuracy on test set : 0.9197035205077064\n"
     ]
    }
   ],
   "source": [
    "test_loss, test_accuracy = classifier.evaluate_generator(test_data, math.ceil(test_data.n / test_data.batch_size))\n",
    "print(\"Accuracy on test set : {}\".format(test_accuracy))"
   ]
  },
  {
   "cell_type": "code",
   "execution_count": 13,
   "metadata": {},
   "outputs": [
    {
     "name": "stdout",
     "output_type": "stream",
     "text": [
      "Accuracy on validation set: 0.9337461300309597\n"
     ]
    }
   ],
   "source": [
    "validation_loss, validation_accuracy = classifier.evaluate_generator(validation_data, math.ceil(validation_data.n / validation_data.batch_size))\n",
    "print(\"Accuracy on validation set: {}\".format(validation_accuracy))"
   ]
  },
  {
   "cell_type": "code",
   "execution_count": null,
   "metadata": {},
   "outputs": [],
   "source": []
  },
  {
   "cell_type": "code",
   "execution_count": null,
   "metadata": {},
   "outputs": [],
   "source": []
  },
  {
   "cell_type": "code",
   "execution_count": 43,
   "metadata": {},
   "outputs": [],
   "source": [
    "import tensorflow as tf"
   ]
  },
  {
   "cell_type": "code",
   "execution_count": 31,
   "metadata": {},
   "outputs": [
    {
     "name": "stdout",
     "output_type": "stream",
     "text": [
      "Model saved to disk\n"
     ]
    }
   ],
   "source": [
    "classifier_json = classifier.to_json()\n",
    "with open(\"model.json\", \"w\") as json_file:\n",
    "    json_file.write(classifier_json)\n",
    "\n",
    "classifier.save_weights(\"model.h5\")\n",
    "print(\"Model saved to disk\")"
   ]
  },
  {
   "cell_type": "code",
   "execution_count": 32,
   "metadata": {},
   "outputs": [
    {
     "name": "stdout",
     "output_type": "stream",
     "text": [
      "Loaded model from disk\n"
     ]
    }
   ],
   "source": [
    "json_file = open('model.json', 'r')\n",
    "loaded_model_json = json_file.read()\n",
    "json_file.close()\n",
    "\n",
    "loaded_model = model_from_json(loaded_model_json)\n",
    "\n",
    "loaded_model.load_weights(\"model.h5\")\n",
    "print('Loaded model from disk')"
   ]
  },
  {
   "cell_type": "code",
   "execution_count": 4,
   "metadata": {},
   "outputs": [
    {
     "name": "stdout",
     "output_type": "stream",
     "text": [
      "_________________________________________________________________\n",
      "Layer (type)                 Output Shape              Param #   \n",
      "=================================================================\n",
      "conv2d_4 (Conv2D)            (None, 62, 62, 32)        896       \n",
      "_________________________________________________________________\n",
      "max_pooling2d_4 (MaxPooling2 (None, 31, 31, 32)        0         \n",
      "_________________________________________________________________\n",
      "dropout_4 (Dropout)          (None, 31, 31, 32)        0         \n",
      "_________________________________________________________________\n",
      "conv2d_5 (Conv2D)            (None, 29, 29, 32)        9248      \n",
      "_________________________________________________________________\n",
      "max_pooling2d_5 (MaxPooling2 (None, 14, 14, 32)        0         \n",
      "_________________________________________________________________\n",
      "dropout_5 (Dropout)          (None, 14, 14, 32)        0         \n",
      "_________________________________________________________________\n",
      "conv2d_6 (Conv2D)            (None, 12, 12, 32)        9248      \n",
      "_________________________________________________________________\n",
      "max_pooling2d_6 (MaxPooling2 (None, 6, 6, 32)          0         \n",
      "_________________________________________________________________\n",
      "dropout_6 (Dropout)          (None, 6, 6, 32)          0         \n",
      "_________________________________________________________________\n",
      "flatten_2 (Flatten)          (None, 1152)              0         \n",
      "_________________________________________________________________\n",
      "dense_3 (Dense)              (None, 128)               147584    \n",
      "_________________________________________________________________\n",
      "dense_4 (Dense)              (None, 39)                5031      \n",
      "=================================================================\n",
      "Total params: 172,007\n",
      "Trainable params: 172,007\n",
      "Non-trainable params: 0\n",
      "_________________________________________________________________\n"
     ]
    }
   ],
   "source": [
    "loaded_model.summary()"
   ]
  },
  {
   "cell_type": "code",
   "execution_count": 34,
   "metadata": {},
   "outputs": [],
   "source": [
    "loaded_model.compile(optimizer = 'adam', loss = 'categorical_crossentropy', metrics = ['accuracy'])"
   ]
  },
  {
   "cell_type": "code",
   "execution_count": 41,
   "metadata": {
    "scrolled": true
   },
   "outputs": [],
   "source": [
    "import numpy as np\n",
    "from keras.preprocessing.image import img_to_array\n",
    "cat_dir = \"Images\"\n",
    "cat_files = os.listdir(cat_dir)\n",
    "\n",
    "for file in cat_files:\n",
    "    image = cv2.imread(os.path.join(cat_dir, file))\n",
    "    gray = cv2.cvtColor(image, cv2.COLOR_BGR2GRAY)\n",
    "    blurred = cv2.GaussianBlur(gray, (3, 3), 0)\n",
    "    src = cv2.Canny(blurred, 10, 150)\n",
    "    dest = os.path.join(cat_dir, file)\n",
    "    im = Image.fromarray(src)\n",
    "    im.save(dest)\n",
    "    \n"
   ]
  },
  {
   "cell_type": "code",
   "execution_count": 44,
   "metadata": {},
   "outputs": [
    {
     "name": "stdout",
     "output_type": "stream",
     "text": [
      "HO6 ABOGYO7\n"
     ]
    },
    {
     "data": {
      "image/png": "[encoded data removed]",
      "text/plain": [
       "<Figure size 432x288 with 1 Axes>"
      ]
     },
     "metadata": {
      "needs_background": "light"
     },
     "output_type": "display_data"
    }
   ],
   "source": [
    "cat_dir = \"Testttt\"\n",
    "cat_files = os.listdir(cat_dir)\n",
    "sentence = ''\n",
    "for i in cat_files:\n",
    "    img = cv2.imread(os.path.join(cat_dir, i))\n",
    "    plt.imshow(img)\n",
    "    dims = (64,64)\n",
    "    img1 = cv2.resize(img, dims, interpolation=cv2.INTER_AREA)\n",
    "    \n",
    "    image = img1/255\n",
    "    test_image = np.expand_dims(image, axis = 0)\n",
    "    \n",
    "    result = loaded_model.predict(test_image)\n",
    "#   print(result)\n",
    "    labels = np.argmax(result, axis=-1)  \n",
    "    if labels[0] == 0:\n",
    "        sentence += '0'\n",
    "    elif labels[0] == 1:\n",
    "        sentence += '1'\n",
    "    elif labels[0] == 2:\n",
    "        sentence += '2'\n",
    "    elif labels[0] == 3:\n",
    "        sentence += '3'\n",
    "    elif labels[0] == 4:\n",
    "        sentence += '4'\n",
    "    elif labels[0] == 5:\n",
    "        sentence += '5'\n",
    "    elif labels[0] == 6:\n",
    "        sentence += '6'\n",
    "    elif labels[0] == 7:\n",
    "        sentence += '7'\n",
    "    elif labels[0] == 8:\n",
    "        sentence += '8'\n",
    "    elif labels[0] == 9:\n",
    "        sentence += '9'\n",
    "    elif labels[0] == 10:\n",
    "        sentence += 'A'\n",
    "    elif labels[0] == 11:\n",
    "        sentence += 'B'\n",
    "    elif labels[0] == 12:\n",
    "        sentence += 'C'\n",
    "    elif labels[0] == 13:\n",
    "        sentence += 'D'\n",
    "    elif labels[0] == 36:\n",
    "        sentence = sentence[:-1]\n",
    "    elif labels[0] == 14:\n",
    "        sentence += 'E'\n",
    "    elif labels[0] == 15:\n",
    "        sentence += 'F'\n",
    "    elif labels[0] == 16:\n",
    "        sentence += 'G'\n",
    "    elif labels[0] == 17:\n",
    "        sentence += 'H'\n",
    "    elif labels[0] == 18:\n",
    "        sentence += 'I'\n",
    "    elif labels[0] == 19:\n",
    "        sentence += 'J'\n",
    "    elif labels[0] == 20:\n",
    "        sentence += 'K'\n",
    "    elif labels[0] == 21:\n",
    "        sentence += 'L'\n",
    "    elif labels[0] == 22:\n",
    "        sentence += 'M'\n",
    "    elif labels[0] == 23:\n",
    "        sentence += 'N'\n",
    "    elif labels[0] == 37:\n",
    "        sentence += ''\n",
    "    elif labels[0] == 24:\n",
    "        sentence += 'O'\n",
    "    elif labels[0] == 25:\n",
    "        sentence += 'P'\n",
    "    elif labels[0] == 26:\n",
    "        sentence += 'Q'\n",
    "    elif labels[0] == 27:\n",
    "        sentence += 'R'\n",
    "    elif labels[0] == 28:\n",
    "        sentence += 'S'\n",
    "    elif labels[0] == 38:\n",
    "        sentence += ' '\n",
    "    elif labels[0] == 29:\n",
    "        sentence += 'T'\n",
    "    elif labels[0] == 30:\n",
    "        sentence += 'U'\n",
    "    elif labels[0] == 31:\n",
    "        sentence += 'V'\n",
    "    elif labels[0] == 32:\n",
    "        sentence += 'W'\n",
    "    elif labels[0] == 33:\n",
    "        sentence += 'X'\n",
    "    elif labels[0] == 34:\n",
    "        sentence += 'Y'\n",
    "    elif labels[0] == 35:\n",
    "        sentence += 'Z'\n",
    "\n",
    "print(sentence)"
   ]
  },
  {
   "cell_type": "code",
   "execution_count": 8,
   "metadata": {},
   "outputs": [
    {
     "name": "stdout",
     "output_type": "stream",
     "text": [
      "Enter:\n",
      "1 for English\n",
      "2 for Kannada\n",
      "3 for Hindi\n",
      "4 for Telugu\n",
      "1\n"
     ]
    }
   ],
   "source": [
    "print(\"Enter:\")\n",
    "print(\"1 for English\")\n",
    "print(\"2 for Kannada\")\n",
    "print(\"3 for Hindi\")\n",
    "print(\"4 for Telugu\")\n",
    "lang = input()"
   ]
  },
  {
   "cell_type": "code",
   "execution_count": 9,
   "metadata": {},
   "outputs": [],
   "source": [
    "if lang == '1':\n",
    "    language = 'en'\n",
    "elif lang == '2':\n",
    "    language = 'kn'\n",
    "elif lang == '3':\n",
    "    language = 'hi'\n",
    "elif lang == '4':\n",
    "    language = 'te'\n",
    "else:\n",
    "    print('Please enter a proper value')"
   ]
  },
  {
   "cell_type": "code",
   "execution_count": 14,
   "metadata": {},
   "outputs": [
    {
     "name": "stdout",
     "output_type": "stream",
     "text": [
      "Collecting google_trans_new\n",
      "  Downloading google_trans_new-1.1.9-py3-none-any.whl (9.2 kB)\n",
      "Installing collected packages: google-trans-new\n",
      "Successfully installed google-trans-new-1.1.9\n"
     ]
    },
    {
     "name": "stderr",
     "output_type": "stream",
     "text": [
      "WARNING: You are using pip version 20.1.1; however, version 21.0.1 is available.\n",
      "You should consider upgrading via the 'c:\\users\\91876\\anaconda3\\python.exe -m pip install --upgrade pip' command.\n"
     ]
    }
   ],
   "source": [
    "!pip install google_trans_new"
   ]
  },
  {
   "cell_type": "code",
   "execution_count": null,
   "metadata": {},
   "outputs": [],
   "source": []
  },
  {
   "cell_type": "code",
   "execution_count": 10,
   "metadata": {},
   "outputs": [],
   "source": [
    "from google_trans_new import google_translator\n",
    "translator = google_translator()\n",
    "result = translator.translate(sentence.lower(), lang_tgt=language)"
   ]
  },
  {
   "cell_type": "code",
   "execution_count": 11,
   "metadata": {},
   "outputs": [
    {
     "name": "stdout",
     "output_type": "stream",
     "text": [
      "yow axe \n"
     ]
    }
   ],
   "source": [
    "print(result)"
   ]
  },
  {
   "cell_type": "code",
   "execution_count": 12,
   "metadata": {},
   "outputs": [],
   "source": [
    "from gtts import gTTS"
   ]
  },
  {
   "cell_type": "code",
   "execution_count": 13,
   "metadata": {},
   "outputs": [
    {
     "data": {
      "text/plain": [
       "0"
      ]
     },
     "execution_count": 13,
     "metadata": {},
     "output_type": "execute_result"
    }
   ],
   "source": [
    "output = gTTS(text=result, lang=language, slow=False, tld='com')\n",
    "output.save('speech.mp3')\n",
    "\n",
    "os.system(\"start speech.mp3\")"
   ]
  },
  {
   "cell_type": "code",
   "execution_count": null,
   "metadata": {},
   "outputs": [],
   "source": []
  },
  {
   "cell_type": "code",
   "execution_count": null,
   "metadata": {},
   "outputs": [],
   "source": []
  },
  {
   "cell_type": "code",
   "execution_count": null,
   "metadata": {},
   "outputs": [],
   "source": []
  },
  {
   "cell_type": "code",
   "execution_count": null,
   "metadata": {},
   "outputs": [],
   "source": []
  },
  {
   "cell_type": "code",
   "execution_count": null,
   "metadata": {},
   "outputs": [],
   "source": []
  },
  {
   "cell_type": "code",
   "execution_count": 1,
   "metadata": {},
   "outputs": [],
   "source": [
    "import cv2"
   ]
  },
  {
   "cell_type": "code",
   "execution_count": null,
   "metadata": {},
   "outputs": [],
   "source": [
    "key = cv2.waitKey(1)\n",
    "webcam = cv2.VideoCapture(0)\n",
    "i= 10\n",
    "while True:\n",
    "    check, frame = webcam.read()\n",
    "    cv2.imshow(\"Capturing\", frame)\n",
    "    key = cv2.waitKey(1)\n",
    "    x,y,w,h = 0,0,250,250\n",
    "    cv2.rectangle(frame,(x,y),(x+w,y+h),(0,255,0),3)\n",
    "    roi = frame[y:y+h, x:x+w]\n",
    "    cv2.imshow(\"Capturing\", frame)\n",
    "    cv2.imwrite(filename='Images\\\\saved_img'+str(i)+'.jpg', img=roi)\n",
    "    cv2.waitKey(3000)\n",
    "    i += 1 \n",
    "    \n",
    "    if cv2.waitKey(1) & 0xFF == ord('q'):\n",
    "        break\n",
    "webcam.release()\n",
    "cv2.destroyAllWindows()       "
   ]
  },
  {
   "cell_type": "code",
   "execution_count": null,
   "metadata": {},
   "outputs": [],
   "source": []
  },
  {
   "cell_type": "code",
   "execution_count": null,
   "metadata": {},
   "outputs": [],
   "source": []
  },
  {
   "cell_type": "code",
   "execution_count": null,
   "metadata": {},
   "outputs": [],
   "source": []
  },
  {
   "cell_type": "code",
   "execution_count": null,
   "metadata": {},
   "outputs": [],
   "source": []
  }
 ],
 "metadata": {
  "kernelspec": {
   "display_name": "Python 3",
   "language": "python",
   "name": "python3"
  },
  "language_info": {
   "codemirror_mode": {
    "name": "ipython",
    "version": 3
   },
   "file_extension": ".py",
   "mimetype": "text/x-python",
   "name": "python",
   "nbconvert_exporter": "python",
   "pygments_lexer": "ipython3",
   "version": "3.7.1"
  }
 },
 "nbformat": 4,
 "nbformat_minor": 2
}
