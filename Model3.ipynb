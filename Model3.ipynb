{
 "cells": [
  {
   "cell_type": "code",
   "execution_count": 1,
   "metadata": {},
   "outputs": [
    {
     "name": "stderr",
     "output_type": "stream",
     "text": [
      "Using TensorFlow backend.\n",
      "C:\\Users\\91876\\Anaconda3\\lib\\site-packages\\tensorflow\\python\\framework\\dtypes.py:526: FutureWarning: Passing (type, 1) or '1type' as a synonym of type is deprecated; in a future version of numpy, it will be understood as (type, (1,)) / '(1,)type'.\n",
      "  _np_qint8 = np.dtype([(\"qint8\", np.int8, 1)])\n",
      "C:\\Users\\91876\\Anaconda3\\lib\\site-packages\\tensorflow\\python\\framework\\dtypes.py:527: FutureWarning: Passing (type, 1) or '1type' as a synonym of type is deprecated; in a future version of numpy, it will be understood as (type, (1,)) / '(1,)type'.\n",
      "  _np_quint8 = np.dtype([(\"quint8\", np.uint8, 1)])\n",
      "C:\\Users\\91876\\Anaconda3\\lib\\site-packages\\tensorflow\\python\\framework\\dtypes.py:528: FutureWarning: Passing (type, 1) or '1type' as a synonym of type is deprecated; in a future version of numpy, it will be understood as (type, (1,)) / '(1,)type'.\n",
      "  _np_qint16 = np.dtype([(\"qint16\", np.int16, 1)])\n",
      "C:\\Users\\91876\\Anaconda3\\lib\\site-packages\\tensorflow\\python\\framework\\dtypes.py:529: FutureWarning: Passing (type, 1) or '1type' as a synonym of type is deprecated; in a future version of numpy, it will be understood as (type, (1,)) / '(1,)type'.\n",
      "  _np_quint16 = np.dtype([(\"quint16\", np.uint16, 1)])\n",
      "C:\\Users\\91876\\Anaconda3\\lib\\site-packages\\tensorflow\\python\\framework\\dtypes.py:530: FutureWarning: Passing (type, 1) or '1type' as a synonym of type is deprecated; in a future version of numpy, it will be understood as (type, (1,)) / '(1,)type'.\n",
      "  _np_qint32 = np.dtype([(\"qint32\", np.int32, 1)])\n",
      "C:\\Users\\91876\\Anaconda3\\lib\\site-packages\\tensorflow\\python\\framework\\dtypes.py:535: FutureWarning: Passing (type, 1) or '1type' as a synonym of type is deprecated; in a future version of numpy, it will be understood as (type, (1,)) / '(1,)type'.\n",
      "  np_resource = np.dtype([(\"resource\", np.ubyte, 1)])\n"
     ]
    }
   ],
   "source": [
    "import os, cv, math\n",
    "from keras.models import Sequential\n",
    "from keras.models import model_from_json\n",
    "from keras.layers import Conv2D\n",
    "from keras.layers import MaxPooling2D\n",
    "from keras.layers import Flatten\n",
    "from keras.layers import Dense\n",
    "from keras.layers import Dropout, BatchNormalization\n",
    "from keras.preprocessing.image import ImageDataGenerator\n",
    "from keras.preprocessing.image import load_img\n",
    "from keras.utils import plot_model\n",
    "import numpy as np\n",
    "from keras.preprocessing import image\n",
    "from sklearn.model_selection import train_test_split\n",
    "from shutil import copyfile\n",
    "from tqdm import tqdm\n",
    "import matplotlib.pyplot as plt\n",
    "import matplotlib.image as mpimg\n",
    "import Augmentor\n",
    "%matplotlib inline"
   ]
  },
  {
   "cell_type": "code",
   "execution_count": 2,
   "metadata": {},
   "outputs": [
    {
     "name": "stdout",
     "output_type": "stream",
     "text": [
      "['0', '1', '2', '3', '4', '5', '6', '7', '8', '9', 'A', 'B', 'C', 'D', 'del', 'E', 'F', 'G', 'H', 'I', 'J', 'K', 'L', 'M', 'N', 'nothing', 'O', 'P', 'Q', 'R', 'S', 'space', 'T', 'test_set', 'training_set', 'U', 'V', 'validation_set', 'W', 'X', 'Y', 'Z']\n"
     ]
    }
   ],
   "source": [
    "dataset_path = 'asl_dataset_augmented'\n",
    "dataset_list = os.listdir(dataset_path)\n",
    "print(dataset_list)"
   ]
  },
  {
   "cell_type": "code",
   "execution_count": 5,
   "metadata": {},
   "outputs": [
    {
     "name": "stderr",
     "output_type": "stream",
     "text": [
      "\r",
      "Executing Pipeline:   0%|          | 0/300 [00:00<?, ? Samples/s]"
     ]
    },
    {
     "name": "stdout",
     "output_type": "stream",
     "text": [
      "Initialised with 205 image(s) found.\n",
      "Output directory set to asl_dataset_augmented\\0\\output."
     ]
    },
    {
     "name": "stderr",
     "output_type": "stream",
     "text": [
      "Processing <PIL.JpegImagePlugin.JpegImageFile image mode=RGB size=100x100 at 0x23BB4D4B6D8>: 100%|██████████| 300/300 [00:01<00:00, 151.81 Samples/s]\n",
      "Executing Pipeline:   0%|          | 0/300 [00:00<?, ? Samples/s]"
     ]
    },
    {
     "name": "stdout",
     "output_type": "stream",
     "text": [
      "Initialised with 206 image(s) found.\n",
      "Output directory set to asl_dataset_augmented\\1\\output."
     ]
    },
    {
     "name": "stderr",
     "output_type": "stream",
     "text": [
      "Processing <PIL.Image.Image image mode=RGB size=100x100 at 0x23BB4DF72B0>: 100%|██████████| 300/300 [00:02<00:00, 133.76 Samples/s]                 \n",
      "Executing Pipeline:   0%|          | 0/300 [00:00<?, ? Samples/s]"
     ]
    },
    {
     "name": "stdout",
     "output_type": "stream",
     "text": [
      "Initialised with 206 image(s) found.\n",
      "Output directory set to asl_dataset_augmented\\2\\output."
     ]
    },
    {
     "name": "stderr",
     "output_type": "stream",
     "text": [
      "Processing <PIL.JpegImagePlugin.JpegImageFile image mode=RGB size=100x100 at 0x23BB4C6F630>: 100%|██████████| 300/300 [00:02<00:00, 123.02 Samples/s]\n",
      "Executing Pipeline:   0%|          | 0/300 [00:00<?, ? Samples/s]"
     ]
    },
    {
     "name": "stdout",
     "output_type": "stream",
     "text": [
      "Initialised with 206 image(s) found.\n",
      "Output directory set to asl_dataset_augmented\\3\\output."
     ]
    },
    {
     "name": "stderr",
     "output_type": "stream",
     "text": [
      "Processing <PIL.JpegImagePlugin.JpegImageFile image mode=RGB size=100x100 at 0x23BB4DBC7F0>: 100%|██████████| 300/300 [00:02<00:00, 114.15 Samples/s]\n",
      "Executing Pipeline:   0%|          | 0/300 [00:00<?, ? Samples/s]"
     ]
    },
    {
     "name": "stdout",
     "output_type": "stream",
     "text": [
      "Initialised with 207 image(s) found.\n",
      "Output directory set to asl_dataset_augmented\\4\\output."
     ]
    },
    {
     "name": "stderr",
     "output_type": "stream",
     "text": [
      "Processing <PIL.Image.Image image mode=RGB size=100x100 at 0x23BB4DCB550>: 100%|██████████| 300/300 [00:02<00:00, 108.58 Samples/s]                 \n",
      "Executing Pipeline:   0%|          | 0/300 [00:00<?, ? Samples/s]"
     ]
    },
    {
     "name": "stdout",
     "output_type": "stream",
     "text": [
      "Initialised with 207 image(s) found.\n",
      "Output directory set to asl_dataset_augmented\\5\\output."
     ]
    },
    {
     "name": "stderr",
     "output_type": "stream",
     "text": [
      "Processing <PIL.JpegImagePlugin.JpegImageFile image mode=RGB size=100x100 at 0x23BB4DD6EF0>: 100%|██████████| 300/300 [00:02<00:00, 114.68 Samples/s]\n",
      "Executing Pipeline:   0%|          | 0/300 [00:00<?, ? Samples/s]"
     ]
    },
    {
     "name": "stdout",
     "output_type": "stream",
     "text": [
      "Initialised with 207 image(s) found.\n",
      "Output directory set to asl_dataset_augmented\\6\\output."
     ]
    },
    {
     "name": "stderr",
     "output_type": "stream",
     "text": [
      "Processing <PIL.Image.Image image mode=RGB size=100x100 at 0x23BB4D1FE80>: 100%|██████████| 300/300 [00:02<00:00, 143.34 Samples/s]                 \n",
      "Executing Pipeline:   0%|          | 0/300 [00:00<?, ? Samples/s]"
     ]
    },
    {
     "name": "stdout",
     "output_type": "stream",
     "text": [
      "Initialised with 206 image(s) found.\n",
      "Output directory set to asl_dataset_augmented\\7\\output."
     ]
    },
    {
     "name": "stderr",
     "output_type": "stream",
     "text": [
      "Processing <PIL.JpegImagePlugin.JpegImageFile image mode=RGB size=100x100 at 0x23BB4DEB4E0>: 100%|██████████| 300/300 [00:02<00:00, 140.44 Samples/s] \n",
      "Processing <PIL.Image.Image image mode=RGB size=100x100 at 0x23BB4DC8518>:   0%|          | 0/300 [00:00<?, ? Samples/s]"
     ]
    },
    {
     "name": "stdout",
     "output_type": "stream",
     "text": [
      "Initialised with 208 image(s) found.\n",
      "Output directory set to asl_dataset_augmented\\8\\output."
     ]
    },
    {
     "name": "stderr",
     "output_type": "stream",
     "text": [
      "Processing <PIL.JpegImagePlugin.JpegImageFile image mode=RGB size=100x100 at 0x23BB4DC8748>: 100%|██████████| 300/300 [00:02<00:00, 129.13 Samples/s]\n",
      "Executing Pipeline:   0%|          | 0/300 [00:00<?, ? Samples/s]"
     ]
    },
    {
     "name": "stdout",
     "output_type": "stream",
     "text": [
      "Initialised with 204 image(s) found.\n",
      "Output directory set to asl_dataset_augmented\\9\\output."
     ]
    },
    {
     "name": "stderr",
     "output_type": "stream",
     "text": [
      "Processing <PIL.JpegImagePlugin.JpegImageFile image mode=RGB size=100x100 at 0x23BB4DD6668>: 100%|██████████| 300/300 [00:02<00:00, 111.44 Samples/s]\n",
      "Processing <PIL.Image.Image image mode=RGB size=200x200 at 0x23BB5E5FB00>:   1%|          | 2/300 [00:00<00:35,  8.31 Samples/s]                  "
     ]
    },
    {
     "name": "stdout",
     "output_type": "stream",
     "text": [
      "Initialised with 300 image(s) found.\n",
      "Output directory set to asl_dataset_augmented\\A\\output."
     ]
    },
    {
     "name": "stderr",
     "output_type": "stream",
     "text": [
      "Processing <PIL.JpegImagePlugin.JpegImageFile image mode=RGB size=200x200 at 0x23BB4D87A90>: 100%|██████████| 300/300 [00:00<00:00, 308.16 Samples/s]\n",
      "Processing <PIL.JpegImagePlugin.JpegImageFile image mode=RGB size=200x200 at 0x23BB4DF6208>:   1%|▏         | 4/300 [00:00<00:31,  9.30 Samples/s]"
     ]
    },
    {
     "name": "stdout",
     "output_type": "stream",
     "text": [
      "Initialised with 300 image(s) found.\n",
      "Output directory set to asl_dataset_augmented\\B\\output."
     ]
    },
    {
     "name": "stderr",
     "output_type": "stream",
     "text": [
      "Processing <PIL.Image.Image image mode=RGB size=200x200 at 0x23BB4DC86A0>: 100%|██████████| 300/300 [00:00<00:00, 317.92 Samples/s]                 \n",
      "Processing <PIL.JpegImagePlugin.JpegImageFile image mode=RGB size=200x200 at 0x23BB4DEDBE0>:   1%|          | 3/300 [00:00<00:30,  9.76 Samples/s]"
     ]
    },
    {
     "name": "stdout",
     "output_type": "stream",
     "text": [
      "Initialised with 300 image(s) found.\n",
      "Output directory set to asl_dataset_augmented\\C\\output."
     ]
    },
    {
     "name": "stderr",
     "output_type": "stream",
     "text": [
      "Processing <PIL.JpegImagePlugin.JpegImageFile image mode=RGB size=200x200 at 0x23BB4D15470>: 100%|██████████| 300/300 [00:00<00:00, 330.67 Samples/s]\n",
      "Processing <PIL.JpegImagePlugin.JpegImageFile image mode=RGB size=200x200 at 0x23BB4DC8C88>:   2%|▏         | 5/300 [00:00<00:10, 29.35 Samples/s]"
     ]
    },
    {
     "name": "stdout",
     "output_type": "stream",
     "text": [
      "Initialised with 300 image(s) found.\n",
      "Output directory set to asl_dataset_augmented\\D\\output."
     ]
    },
    {
     "name": "stderr",
     "output_type": "stream",
     "text": [
      "Processing <PIL.Image.Image image mode=RGB size=200x200 at 0x23BB4C698D0>: 100%|██████████| 300/300 [00:00<00:00, 311.51 Samples/s]                  \n",
      "Processing <PIL.JpegImagePlugin.JpegImageFile image mode=RGB size=200x200 at 0x23BB4CF3588>:   0%|          | 0/300 [00:00<?, ? Samples/s]"
     ]
    },
    {
     "name": "stdout",
     "output_type": "stream",
     "text": [
      "Initialised with 300 image(s) found.\n",
      "Output directory set to asl_dataset_augmented\\del\\output."
     ]
    },
    {
     "name": "stderr",
     "output_type": "stream",
     "text": [
      "Processing <PIL.JpegImagePlugin.JpegImageFile image mode=RGB size=200x200 at 0x23BB4D01748>: 100%|██████████| 300/300 [00:00<00:00, 300.07 Samples/s]\n",
      "Processing <PIL.JpegImagePlugin.JpegImageFile image mode=RGB size=200x200 at 0x23BB4DE3358>:   1%|          | 3/300 [00:00<00:31,  9.32 Samples/s]"
     ]
    },
    {
     "name": "stdout",
     "output_type": "stream",
     "text": [
      "Initialised with 300 image(s) found.\n",
      "Output directory set to asl_dataset_augmented\\E\\output."
     ]
    },
    {
     "name": "stderr",
     "output_type": "stream",
     "text": [
      "Processing <PIL.JpegImagePlugin.JpegImageFile image mode=RGB size=200x200 at 0x23BB4D4BE80>: 100%|██████████| 300/300 [00:00<00:00, 302.66 Samples/s]\n",
      "Processing <PIL.Image.Image image mode=RGB size=200x200 at 0x23BB4D0EF60>:   1%|          | 2/300 [00:00<00:38,  7.72 Samples/s]"
     ]
    },
    {
     "name": "stdout",
     "output_type": "stream",
     "text": [
      "Initialised with 300 image(s) found.\n",
      "Output directory set to asl_dataset_augmented\\F\\output."
     ]
    },
    {
     "name": "stderr",
     "output_type": "stream",
     "text": [
      "Processing <PIL.JpegImagePlugin.JpegImageFile image mode=RGB size=200x200 at 0x23BB4E09390>: 100%|██████████| 300/300 [00:01<00:00, 296.85 Samples/s]\n",
      "Processing <PIL.JpegImagePlugin.JpegImageFile image mode=RGB size=200x200 at 0x23BB4D044E0>:   1%|          | 2/300 [00:00<00:42,  7.01 Samples/s]"
     ]
    },
    {
     "name": "stdout",
     "output_type": "stream",
     "text": [
      "Initialised with 300 image(s) found.\n",
      "Output directory set to asl_dataset_augmented\\G\\output."
     ]
    },
    {
     "name": "stderr",
     "output_type": "stream",
     "text": [
      "Processing <PIL.Image.Image image mode=RGB size=200x200 at 0x23BB4C47C88>: 100%|██████████| 300/300 [00:00<00:00, 373.17 Samples/s]                 \n",
      "Processing <PIL.JpegImagePlugin.JpegImageFile image mode=RGB size=200x200 at 0x23BB4CF3668>:   0%|          | 1/300 [00:00<00:52,  5.67 Samples/s]"
     ]
    },
    {
     "name": "stdout",
     "output_type": "stream",
     "text": [
      "Initialised with 300 image(s) found.\n",
      "Output directory set to asl_dataset_augmented\\H\\output."
     ]
    },
    {
     "name": "stderr",
     "output_type": "stream",
     "text": [
      "Processing <PIL.JpegImagePlugin.JpegImageFile image mode=RGB size=200x200 at 0x23BB4E1A940>: 100%|██████████| 300/300 [00:00<00:00, 302.13 Samples/s]\n",
      "Processing <PIL.JpegImagePlugin.JpegImageFile image mode=RGB size=200x200 at 0x23BB4D13D68>:   1%|▏         | 4/300 [00:00<00:37,  7.92 Samples/s]"
     ]
    },
    {
     "name": "stdout",
     "output_type": "stream",
     "text": [
      "Initialised with 300 image(s) found.\n",
      "Output directory set to asl_dataset_augmented\\I\\output."
     ]
    },
    {
     "name": "stderr",
     "output_type": "stream",
     "text": [
      "Processing <PIL.Image.Image image mode=RGB size=200x200 at 0x23BB4DE3AC8>: 100%|██████████| 300/300 [00:00<00:00, 337.54 Samples/s]                 \n",
      "Processing <PIL.Image.Image image mode=RGB size=200x200 at 0x23BB4D4B8D0>:   0%|          | 1/300 [00:00<00:54,  5.45 Samples/s]"
     ]
    },
    {
     "name": "stdout",
     "output_type": "stream",
     "text": [
      "Initialised with 300 image(s) found.\n",
      "Output directory set to asl_dataset_augmented\\J\\output."
     ]
    },
    {
     "name": "stderr",
     "output_type": "stream",
     "text": [
      "Processing <PIL.Image.Image image mode=RGB size=200x200 at 0x23BB4D80EF0>: 100%|██████████| 300/300 [00:01<00:00, 297.79 Samples/s]                 \n",
      "Processing <PIL.JpegImagePlugin.JpegImageFile image mode=RGB size=200x200 at 0x23BB4DE3198>:   1%|▏         | 4/300 [00:00<00:35,  8.27 Samples/s]"
     ]
    },
    {
     "name": "stdout",
     "output_type": "stream",
     "text": [
      "Initialised with 300 image(s) found.\n",
      "Output directory set to asl_dataset_augmented\\K\\output."
     ]
    },
    {
     "name": "stderr",
     "output_type": "stream",
     "text": [
      "Processing <PIL.Image.Image image mode=RGB size=200x200 at 0x23BB4C695C0>: 100%|██████████| 300/300 [00:00<00:00, 332.99 Samples/s]                 \n",
      "Processing <PIL.Image.Image image mode=RGB size=200x200 at 0x23BB4D05550>:   2%|▏         | 5/300 [00:00<00:11, 25.71 Samples/s]                  "
     ]
    },
    {
     "name": "stdout",
     "output_type": "stream",
     "text": [
      "Initialised with 300 image(s) found.\n",
      "Output directory set to asl_dataset_augmented\\L\\output."
     ]
    },
    {
     "name": "stderr",
     "output_type": "stream",
     "text": [
      "Processing <PIL.Image.Image image mode=RGB size=200x200 at 0x23BB4D98AC8>: 100%|██████████| 300/300 [00:00<00:00, 336.67 Samples/s]                  \n",
      "Processing <PIL.JpegImagePlugin.JpegImageFile image mode=RGB size=200x200 at 0x23BB4CECA20>:   1%|▏         | 4/300 [00:00<00:37,  7.82 Samples/s]"
     ]
    },
    {
     "name": "stdout",
     "output_type": "stream",
     "text": [
      "Initialised with 300 image(s) found.\n",
      "Output directory set to asl_dataset_augmented\\M\\output."
     ]
    },
    {
     "name": "stderr",
     "output_type": "stream",
     "text": [
      "Processing <PIL.Image.Image image mode=RGB size=200x200 at 0x23BB4D804A8>: 100%|██████████| 300/300 [00:00<00:00, 334.27 Samples/s]                 \n",
      "Processing <PIL.Image.Image image mode=RGB size=200x200 at 0x23BB4CF69E8>:   1%|          | 3/300 [00:00<00:31,  9.55 Samples/s]                  "
     ]
    },
    {
     "name": "stdout",
     "output_type": "stream",
     "text": [
      "Initialised with 300 image(s) found.\n",
      "Output directory set to asl_dataset_augmented\\N\\output."
     ]
    },
    {
     "name": "stderr",
     "output_type": "stream",
     "text": [
      "Processing <PIL.Image.Image image mode=RGB size=200x200 at 0x23BB4CF3EF0>: 100%|██████████| 300/300 [00:00<00:00, 314.71 Samples/s]                 \n",
      "Processing <PIL.Image.Image image mode=RGB size=200x200 at 0x23BB4D2F278>:   1%|▏         | 4/300 [00:00<00:43,  6.79 Samples/s]                  "
     ]
    },
    {
     "name": "stdout",
     "output_type": "stream",
     "text": [
      "Initialised with 300 image(s) found.\n",
      "Output directory set to asl_dataset_augmented\\nothing\\output."
     ]
    },
    {
     "name": "stderr",
     "output_type": "stream",
     "text": [
      "Processing <PIL.JpegImagePlugin.JpegImageFile image mode=RGB size=200x200 at 0x23BB4D141D0>: 100%|██████████| 300/300 [00:00<00:00, 360.08 Samples/s]\n",
      "Processing <PIL.JpegImagePlugin.JpegImageFile image mode=RGB size=200x200 at 0x23BB4D10780>:   2%|▏         | 6/300 [00:00<00:15, 18.88 Samples/s]"
     ]
    },
    {
     "name": "stdout",
     "output_type": "stream",
     "text": [
      "Initialised with 300 image(s) found.\n",
      "Output directory set to asl_dataset_augmented\\O\\output."
     ]
    },
    {
     "name": "stderr",
     "output_type": "stream",
     "text": [
      "Processing <PIL.JpegImagePlugin.JpegImageFile image mode=RGB size=200x200 at 0x23BB4D98C18>: 100%|██████████| 300/300 [00:00<00:00, 310.45 Samples/s]\n",
      "Processing <PIL.Image.Image image mode=RGB size=200x200 at 0x23BB5E438D0>:   1%|          | 3/300 [00:00<00:33,  8.92 Samples/s]                  "
     ]
    },
    {
     "name": "stdout",
     "output_type": "stream",
     "text": [
      "Initialised with 300 image(s) found.\n",
      "Output directory set to asl_dataset_augmented\\P\\output."
     ]
    },
    {
     "name": "stderr",
     "output_type": "stream",
     "text": [
      "Processing <PIL.Image.Image image mode=RGB size=200x200 at 0x23BB4D98320>: 100%|██████████| 300/300 [00:00<00:00, 312.13 Samples/s]                 \n",
      "Processing <PIL.Image.Image image mode=RGB size=200x200 at 0x23BB4D0DE10>:   0%|          | 1/300 [00:00<00:51,  5.84 Samples/s]"
     ]
    },
    {
     "name": "stdout",
     "output_type": "stream",
     "text": [
      "Initialised with 300 image(s) found.\n",
      "Output directory set to asl_dataset_augmented\\Q\\output."
     ]
    },
    {
     "name": "stderr",
     "output_type": "stream",
     "text": [
      "Processing <PIL.JpegImagePlugin.JpegImageFile image mode=RGB size=200x200 at 0x23BB4D1EBE0>: 100%|██████████| 300/300 [00:00<00:00, 325.73 Samples/s]\n",
      "Processing <PIL.JpegImagePlugin.JpegImageFile image mode=RGB size=200x200 at 0x23BB4DE3940>:   1%|▏         | 4/300 [00:00<00:31,  9.49 Samples/s]"
     ]
    },
    {
     "name": "stdout",
     "output_type": "stream",
     "text": [
      "Initialised with 300 image(s) found.\n",
      "Output directory set to asl_dataset_augmented\\R\\output."
     ]
    },
    {
     "name": "stderr",
     "output_type": "stream",
     "text": [
      "Processing <PIL.JpegImagePlugin.JpegImageFile image mode=RGB size=200x200 at 0x23BB4D1EC50>: 100%|██████████| 300/300 [00:00<00:00, 309.22 Samples/s]\n",
      "Processing <PIL.Image.Image image mode=RGB size=200x200 at 0x23BB4C69198>:   2%|▏         | 5/300 [00:00<00:15, 18.57 Samples/s]                  "
     ]
    },
    {
     "name": "stdout",
     "output_type": "stream",
     "text": [
      "Initialised with 300 image(s) found.\n",
      "Output directory set to asl_dataset_augmented\\S\\output."
     ]
    },
    {
     "name": "stderr",
     "output_type": "stream",
     "text": [
      "Processing <PIL.Image.Image image mode=RGB size=200x200 at 0x23BB4D4B208>: 100%|██████████| 300/300 [00:00<00:00, 331.39 Samples/s]                 \n",
      "Processing <PIL.JpegImagePlugin.JpegImageFile image mode=RGB size=200x200 at 0x23BB4C7D2E8>:   2%|▏         | 6/300 [00:00<00:14, 19.96 Samples/s]"
     ]
    },
    {
     "name": "stdout",
     "output_type": "stream",
     "text": [
      "Initialised with 300 image(s) found.\n",
      "Output directory set to asl_dataset_augmented\\space\\output."
     ]
    },
    {
     "name": "stderr",
     "output_type": "stream",
     "text": [
      "Processing <PIL.JpegImagePlugin.JpegImageFile image mode=RGB size=200x200 at 0x23BB4D14198>: 100%|██████████| 300/300 [00:00<00:00, 362.13 Samples/s]\n",
      "Processing <PIL.Image.Image image mode=RGB size=200x200 at 0x23BB4CFF5F8>:   2%|▏         | 5/300 [00:00<00:10, 26.97 Samples/s]                  "
     ]
    },
    {
     "name": "stdout",
     "output_type": "stream",
     "text": [
      "Initialised with 300 image(s) found.\n",
      "Output directory set to asl_dataset_augmented\\T\\output."
     ]
    },
    {
     "name": "stderr",
     "output_type": "stream",
     "text": [
      "Processing <PIL.JpegImagePlugin.JpegImageFile image mode=RGB size=200x200 at 0x23BB4C7DA58>: 100%|██████████| 300/300 [00:00<00:00, 318.96 Samples/s]\n",
      "Processing <PIL.JpegImagePlugin.JpegImageFile image mode=RGB size=200x200 at 0x23BB4D0F940>:   0%|          | 1/300 [00:00<00:39,  7.57 Samples/s]"
     ]
    },
    {
     "name": "stdout",
     "output_type": "stream",
     "text": [
      "Initialised with 300 image(s) found.\n",
      "Output directory set to asl_dataset_augmented\\U\\output."
     ]
    },
    {
     "name": "stderr",
     "output_type": "stream",
     "text": [
      "Processing <PIL.Image.Image image mode=RGB size=200x200 at 0x23BB4C69588>: 100%|██████████| 300/300 [00:01<00:00, 264.52 Samples/s]                 \n",
      "Processing <PIL.Image.Image image mode=RGB size=200x200 at 0x23BB4D10DA0>:   4%|▎         | 11/300 [00:00<00:04, 67.29 Samples/s]                  "
     ]
    },
    {
     "name": "stdout",
     "output_type": "stream",
     "text": [
      "Initialised with 300 image(s) found.\n",
      "Output directory set to asl_dataset_augmented\\V\\output."
     ]
    },
    {
     "name": "stderr",
     "output_type": "stream",
     "text": [
      "Processing <PIL.Image.Image image mode=RGB size=200x200 at 0x23BB4D0DF98>: 100%|██████████| 300/300 [00:00<00:00, 411.08 Samples/s]                  \n",
      "Processing <PIL.JpegImagePlugin.JpegImageFile image mode=RGB size=200x200 at 0x23BB4DE3668>:   1%|▏         | 4/300 [00:00<00:10, 27.86 Samples/s]"
     ]
    },
    {
     "name": "stdout",
     "output_type": "stream",
     "text": [
      "Initialised with 300 image(s) found.\n",
      "Output directory set to asl_dataset_augmented\\W\\output."
     ]
    },
    {
     "name": "stderr",
     "output_type": "stream",
     "text": [
      "Processing <PIL.Image.Image image mode=RGB size=200x200 at 0x23BB5E43B38>: 100%|██████████| 300/300 [00:00<00:00, 312.76 Samples/s]                  \n",
      "Processing <PIL.Image.Image image mode=RGB size=200x200 at 0x23BB4D0EB38>:   1%|▏         | 4/300 [00:00<00:14, 19.95 Samples/s]                  "
     ]
    },
    {
     "name": "stdout",
     "output_type": "stream",
     "text": [
      "Initialised with 300 image(s) found.\n",
      "Output directory set to asl_dataset_augmented\\X\\output."
     ]
    },
    {
     "name": "stderr",
     "output_type": "stream",
     "text": [
      "Processing <PIL.Image.Image image mode=RGB size=200x200 at 0x23BB4D1EBA8>: 100%|██████████| 300/300 [00:00<00:00, 302.99 Samples/s]                  \n",
      "Processing <PIL.JpegImagePlugin.JpegImageFile image mode=RGB size=200x200 at 0x23BB4D2F978>:   1%|          | 2/300 [00:00<00:29, 10.00 Samples/s]"
     ]
    },
    {
     "name": "stdout",
     "output_type": "stream",
     "text": [
      "Initialised with 300 image(s) found.\n",
      "Output directory set to asl_dataset_augmented\\Y\\output."
     ]
    },
    {
     "name": "stderr",
     "output_type": "stream",
     "text": [
      "Processing <PIL.Image.Image image mode=RGB size=200x200 at 0x23BB4CFF710>: 100%|██████████| 300/300 [00:00<00:00, 353.68 Samples/s]                 \n",
      "Processing <PIL.Image.Image image mode=RGB size=200x200 at 0x23BB4DF8EB8>:   3%|▎         | 8/300 [00:00<00:08, 35.66 Samples/s]                  "
     ]
    },
    {
     "name": "stdout",
     "output_type": "stream",
     "text": [
      "Initialised with 300 image(s) found.\n",
      "Output directory set to asl_dataset_augmented\\Z\\output."
     ]
    },
    {
     "name": "stderr",
     "output_type": "stream",
     "text": [
      "Processing <PIL.Image.Image image mode=RGB size=200x200 at 0x23BB4D80550>: 100%|██████████| 300/300 [00:01<00:00, 285.69 Samples/s]                  \n"
     ]
    }
   ],
   "source": [
    "training_path = dataset_path\n",
    "for i in dataset_list:\n",
    "    p = Augmentor.Pipeline(os.path.join(training_path, i))\n",
    "    p.zoom(probability=0.5, min_factor=1.1, max_factor=1.3)\n",
    "    p.sample(300)"
   ]
  },
  {
   "cell_type": "code",
   "execution_count": 38,
   "metadata": {},
   "outputs": [
    {
     "name": "stdout",
     "output_type": "stream",
     "text": [
      "0\n",
      "1\n",
      "2\n",
      "3\n",
      "4\n",
      "5\n",
      "6\n",
      "7\n",
      "8\n",
      "9\n",
      "A\n",
      "B\n",
      "C\n",
      "D\n",
      "del\n",
      "E\n",
      "F\n",
      "G\n",
      "H\n",
      "I\n",
      "J\n",
      "K\n",
      "L\n",
      "M\n",
      "N\n",
      "nothing\n",
      "O\n",
      "P\n",
      "Q\n",
      "R\n",
      "S\n",
      "space\n",
      "T\n"
     ]
    },
    {
     "ename": "FileNotFoundError",
     "evalue": "[WinError 3] The system cannot find the path specified: 'asl_dataset_augmented\\\\test_set\\\\output'",
     "output_type": "error",
     "traceback": [
      "\u001b[1;31m---------------------------------------------------------------------------\u001b[0m",
      "\u001b[1;31mFileNotFoundError\u001b[0m                         Traceback (most recent call last)",
      "\u001b[1;32m<ipython-input-38-930be3440dc1>\u001b[0m in \u001b[0;36m<module>\u001b[1;34m\u001b[0m\n\u001b[0;32m      5\u001b[0m \u001b[1;32mfor\u001b[0m \u001b[0mcat\u001b[0m \u001b[1;32min\u001b[0m \u001b[0mos\u001b[0m\u001b[1;33m.\u001b[0m\u001b[0mlistdir\u001b[0m\u001b[1;33m(\u001b[0m\u001b[0mdataset_path\u001b[0m\u001b[1;33m)\u001b[0m\u001b[1;33m:\u001b[0m\u001b[1;33m\u001b[0m\u001b[1;33m\u001b[0m\u001b[0m\n\u001b[0;32m      6\u001b[0m     \u001b[0mcat_dir\u001b[0m \u001b[1;33m=\u001b[0m \u001b[0mos\u001b[0m\u001b[1;33m.\u001b[0m\u001b[0mpath\u001b[0m\u001b[1;33m.\u001b[0m\u001b[0mjoin\u001b[0m\u001b[1;33m(\u001b[0m\u001b[0mdataset_path\u001b[0m\u001b[1;33m,\u001b[0m \u001b[0mcat\u001b[0m\u001b[1;33m,\u001b[0m \u001b[1;34m'output'\u001b[0m\u001b[1;33m)\u001b[0m\u001b[1;33m\u001b[0m\u001b[1;33m\u001b[0m\u001b[0m\n\u001b[1;32m----> 7\u001b[1;33m     \u001b[0mcat_files\u001b[0m \u001b[1;33m=\u001b[0m \u001b[0mos\u001b[0m\u001b[1;33m.\u001b[0m\u001b[0mlistdir\u001b[0m\u001b[1;33m(\u001b[0m\u001b[0mcat_dir\u001b[0m\u001b[1;33m)\u001b[0m\u001b[1;33m\u001b[0m\u001b[1;33m\u001b[0m\u001b[0m\n\u001b[0m\u001b[0;32m      8\u001b[0m     \u001b[0mtrain_list\u001b[0m\u001b[1;33m,\u001b[0m \u001b[0mtest_list\u001b[0m \u001b[1;33m=\u001b[0m \u001b[0mtrain_test_split\u001b[0m\u001b[1;33m(\u001b[0m\u001b[0mcat_files\u001b[0m\u001b[1;33m,\u001b[0m \u001b[0mtest_size\u001b[0m\u001b[1;33m=\u001b[0m\u001b[1;36m0.3\u001b[0m\u001b[1;33m)\u001b[0m\u001b[1;33m\u001b[0m\u001b[1;33m\u001b[0m\u001b[0m\n\u001b[0;32m      9\u001b[0m     \u001b[0mvalidation_list\u001b[0m\u001b[1;33m,\u001b[0m \u001b[0mtest_list\u001b[0m \u001b[1;33m=\u001b[0m \u001b[0mtrain_test_split\u001b[0m\u001b[1;33m(\u001b[0m\u001b[0mtest_list\u001b[0m\u001b[1;33m,\u001b[0m \u001b[0mtest_size\u001b[0m\u001b[1;33m=\u001b[0m\u001b[1;36m0.5\u001b[0m\u001b[1;33m)\u001b[0m\u001b[1;33m\u001b[0m\u001b[1;33m\u001b[0m\u001b[0m\n",
      "\u001b[1;31mFileNotFoundError\u001b[0m: [WinError 3] The system cannot find the path specified: 'asl_dataset_augmented\\\\test_set\\\\output'"
     ]
    }
   ],
   "source": [
    "train_set = {}\n",
    "validation_set = {}\n",
    "test_set = {}\n",
    "\n",
    "for cat in os.listdir(dataset_path):\n",
    "    cat_dir = os.path.join(dataset_path, cat, 'output')\n",
    "    cat_files = os.listdir(cat_dir)\n",
    "    train_list, test_list = train_test_split(cat_files, test_size=0.3)\n",
    "    validation_list, test_list = train_test_split(test_list, test_size=0.5)\n",
    "    \n",
    "    train_set[cat] = train_list\n",
    "    test_set[cat] = test_list\n",
    "    validation_set[cat] = validation_list"
   ]
  },
  {
   "cell_type": "code",
   "execution_count": 8,
   "metadata": {},
   "outputs": [
    {
     "name": "stderr",
     "output_type": "stream",
     "text": [
      "100%|██████████| 39/39 [02:59<00:00,  4.59s/it]\n"
     ]
    }
   ],
   "source": [
    "for cat in tqdm(train_set.keys()):\n",
    "    cat_dir = os.path.join(dataset_path, 'training_set', 'class_' + str(cat))\n",
    "    os.makedirs(cat_dir)\n",
    "    for file in train_set[cat]:\n",
    "        src = os.path.join(dataset_path, cat, 'output', file)\n",
    "        dest = os.path.join(cat_dir, file)\n",
    "        copyfile(src, dest)"
   ]
  },
  {
   "cell_type": "code",
   "execution_count": 11,
   "metadata": {},
   "outputs": [
    {
     "name": "stderr",
     "output_type": "stream",
     "text": [
      "100%|██████████| 39/39 [00:33<00:00,  1.17it/s]\n"
     ]
    }
   ],
   "source": [
    "for cat in tqdm(validation_set.keys()):\n",
    "    cat_dir = os.path.join(dataset_path, 'validation_set', 'class_' + str(cat))\n",
    "    os.makedirs(cat_dir)\n",
    "    for file in validation_set[cat]:\n",
    "        src = os.path.join(dataset_path, cat,'output', file)\n",
    "        dest = os.path.join(cat_dir, file)\n",
    "        copyfile(src, dest)"
   ]
  },
  {
   "cell_type": "code",
   "execution_count": 12,
   "metadata": {},
   "outputs": [
    {
     "name": "stderr",
     "output_type": "stream",
     "text": [
      "100%|██████████| 39/39 [00:28<00:00,  1.36it/s]\n"
     ]
    }
   ],
   "source": [
    "for cat in tqdm(test_set.keys()):\n",
    "    cat_dir = os.path.join(dataset_path, 'test_set', 'class_' + str(cat))\n",
    "    os.makedirs(cat_dir)\n",
    "    for file in test_set[cat]:\n",
    "        src = os.path.join(dataset_path, cat,'output', file)\n",
    "        dest = os.path.join(cat_dir, file)\n",
    "        copyfile(src, dest)"
   ]
  },
  {
   "cell_type": "code",
   "execution_count": 13,
   "metadata": {},
   "outputs": [
    {
     "name": "stdout",
     "output_type": "stream",
     "text": [
      "0- Training size: 210 Validation set: 45 Test set: 45\n",
      "1- Training size: 210 Validation set: 45 Test set: 45\n",
      "2- Training size: 210 Validation set: 45 Test set: 45\n",
      "3- Training size: 210 Validation set: 45 Test set: 45\n",
      "4- Training size: 210 Validation set: 45 Test set: 45\n",
      "5- Training size: 210 Validation set: 45 Test set: 45\n",
      "6- Training size: 210 Validation set: 45 Test set: 45\n",
      "7- Training size: 210 Validation set: 45 Test set: 45\n",
      "8- Training size: 210 Validation set: 45 Test set: 45\n",
      "9- Training size: 210 Validation set: 45 Test set: 45\n",
      "A- Training size: 210 Validation set: 45 Test set: 45\n",
      "B- Training size: 210 Validation set: 45 Test set: 45\n",
      "C- Training size: 210 Validation set: 45 Test set: 45\n",
      "D- Training size: 210 Validation set: 45 Test set: 45\n",
      "del- Training size: 210 Validation set: 45 Test set: 45\n",
      "E- Training size: 210 Validation set: 45 Test set: 45\n",
      "F- Training size: 210 Validation set: 45 Test set: 45\n",
      "G- Training size: 210 Validation set: 45 Test set: 45\n",
      "H- Training size: 210 Validation set: 45 Test set: 45\n",
      "I- Training size: 210 Validation set: 45 Test set: 45\n",
      "J- Training size: 210 Validation set: 45 Test set: 45\n",
      "K- Training size: 210 Validation set: 45 Test set: 45\n",
      "L- Training size: 210 Validation set: 45 Test set: 45\n",
      "M- Training size: 210 Validation set: 45 Test set: 45\n",
      "N- Training size: 210 Validation set: 45 Test set: 45\n",
      "nothing- Training size: 210 Validation set: 45 Test set: 45\n",
      "O- Training size: 210 Validation set: 45 Test set: 45\n",
      "P- Training size: 210 Validation set: 45 Test set: 45\n",
      "Q- Training size: 210 Validation set: 45 Test set: 45\n",
      "R- Training size: 210 Validation set: 45 Test set: 45\n",
      "S- Training size: 210 Validation set: 45 Test set: 45\n",
      "space- Training size: 210 Validation set: 45 Test set: 45\n",
      "T- Training size: 210 Validation set: 45 Test set: 45\n",
      "U- Training size: 210 Validation set: 45 Test set: 45\n",
      "V- Training size: 210 Validation set: 45 Test set: 45\n",
      "W- Training size: 210 Validation set: 45 Test set: 45\n",
      "X- Training size: 210 Validation set: 45 Test set: 45\n",
      "Y- Training size: 210 Validation set: 45 Test set: 45\n",
      "Z- Training size: 210 Validation set: 45 Test set: 45\n"
     ]
    }
   ],
   "source": [
    "for i in train_set.keys():\n",
    "    print(i+ \"- Training size: \"+ str(len(train_set[i]))+ \" Validation set: \"+ str(len(validation_set[i]))+ \" Test set: \"+ str(len(test_set[i])))"
   ]
  },
  {
   "cell_type": "code",
   "execution_count": 3,
   "metadata": {},
   "outputs": [
    {
     "name": "stdout",
     "output_type": "stream",
     "text": [
      "Found 8190 images belonging to 39 classes.\n",
      "Found 1755 images belonging to 39 classes.\n",
      "Found 1755 images belonging to 39 classes.\n"
     ]
    }
   ],
   "source": [
    "train_datagen = ImageDataGenerator(rescale=1./255, shear_range=0.2, zoom_range=0.2)\n",
    "validation_datagen = ImageDataGenerator(rescale=1./255)\n",
    "test_datagen = ImageDataGenerator(rescale=1./255)\n",
    "\n",
    "training_data = train_datagen.flow_from_directory(os.path.join(dataset_path, 'training_set'),\n",
    "                                                 target_size = (64,64),\n",
    "                                                 batch_size = 32,\n",
    "                                                 class_mode = 'categorical')\n",
    "\n",
    "validation_data = validation_datagen.flow_from_directory(os.path.join(dataset_path, 'validation_set'),\n",
    "                                            target_size = (64,64),\n",
    "                                            batch_size = 32,\n",
    "                                            class_mode = 'categorical')\n",
    "\n",
    "test_data = test_datagen.flow_from_directory(os.path.join(dataset_path, 'test_set'),\n",
    "                                            target_size = (64,64),\n",
    "                                            batch_size = 32,\n",
    "                                            class_mode = 'categorical')"
   ]
  },
  {
   "cell_type": "code",
   "execution_count": 18,
   "metadata": {},
   "outputs": [],
   "source": [
    "classifier = Sequential()\n",
    "\n",
    "classifier.add(Conv2D(32, (3,3), input_shape = (64,64,3), activation= 'relu'))\n",
    "BatchNormalization()\n",
    "classifier.add(MaxPooling2D(pool_size=(2,2)))\n",
    "classifier.add(Dropout(0.25))\n",
    "\n",
    "classifier.add(Conv2D(32, (3,3), activation = 'relu'))\n",
    "BatchNormalization()\n",
    "classifier.add(MaxPooling2D(pool_size = (2,2)))\n",
    "classifier.add(Dropout(0.25))\n",
    "\n",
    "classifier.add(Conv2D(32, (3,3), activation = 'relu'))\n",
    "classifier.add(MaxPooling2D(pool_size = (2,2)))\n",
    "classifier.add(Dropout(0.25))\n",
    "\n",
    "classifier.add(Flatten())\n",
    "classifier.add(Dense(units = 128, activation = 'relu'))\n",
    "classifier.add(Dense(units = 39, activation = 'softmax'))\n",
    "\n",
    "classifier.compile(optimizer = 'adam', loss = 'categorical_crossentropy', metrics = ['accuracy'])"
   ]
  },
  {
   "cell_type": "code",
   "execution_count": 19,
   "metadata": {},
   "outputs": [
    {
     "name": "stdout",
     "output_type": "stream",
     "text": [
      "Epoch 1/50\n",
      "256/256 [==============================] - 59s 232ms/step - loss: 3.2273 - acc: 0.1026 - val_loss: 2.5336 - val_acc: 0.2735\n",
      "Epoch 2/50\n",
      "256/256 [==============================] - 59s 230ms/step - loss: 2.2571 - acc: 0.3391 - val_loss: 1.9761 - val_acc: 0.4205\n",
      "Epoch 3/50\n",
      "256/256 [==============================] - 66s 259ms/step - loss: 1.6954 - acc: 0.4856 - val_loss: 1.3525 - val_acc: 0.5920\n",
      "Epoch 4/50\n",
      "256/256 [==============================] - 68s 267ms/step - loss: 1.3234 - acc: 0.5881 - val_loss: 1.0687 - val_acc: 0.6786\n",
      "Epoch 5/50\n",
      "256/256 [==============================] - 60s 233ms/step - loss: 1.1224 - acc: 0.6455 - val_loss: 0.8939 - val_acc: 0.7299\n",
      "Epoch 6/50\n",
      "256/256 [==============================] - 57s 222ms/step - loss: 0.9104 - acc: 0.7087 - val_loss: 0.7388 - val_acc: 0.7624\n",
      "Epoch 7/50\n",
      "256/256 [==============================] - 54s 211ms/step - loss: 0.8002 - acc: 0.7421 - val_loss: 0.7191 - val_acc: 0.7761\n",
      "Epoch 8/50\n",
      "256/256 [==============================] - 53s 209ms/step - loss: 0.7110 - acc: 0.7707 - val_loss: 0.5311 - val_acc: 0.8348\n",
      "Epoch 9/50\n",
      "256/256 [==============================] - 53s 207ms/step - loss: 0.6336 - acc: 0.7928 - val_loss: 0.4736 - val_acc: 0.8524\n",
      "Epoch 10/50\n",
      "256/256 [==============================] - 53s 209ms/step - loss: 0.5757 - acc: 0.8089 - val_loss: 0.5246 - val_acc: 0.8399\n",
      "Epoch 11/50\n",
      "256/256 [==============================] - 54s 209ms/step - loss: 0.5169 - acc: 0.8318 - val_loss: 0.4436 - val_acc: 0.8627\n",
      "Epoch 12/50\n",
      "256/256 [==============================] - 53s 207ms/step - loss: 0.4762 - acc: 0.8406 - val_loss: 0.4704 - val_acc: 0.8553\n",
      "Epoch 13/50\n",
      "256/256 [==============================] - 56s 219ms/step - loss: 0.4543 - acc: 0.8480 - val_loss: 0.3818 - val_acc: 0.8872\n",
      "Epoch 14/50\n",
      "256/256 [==============================] - 56s 218ms/step - loss: 0.4102 - acc: 0.8615 - val_loss: 0.3877 - val_acc: 0.8741\n",
      "Epoch 15/50\n",
      "256/256 [==============================] - 63s 246ms/step - loss: 0.3743 - acc: 0.8738 - val_loss: 0.3853 - val_acc: 0.8758\n",
      "Epoch 16/50\n",
      "256/256 [==============================] - 88s 345ms/step - loss: 0.3758 - acc: 0.8748 - val_loss: 0.3293 - val_acc: 0.8969\n",
      "Epoch 17/50\n",
      "256/256 [==============================] - 86s 336ms/step - loss: 0.3447 - acc: 0.8840 - val_loss: 0.3024 - val_acc: 0.9123\n",
      "Epoch 18/50\n",
      "256/256 [==============================] - 87s 339ms/step - loss: 0.3325 - acc: 0.8850 - val_loss: 0.3360 - val_acc: 0.8934\n",
      "Epoch 19/50\n",
      "256/256 [==============================] - 88s 342ms/step - loss: 0.3176 - acc: 0.8949 - val_loss: 0.3592 - val_acc: 0.8917\n",
      "Epoch 20/50\n",
      "256/256 [==============================] - 87s 341ms/step - loss: 0.2866 - acc: 0.9016 - val_loss: 0.3456 - val_acc: 0.9003\n",
      "Epoch 21/50\n",
      "256/256 [==============================] - 87s 340ms/step - loss: 0.2824 - acc: 0.9055 - val_loss: 0.3079 - val_acc: 0.9111\n",
      "Epoch 22/50\n",
      "256/256 [==============================] - 87s 341ms/step - loss: 0.2805 - acc: 0.9071 - val_loss: 0.3086 - val_acc: 0.8980\n",
      "Epoch 23/50\n",
      "256/256 [==============================] - 88s 345ms/step - loss: 0.2672 - acc: 0.9135 - val_loss: 0.2933 - val_acc: 0.9105\n",
      "Epoch 24/50\n",
      "256/256 [==============================] - 87s 341ms/step - loss: 0.2625 - acc: 0.9110 - val_loss: 0.2955 - val_acc: 0.9117\n",
      "Epoch 25/50\n",
      "256/256 [==============================] - 88s 344ms/step - loss: 0.2455 - acc: 0.9184 - val_loss: 0.3219 - val_acc: 0.9111\n",
      "Epoch 26/50\n",
      "256/256 [==============================] - 88s 342ms/step - loss: 0.2468 - acc: 0.9156 - val_loss: 0.3309 - val_acc: 0.9105\n",
      "Epoch 27/50\n",
      "256/256 [==============================] - 89s 347ms/step - loss: 0.2192 - acc: 0.9247 - val_loss: 0.2841 - val_acc: 0.9134\n",
      "Epoch 28/50\n",
      "256/256 [==============================] - 88s 342ms/step - loss: 0.2198 - acc: 0.9270 - val_loss: 0.2989 - val_acc: 0.9100\n",
      "Epoch 29/50\n",
      "256/256 [==============================] - 88s 343ms/step - loss: 0.2188 - acc: 0.9278 - val_loss: 0.2688 - val_acc: 0.9276\n",
      "Epoch 30/50\n",
      "256/256 [==============================] - 89s 349ms/step - loss: 0.2099 - acc: 0.9331 - val_loss: 0.2856 - val_acc: 0.9208\n",
      "Epoch 31/50\n",
      "256/256 [==============================] - 88s 342ms/step - loss: 0.2010 - acc: 0.9335 - val_loss: 0.2600 - val_acc: 0.9214\n",
      "Epoch 32/50\n",
      "256/256 [==============================] - 87s 340ms/step - loss: 0.2089 - acc: 0.9287 - val_loss: 0.2516 - val_acc: 0.9271\n",
      "Epoch 33/50\n",
      "256/256 [==============================] - 88s 344ms/step - loss: 0.1776 - acc: 0.9388 - val_loss: 0.2676 - val_acc: 0.9185\n",
      "Epoch 34/50\n",
      "256/256 [==============================] - 87s 340ms/step - loss: 0.1953 - acc: 0.9344 - val_loss: 0.2740 - val_acc: 0.9259\n",
      "Epoch 35/50\n",
      "256/256 [==============================] - 88s 343ms/step - loss: 0.1885 - acc: 0.9352 - val_loss: 0.2475 - val_acc: 0.9259\n",
      "Epoch 36/50\n",
      "256/256 [==============================] - 88s 344ms/step - loss: 0.1861 - acc: 0.9369 - val_loss: 0.2744 - val_acc: 0.9276\n",
      "Epoch 37/50\n",
      "256/256 [==============================] - 87s 342ms/step - loss: 0.1808 - acc: 0.9380 - val_loss: 0.2351 - val_acc: 0.9368\n",
      "Epoch 38/50\n",
      "256/256 [==============================] - 87s 342ms/step - loss: 0.1683 - acc: 0.9457 - val_loss: 0.2585 - val_acc: 0.9373\n",
      "Epoch 39/50\n",
      "256/256 [==============================] - 87s 341ms/step - loss: 0.1812 - acc: 0.9412 - val_loss: 0.2232 - val_acc: 0.9436\n",
      "Epoch 40/50\n",
      "256/256 [==============================] - 81s 318ms/step - loss: 0.1582 - acc: 0.9482 - val_loss: 0.2556 - val_acc: 0.9345\n",
      "Epoch 41/50\n",
      "256/256 [==============================] - 88s 345ms/step - loss: 0.1472 - acc: 0.9519 - val_loss: 0.2657 - val_acc: 0.9356\n",
      "Epoch 42/50\n",
      "256/256 [==============================] - 65s 253ms/step - loss: 0.1575 - acc: 0.9481 - val_loss: 0.2612 - val_acc: 0.9288\n",
      "Epoch 43/50\n",
      "256/256 [==============================] - 53s 207ms/step - loss: 0.1549 - acc: 0.9509 - val_loss: 0.2800 - val_acc: 0.9282\n",
      "Epoch 44/50\n",
      "256/256 [==============================] - 53s 206ms/step - loss: 0.1480 - acc: 0.9510 - val_loss: 0.2599 - val_acc: 0.9373\n",
      "Epoch 45/50\n",
      "256/256 [==============================] - 54s 213ms/step - loss: 0.1524 - acc: 0.9484 - val_loss: 0.2669 - val_acc: 0.9328\n",
      "Epoch 46/50\n",
      "256/256 [==============================] - 53s 209ms/step - loss: 0.1525 - acc: 0.9485 - val_loss: 0.2550 - val_acc: 0.9368\n",
      "Epoch 47/50\n",
      "256/256 [==============================] - 53s 207ms/step - loss: 0.1368 - acc: 0.9557 - val_loss: 0.2227 - val_acc: 0.9425\n",
      "Epoch 48/50\n",
      "256/256 [==============================] - 53s 207ms/step - loss: 0.1506 - acc: 0.9507 - val_loss: 0.2436 - val_acc: 0.9368\n",
      "Epoch 49/50\n",
      "256/256 [==============================] - 54s 210ms/step - loss: 0.1496 - acc: 0.9538 - val_loss: 0.2237 - val_acc: 0.9464\n",
      "Epoch 50/50\n",
      "256/256 [==============================] - 54s 211ms/step - loss: 0.1503 - acc: 0.9513 - val_loss: 0.2272 - val_acc: 0.9470\n"
     ]
    }
   ],
   "source": [
    "history = classifier.fit_generator(training_data,\n",
    "                                  steps_per_epoch= math.ceil(training_data.n/training_data.batch_size),\n",
    "                                  epochs=50,\n",
    "                                  validation_data= validation_data,\n",
    "                                  validation_steps= math.ceil(validation_data.n/validation_data.batch_size))"
   ]
  },
  {
   "cell_type": "code",
   "execution_count": 20,
   "metadata": {},
   "outputs": [
    {
     "data": {
      "text/plain": [
       "<matplotlib.legend.Legend at 0x2e287d7ae48>"
      ]
     },
     "execution_count": 20,
     "metadata": {},
     "output_type": "execute_result"
    },
    {
     "data": {
      "image/png": "[encoded data removed]",
      "text/plain": [
       "<Figure size 432x288 with 1 Axes>"
      ]
     },
     "metadata": {
      "needs_background": "light"
     },
     "output_type": "display_data"
    }
   ],
   "source": [
    "plt.plot(history.history['acc'])\n",
    "plt.plot(history.history['val_acc'])\n",
    "plt.title('Model Accuracy')\n",
    "plt.ylabel('accuracy')\n",
    "plt.xlabel('epoch')\n",
    "plt.legend(['Training', 'Validation'])\n"
   ]
  },
  {
   "cell_type": "code",
   "execution_count": 21,
   "metadata": {},
   "outputs": [
    {
     "name": "stdout",
     "output_type": "stream",
     "text": [
      "Accuracy on test set : 0.9344729344729344\n"
     ]
    }
   ],
   "source": [
    "test_loss, test_accuracy = classifier.evaluate_generator(test_data, math.ceil(test_data.n / test_data.batch_size))\n",
    "print(\"Accuracy on test set : {}\".format(test_accuracy))"
   ]
  },
  {
   "cell_type": "code",
   "execution_count": 22,
   "metadata": {},
   "outputs": [
    {
     "name": "stdout",
     "output_type": "stream",
     "text": [
      "Accuracy on validation set: 0.9475783479179752\n"
     ]
    }
   ],
   "source": [
    "validation_loss, validation_accuracy = classifier.evaluate_generator(validation_data, math.ceil(validation_data.n / validation_data.batch_size))\n",
    "print(\"Accuracy on validation set: {}\".format(validation_accuracy))"
   ]
  },
  {
   "cell_type": "code",
   "execution_count": null,
   "metadata": {},
   "outputs": [],
   "source": []
  },
  {
   "cell_type": "code",
   "execution_count": null,
   "metadata": {},
   "outputs": [],
   "source": []
  },
  {
   "cell_type": "code",
   "execution_count": null,
   "metadata": {},
   "outputs": [],
   "source": []
  },
  {
   "cell_type": "code",
   "execution_count": 3,
   "metadata": {},
   "outputs": [
    {
     "ename": "NameError",
     "evalue": "name 'classifier' is not defined",
     "output_type": "error",
     "traceback": [
      "\u001b[1;31m---------------------------------------------------------------------------\u001b[0m",
      "\u001b[1;31mNameError\u001b[0m                                 Traceback (most recent call last)",
      "\u001b[1;32m<ipython-input-3-2d4ba8232067>\u001b[0m in \u001b[0;36m<module>\u001b[1;34m\u001b[0m\n\u001b[1;32m----> 1\u001b[1;33m \u001b[0mclassifier_json\u001b[0m \u001b[1;33m=\u001b[0m \u001b[0mclassifier\u001b[0m\u001b[1;33m.\u001b[0m\u001b[0mto_json\u001b[0m\u001b[1;33m(\u001b[0m\u001b[1;33m)\u001b[0m\u001b[1;33m\u001b[0m\u001b[1;33m\u001b[0m\u001b[0m\n\u001b[0m\u001b[0;32m      2\u001b[0m \u001b[1;32mwith\u001b[0m \u001b[0mopen\u001b[0m\u001b[1;33m(\u001b[0m\u001b[1;34m\"model.json\"\u001b[0m\u001b[1;33m,\u001b[0m \u001b[1;34m\"w\"\u001b[0m\u001b[1;33m)\u001b[0m \u001b[1;32mas\u001b[0m \u001b[0mjson_file\u001b[0m\u001b[1;33m:\u001b[0m\u001b[1;33m\u001b[0m\u001b[1;33m\u001b[0m\u001b[0m\n\u001b[0;32m      3\u001b[0m     \u001b[0mjson_file\u001b[0m\u001b[1;33m.\u001b[0m\u001b[0mwrite\u001b[0m\u001b[1;33m(\u001b[0m\u001b[0mclassifier_json\u001b[0m\u001b[1;33m)\u001b[0m\u001b[1;33m\u001b[0m\u001b[1;33m\u001b[0m\u001b[0m\n\u001b[0;32m      4\u001b[0m \u001b[1;33m\u001b[0m\u001b[0m\n\u001b[0;32m      5\u001b[0m \u001b[0mclassifier\u001b[0m\u001b[1;33m.\u001b[0m\u001b[0msave_weights\u001b[0m\u001b[1;33m(\u001b[0m\u001b[1;34m\"model.h5\"\u001b[0m\u001b[1;33m)\u001b[0m\u001b[1;33m\u001b[0m\u001b[1;33m\u001b[0m\u001b[0m\n",
      "\u001b[1;31mNameError\u001b[0m: name 'classifier' is not defined"
     ]
    }
   ],
   "source": [
    "classifier_json = classifier.to_json()\n",
    "with open(\"model.json\", \"w\") as json_file:\n",
    "    json_file.write(classifier_json)\n",
    "\n",
    "classifier.save_weights(\"model.h5\")\n",
    "print(\"Model saved to disk\")"
   ]
  },
  {
   "cell_type": "code",
   "execution_count": 45,
   "metadata": {},
   "outputs": [
    {
     "name": "stdout",
     "output_type": "stream",
     "text": [
      "Loaded model from disk\n"
     ]
    }
   ],
   "source": [
    "json_file = open('model.json', 'r')\n",
    "loaded_model_json = json_file.read()\n",
    "json_file.close()\n",
    "\n",
    "loaded_model = model_from_json(loaded_model_json)\n",
    "\n",
    "loaded_model.load_weights(\"model.h5\")\n",
    "print('Loaded model from disk')"
   ]
  },
  {
   "cell_type": "code",
   "execution_count": 46,
   "metadata": {},
   "outputs": [],
   "source": [
    "loaded_model.compile(optimizer = 'adam', loss = 'categorical_crossentropy', metrics = ['accuracy'])"
   ]
  },
  {
   "cell_type": "code",
   "execution_count": 53,
   "metadata": {},
   "outputs": [
    {
     "name": "stdout",
     "output_type": "stream",
     "text": [
      "HI I AM ANUSHA\n"
     ]
    },
    {
     "data": {
      "image/png": "[encoded data removed]",
      "text/plain": [
       "<Figure size 432x288 with 14 Axes>"
      ]
     },
     "metadata": {
      "needs_background": "light"
     },
     "output_type": "display_data"
    }
   ],
   "source": [
    "cat_dir = \"Test\"\n",
    "cat_files = os.listdir(cat_dir)\n",
    "sentence = ''\n",
    "cpt = 0\n",
    "for i in cat_files:\n",
    "    cpt = cpt +1\n",
    "    plt.subplot(9,5,cpt)\n",
    "    img = load_img(os.path.join(cat_dir, i), target_size=(64,64))\n",
    "    plt.imshow(img, cmap='gray')\n",
    "    test_image = image.img_to_array(img)\n",
    "    test_image = test_image/255\n",
    "    test_image = np.expand_dims(test_image, axis = 0)\n",
    "    result = loaded_model.predict(test_image)\n",
    "#   print(result)\n",
    "    labels = np.argmax(result, axis=-1)  \n",
    "    if labels[0] == 0:\n",
    "        sentence += '0'\n",
    "    elif labels[0] == 1:\n",
    "        sentence += '1'\n",
    "    elif labels[0] == 2:\n",
    "        sentence += '2'\n",
    "    elif labels[0] == 3:\n",
    "        sentence += '3'\n",
    "    elif labels[0] == 4:\n",
    "        sentence += '4'\n",
    "    elif labels[0] == 5:\n",
    "        sentence += '5'\n",
    "    elif labels[0] == 6:\n",
    "        sentence += '6'\n",
    "    elif labels[0] == 7:\n",
    "        sentence += '7'\n",
    "    elif labels[0] == 8:\n",
    "        sentence += '8'\n",
    "    elif labels[0] == 9:\n",
    "        sentence += '9'\n",
    "    elif labels[0] == 10:\n",
    "        sentence += 'A'\n",
    "    elif labels[0] == 11:\n",
    "        sentence += 'B'\n",
    "    elif labels[0] == 12:\n",
    "        sentence += 'C'\n",
    "    elif labels[0] == 13:\n",
    "        sentence += 'D'\n",
    "    elif labels[0] == 36:\n",
    "        sentence = sentence[:-1]\n",
    "    elif labels[0] == 14:\n",
    "        sentence += 'E'\n",
    "    elif labels[0] == 15:\n",
    "        sentence += 'F'\n",
    "    elif labels[0] == 16:\n",
    "        sentence += 'G'\n",
    "    elif labels[0] == 17:\n",
    "        sentence += 'H'\n",
    "    elif labels[0] == 18:\n",
    "        sentence += 'I'\n",
    "    elif labels[0] == 19:\n",
    "        sentence += 'J'\n",
    "    elif labels[0] == 20:\n",
    "        sentence += 'K'\n",
    "    elif labels[0] == 21:\n",
    "        sentence += 'L'\n",
    "    elif labels[0] == 22:\n",
    "        sentence += 'M'\n",
    "    elif labels[0] == 23:\n",
    "        sentence += 'N'\n",
    "    elif labels[0] == 37:\n",
    "        sentence += ''\n",
    "    elif labels[0] == 24:\n",
    "        sentence += 'O'\n",
    "    elif labels[0] == 25:\n",
    "        sentence += 'P'\n",
    "    elif labels[0] == 26:\n",
    "        sentence += 'Q'\n",
    "    elif labels[0] == 27:\n",
    "        sentence += 'R'\n",
    "    elif labels[0] == 28:\n",
    "        sentence += 'S'\n",
    "    elif labels[0] == 38:\n",
    "        sentence += ' '\n",
    "    elif labels[0] == 29:\n",
    "        sentence += 'T'\n",
    "    elif labels[0] == 30:\n",
    "        sentence += 'U'\n",
    "    elif labels[0] == 31:\n",
    "        sentence += 'V'\n",
    "    elif labels[0] == 32:\n",
    "        sentence += 'W'\n",
    "    elif labels[0] == 33:\n",
    "        sentence += 'X'\n",
    "    elif labels[0] == 34:\n",
    "        sentence += 'Y'\n",
    "    elif labels[0] == 35:\n",
    "        sentence += 'Z'\n",
    "\n",
    "print(sentence)"
   ]
  },
  {
   "cell_type": "code",
   "execution_count": null,
   "metadata": {},
   "outputs": [],
   "source": []
  },
  {
   "cell_type": "code",
   "execution_count": 40,
   "metadata": {},
   "outputs": [
    {
     "name": "stdout",
     "output_type": "stream",
     "text": [
      "Enter:\n",
      "1 for English\n",
      "2 for Kannada\n",
      "3 for Hindi\n",
      "4 for Telugu\n",
      "2\n"
     ]
    }
   ],
   "source": [
    "print(\"Enter:\")\n",
    "print(\"1 for English\")\n",
    "print(\"2 for Kannada\")\n",
    "print(\"3 for Hindi\")\n",
    "print(\"4 for Telugu\")\n",
    "lang = input()"
   ]
  },
  {
   "cell_type": "code",
   "execution_count": 41,
   "metadata": {},
   "outputs": [],
   "source": [
    "if lang == '1':\n",
    "    language = 'en'\n",
    "elif lang == '2':\n",
    "    language = 'kn'\n",
    "elif lang == '3':\n",
    "    language = 'hi'\n",
    "elif lang == '4':\n",
    "    language = 'te'\n",
    "else:\n",
    "    print('Please enter a proper value')"
   ]
  },
  {
   "cell_type": "code",
   "execution_count": null,
   "metadata": {},
   "outputs": [],
   "source": []
  },
  {
   "cell_type": "code",
   "execution_count": 31,
   "metadata": {},
   "outputs": [],
   "source": [
    "import googletrans"
   ]
  },
  {
   "cell_type": "code",
   "execution_count": 49,
   "metadata": {},
   "outputs": [],
   "source": [
    "from googletrans import Translator\n",
    "translator = Translator(service_urls=['translate.googleapis.com'])\n",
    "result = translator.translate(sentence.lower(), dest=language)"
   ]
  },
  {
   "cell_type": "code",
   "execution_count": 50,
   "metadata": {},
   "outputs": [
    {
     "name": "stdout",
     "output_type": "stream",
     "text": [
      "ಹಾಯ್ ನಾನು ಅನುಷಾ\n"
     ]
    }
   ],
   "source": [
    "print(result.text)"
   ]
  },
  {
   "cell_type": "code",
   "execution_count": 51,
   "metadata": {},
   "outputs": [],
   "source": [
    "from gtts import gTTS"
   ]
  },
  {
   "cell_type": "code",
   "execution_count": 52,
   "metadata": {},
   "outputs": [
    {
     "data": {
      "text/plain": [
       "0"
      ]
     },
     "execution_count": 52,
     "metadata": {},
     "output_type": "execute_result"
    }
   ],
   "source": [
    "output = gTTS(text=result.text, lang=language, slow=False, tld='com')\n",
    "output.save('speech.mp3')\n",
    "\n",
    "os.system(\"start speech.mp3\")"
   ]
  },
  {
   "cell_type": "code",
   "execution_count": null,
   "metadata": {},
   "outputs": [],
   "source": []
  }
 ],
 "metadata": {
  "kernelspec": {
   "display_name": "Python 3",
   "language": "python",
   "name": "python3"
  },
  "language_info": {
   "codemirror_mode": {
    "name": "ipython",
    "version": 3
   },
   "file_extension": ".py",
   "mimetype": "text/x-python",
   "name": "python",
   "nbconvert_exporter": "python",
   "pygments_lexer": "ipython3",
   "version": "3.7.1"
  }
 },
 "nbformat": 4,
 "nbformat_minor": 2
}
