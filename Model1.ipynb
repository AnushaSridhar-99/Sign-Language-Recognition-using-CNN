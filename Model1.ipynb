{
 "cells": [
  {
   "cell_type": "code",
   "execution_count": 1,
   "metadata": {},
   "outputs": [
    {
     "name": "stderr",
     "output_type": "stream",
     "text": [
      "Using TensorFlow backend.\n",
      "C:\\Users\\91876\\Anaconda3\\lib\\site-packages\\tensorflow\\python\\framework\\dtypes.py:526: FutureWarning: Passing (type, 1) or '1type' as a synonym of type is deprecated; in a future version of numpy, it will be understood as (type, (1,)) / '(1,)type'.\n",
      "  _np_qint8 = np.dtype([(\"qint8\", np.int8, 1)])\n",
      "C:\\Users\\91876\\Anaconda3\\lib\\site-packages\\tensorflow\\python\\framework\\dtypes.py:527: FutureWarning: Passing (type, 1) or '1type' as a synonym of type is deprecated; in a future version of numpy, it will be understood as (type, (1,)) / '(1,)type'.\n",
      "  _np_quint8 = np.dtype([(\"quint8\", np.uint8, 1)])\n",
      "C:\\Users\\91876\\Anaconda3\\lib\\site-packages\\tensorflow\\python\\framework\\dtypes.py:528: FutureWarning: Passing (type, 1) or '1type' as a synonym of type is deprecated; in a future version of numpy, it will be understood as (type, (1,)) / '(1,)type'.\n",
      "  _np_qint16 = np.dtype([(\"qint16\", np.int16, 1)])\n",
      "C:\\Users\\91876\\Anaconda3\\lib\\site-packages\\tensorflow\\python\\framework\\dtypes.py:529: FutureWarning: Passing (type, 1) or '1type' as a synonym of type is deprecated; in a future version of numpy, it will be understood as (type, (1,)) / '(1,)type'.\n",
      "  _np_quint16 = np.dtype([(\"quint16\", np.uint16, 1)])\n",
      "C:\\Users\\91876\\Anaconda3\\lib\\site-packages\\tensorflow\\python\\framework\\dtypes.py:530: FutureWarning: Passing (type, 1) or '1type' as a synonym of type is deprecated; in a future version of numpy, it will be understood as (type, (1,)) / '(1,)type'.\n",
      "  _np_qint32 = np.dtype([(\"qint32\", np.int32, 1)])\n",
      "C:\\Users\\91876\\Anaconda3\\lib\\site-packages\\tensorflow\\python\\framework\\dtypes.py:535: FutureWarning: Passing (type, 1) or '1type' as a synonym of type is deprecated; in a future version of numpy, it will be understood as (type, (1,)) / '(1,)type'.\n",
      "  np_resource = np.dtype([(\"resource\", np.ubyte, 1)])\n"
     ]
    }
   ],
   "source": [
    "import os, cv, math\n",
    "from keras.models import Sequential\n",
    "from keras.layers import Conv2D\n",
    "from keras.layers import MaxPooling2D\n",
    "from keras.layers import Flatten\n",
    "from keras.layers import Dense\n",
    "from keras.layers import Dropout, BatchNormalization\n",
    "from keras.preprocessing.image import ImageDataGenerator\n",
    "from keras.utils import plot_model\n",
    "import numpy as np\n",
    "from keras.preprocessing import image\n",
    "from sklearn.model_selection import train_test_split\n",
    "from shutil import copyfile\n",
    "from tqdm import tqdm\n",
    "import matplotlib.pyplot as plt\n",
    "import matplotlib.image as mpimg\n",
    "%matplotlib inline"
   ]
  },
  {
   "cell_type": "code",
   "execution_count": 2,
   "metadata": {},
   "outputs": [
    {
     "name": "stdout",
     "output_type": "stream",
     "text": [
      "['0', '1', '2', '3', '4', '5', '6', '7', '8', '9', 'A', 'B', 'C', 'D', 'del', 'E', 'F', 'G', 'H', 'I', 'J', 'K', 'L', 'M', 'N', 'nothing', 'O', 'P', 'Q', 'R', 'S', 'space', 'T', 'test_set', 'training_set', 'U', 'V', 'validation_set', 'W', 'X', 'Y', 'Z']\n"
     ]
    }
   ],
   "source": [
    "dataset_path = 'asl_dataset'\n",
    "dataset_list = os.listdir(dataset_path)\n",
    "print(dataset_list)"
   ]
  },
  {
   "cell_type": "code",
   "execution_count": null,
   "metadata": {},
   "outputs": [],
   "source": [
    "!pip install Augmentor"
   ]
  },
  {
   "cell_type": "code",
   "execution_count": 3,
   "metadata": {},
   "outputs": [],
   "source": [
    "import Augmentor\n",
    "\n",
    "training_path = dataset_path\n",
    "for i in dataset_list:\n",
    "    p = Augmentor.Pipeline(os.path.join(training_path, i))\n",
    "    p.zoom(probability=0.5, min_factor=1.1, max_factor=1.3)\n",
    "    p.sample(300)"
   ]
  },
  {
   "cell_type": "code",
   "execution_count": 45,
   "metadata": {},
   "outputs": [],
   "source": [
    "train_set = {}\n",
    "validation_set = {}\n",
    "test_set = {}\n",
    "\n",
    "for cat in os.listdir(dataset_path):\n",
    "    cat_dir = os.path.join(dataset_path, cat)\n",
    "    cat_files = os.listdir(cat_dir)\n",
    "    train_list, test_list = train_test_split(cat_files, test_size=0.3)\n",
    "    validation_list, test_list = train_test_split(test_list, test_size=0.5)\n",
    "    \n",
    "    train_set[cat] = train_list\n",
    "    test_set[cat] = test_list\n",
    "    validation_set[cat] = validation_list"
   ]
  },
  {
   "cell_type": "code",
   "execution_count": 20,
   "metadata": {},
   "outputs": [
    {
     "name": "stderr",
     "output_type": "stream",
     "text": [
      "100%|██████████| 39/39 [00:09<00:00,  4.00it/s]\n"
     ]
    }
   ],
   "source": [
    "for cat in tqdm(train_set.keys()):\n",
    "    cat_dir = os.path.join(dataset_path, 'training_set', 'class_' + str(cat))\n",
    "    os.makedirs(cat_dir)\n",
    "    for file in train_set[cat]:\n",
    "        src = os.path.join(dataset_path, cat, file)\n",
    "        dest = os.path.join(cat_dir, file)\n",
    "        copyfile(src, dest)"
   ]
  },
  {
   "cell_type": "code",
   "execution_count": null,
   "metadata": {},
   "outputs": [],
   "source": []
  },
  {
   "cell_type": "code",
   "execution_count": 21,
   "metadata": {},
   "outputs": [
    {
     "name": "stderr",
     "output_type": "stream",
     "text": [
      "100%|██████████| 39/39 [00:02<00:00, 17.20it/s]\n"
     ]
    }
   ],
   "source": [
    "for cat in tqdm(validation_set.keys()):\n",
    "    cat_dir = os.path.join(dataset_path, 'validation_set', 'class_' + str(cat))\n",
    "    os.makedirs(cat_dir)\n",
    "    for file in validation_set[cat]:\n",
    "        src = os.path.join(dataset_path, cat, file)\n",
    "        dest = os.path.join(cat_dir, file)\n",
    "        copyfile(src, dest)"
   ]
  },
  {
   "cell_type": "code",
   "execution_count": 22,
   "metadata": {},
   "outputs": [
    {
     "name": "stderr",
     "output_type": "stream",
     "text": [
      "100%|██████████| 39/39 [00:02<00:00, 16.92it/s]\n"
     ]
    }
   ],
   "source": [
    "for cat in tqdm(test_set.keys()):\n",
    "    cat_dir = os.path.join(dataset_path, 'test_set', 'class_' + str(cat))\n",
    "    os.makedirs(cat_dir)\n",
    "    for file in test_set[cat]:\n",
    "        src = os.path.join(dataset_path, cat, file)\n",
    "        dest = os.path.join(cat_dir, file)\n",
    "        copyfile(src, dest)"
   ]
  },
  {
   "cell_type": "code",
   "execution_count": 23,
   "metadata": {},
   "outputs": [
    {
     "name": "stdout",
     "output_type": "stream",
     "text": [
      "0- Training size: 143 Validation set: 31 Test set: 31\n",
      "1- Training size: 144 Validation set: 31 Test set: 31\n",
      "2- Training size: 144 Validation set: 31 Test set: 31\n",
      "3- Training size: 144 Validation set: 31 Test set: 31\n",
      "4- Training size: 144 Validation set: 31 Test set: 32\n",
      "5- Training size: 144 Validation set: 31 Test set: 32\n",
      "6- Training size: 144 Validation set: 31 Test set: 32\n",
      "7- Training size: 144 Validation set: 31 Test set: 31\n",
      "8- Training size: 145 Validation set: 31 Test set: 32\n",
      "9- Training size: 142 Validation set: 31 Test set: 31\n",
      "A- Training size: 210 Validation set: 45 Test set: 45\n",
      "B- Training size: 210 Validation set: 45 Test set: 45\n",
      "C- Training size: 210 Validation set: 45 Test set: 45\n",
      "D- Training size: 210 Validation set: 45 Test set: 45\n",
      "del- Training size: 210 Validation set: 45 Test set: 45\n",
      "E- Training size: 210 Validation set: 45 Test set: 45\n",
      "F- Training size: 210 Validation set: 45 Test set: 45\n",
      "G- Training size: 210 Validation set: 45 Test set: 45\n",
      "H- Training size: 210 Validation set: 45 Test set: 45\n",
      "I- Training size: 210 Validation set: 45 Test set: 45\n",
      "J- Training size: 210 Validation set: 45 Test set: 45\n",
      "K- Training size: 210 Validation set: 45 Test set: 45\n",
      "L- Training size: 210 Validation set: 45 Test set: 45\n",
      "M- Training size: 210 Validation set: 45 Test set: 45\n",
      "N- Training size: 210 Validation set: 45 Test set: 45\n",
      "nothing- Training size: 210 Validation set: 45 Test set: 45\n",
      "O- Training size: 210 Validation set: 45 Test set: 45\n",
      "P- Training size: 210 Validation set: 45 Test set: 45\n",
      "Q- Training size: 210 Validation set: 45 Test set: 45\n",
      "R- Training size: 210 Validation set: 45 Test set: 45\n",
      "S- Training size: 210 Validation set: 45 Test set: 45\n",
      "space- Training size: 210 Validation set: 45 Test set: 45\n",
      "T- Training size: 210 Validation set: 45 Test set: 45\n",
      "U- Training size: 210 Validation set: 45 Test set: 45\n",
      "V- Training size: 210 Validation set: 45 Test set: 45\n",
      "W- Training size: 210 Validation set: 45 Test set: 45\n",
      "X- Training size: 210 Validation set: 45 Test set: 45\n",
      "Y- Training size: 210 Validation set: 45 Test set: 45\n",
      "Z- Training size: 210 Validation set: 45 Test set: 45\n"
     ]
    }
   ],
   "source": [
    "for i in train_set.keys():\n",
    "    print(i+ \"- Training size: \"+ str(len(train_set[i]))+ \" Validation set: \"+ str(len(validation_set[i]))+ \" Test set: \"+ str(len(test_set[i])))"
   ]
  },
  {
   "cell_type": "code",
   "execution_count": 6,
   "metadata": {},
   "outputs": [
    {
     "name": "stdout",
     "output_type": "stream",
     "text": [
      "Found 7528 images belonging to 39 classes.\n",
      "Found 1615 images belonging to 39 classes.\n",
      "Found 1619 images belonging to 39 classes.\n"
     ]
    }
   ],
   "source": [
    "train_datagen = ImageDataGenerator(rescale=1./255, shear_range=0.2, zoom_range=0.2)\n",
    "validation_datagen = ImageDataGenerator(rescale=1./255)\n",
    "test_datagen = ImageDataGenerator(rescale=1./255)\n",
    "\n",
    "training_data = train_datagen.flow_from_directory(os.path.join(dataset_path, 'training_set'),\n",
    "                                                 target_size = (64,64),\n",
    "                                                 batch_size = 32,\n",
    "                                                 class_mode = 'categorical')\n",
    "\n",
    "validation_data = validation_datagen.flow_from_directory(os.path.join(dataset_path, 'validation_set'),\n",
    "                                            target_size = (64,64),\n",
    "                                            batch_size = 32,\n",
    "                                            class_mode = 'categorical')\n",
    "\n",
    "test_data = test_datagen.flow_from_directory(os.path.join(dataset_path, 'test_set'),\n",
    "                                            target_size = (64,64),\n",
    "                                            batch_size = 32,\n",
    "                                            class_mode = 'categorical')"
   ]
  },
  {
   "cell_type": "code",
   "execution_count": 4,
   "metadata": {},
   "outputs": [
    {
     "name": "stdout",
     "output_type": "stream",
     "text": [
      "WARNING:tensorflow:From C:\\Users\\91876\\Anaconda3\\lib\\site-packages\\tensorflow\\python\\framework\\op_def_library.py:263: colocate_with (from tensorflow.python.framework.ops) is deprecated and will be removed in a future version.\n",
      "Instructions for updating:\n",
      "Colocations handled automatically by placer.\n",
      "WARNING:tensorflow:From C:\\Users\\91876\\Anaconda3\\lib\\site-packages\\keras\\backend\\tensorflow_backend.py:3445: calling dropout (from tensorflow.python.ops.nn_ops) with keep_prob is deprecated and will be removed in a future version.\n",
      "Instructions for updating:\n",
      "Please use `rate` instead of `keep_prob`. Rate should be set to `rate = 1 - keep_prob`.\n"
     ]
    }
   ],
   "source": [
    "classifier = Sequential()\n",
    "\n",
    "classifier.add(Conv2D(32, (3,3), input_shape = (64,64,3), activation= 'relu'))\n",
    "BatchNormalization()\n",
    "classifier.add(MaxPooling2D(pool_size=(2,2)))\n",
    "\n",
    "classifier.add(Conv2D(32, (3,3), activation = 'relu'))\n",
    "BatchNormalization()\n",
    "classifier.add(MaxPooling2D(pool_size = (2,2)))\n",
    "\n",
    "classifier.add(Conv2D(32, (3,3), activation = 'relu'))\n",
    "\n",
    "classifier.add(Dropout(0.5))\n",
    "classifier.add(Flatten())\n",
    "classifier.add(Dense(units = 128, activation = 'relu'))\n",
    "classifier.add(Dropout(0.5))\n",
    "classifier.add(Dense(units = 39, activation = 'softmax'))\n",
    "\n",
    "classifier.compile(optimizer = 'adam', loss = 'categorical_crossentropy', metrics = ['accuracy'])"
   ]
  },
  {
   "cell_type": "code",
   "execution_count": null,
   "metadata": {},
   "outputs": [],
   "source": []
  },
  {
   "cell_type": "code",
   "execution_count": null,
   "metadata": {
    "scrolled": false
   },
   "outputs": [],
   "source": []
  },
  {
   "cell_type": "code",
   "execution_count": null,
   "metadata": {},
   "outputs": [],
   "source": []
  },
  {
   "cell_type": "code",
   "execution_count": 7,
   "metadata": {},
   "outputs": [
    {
     "name": "stdout",
     "output_type": "stream",
     "text": [
      "WARNING:tensorflow:From C:\\Users\\91876\\Anaconda3\\lib\\site-packages\\tensorflow\\python\\ops\\math_ops.py:3066: to_int32 (from tensorflow.python.ops.math_ops) is deprecated and will be removed in a future version.\n",
      "Instructions for updating:\n",
      "Use tf.cast instead.\n",
      "Epoch 1/100\n",
      "236/236 [==============================] - 71s 301ms/step - loss: 3.4671 - acc: 0.0575 - val_loss: 3.0251 - val_acc: 0.1517\n",
      "Epoch 2/100\n",
      "236/236 [==============================] - 77s 325ms/step - loss: 2.8242 - acc: 0.1903 - val_loss: 2.1424 - val_acc: 0.3926\n",
      "Epoch 3/100\n",
      "236/236 [==============================] - 64s 272ms/step - loss: 2.2941 - acc: 0.3145 - val_loss: 1.6517 - val_acc: 0.5201\n",
      "Epoch 4/100\n",
      "236/236 [==============================] - 64s 269ms/step - loss: 2.0014 - acc: 0.3849 - val_loss: 1.4580 - val_acc: 0.5752\n",
      "Epoch 5/100\n",
      "236/236 [==============================] - 65s 273ms/step - loss: 1.7548 - acc: 0.4415 - val_loss: 1.1507 - val_acc: 0.6533\n",
      "Epoch 6/100\n",
      "236/236 [==============================] - 59s 248ms/step - loss: 1.5679 - acc: 0.4967 - val_loss: 1.0935 - val_acc: 0.6743\n",
      "Epoch 7/100\n",
      "236/236 [==============================] - 51s 218ms/step - loss: 1.4626 - acc: 0.5302 - val_loss: 0.9306 - val_acc: 0.7133\n",
      "Epoch 8/100\n",
      "236/236 [==============================] - 51s 214ms/step - loss: 1.3549 - acc: 0.5602 - val_loss: 0.8401 - val_acc: 0.7300\n",
      "Epoch 9/100\n",
      "236/236 [==============================] - 50s 213ms/step - loss: 1.2757 - acc: 0.5781 - val_loss: 0.8126 - val_acc: 0.7517\n",
      "Epoch 10/100\n",
      "236/236 [==============================] - 51s 214ms/step - loss: 1.2122 - acc: 0.6022 - val_loss: 0.7497 - val_acc: 0.7591\n",
      "Epoch 11/100\n",
      "236/236 [==============================] - 50s 214ms/step - loss: 1.1410 - acc: 0.6227 - val_loss: 0.7487 - val_acc: 0.7554\n",
      "Epoch 12/100\n",
      "236/236 [==============================] - 50s 213ms/step - loss: 1.0769 - acc: 0.6372 - val_loss: 0.6385 - val_acc: 0.7895\n",
      "Epoch 13/100\n",
      "236/236 [==============================] - 50s 213ms/step - loss: 0.9977 - acc: 0.6687 - val_loss: 0.6038 - val_acc: 0.8019\n",
      "Epoch 14/100\n",
      "236/236 [==============================] - 50s 212ms/step - loss: 0.9849 - acc: 0.6698 - val_loss: 0.5527 - val_acc: 0.8124\n",
      "Epoch 15/100\n",
      "236/236 [==============================] - 50s 213ms/step - loss: 0.9491 - acc: 0.6788 - val_loss: 0.5349 - val_acc: 0.8365\n",
      "Epoch 16/100\n",
      "236/236 [==============================] - 71s 299ms/step - loss: 0.9022 - acc: 0.6940 - val_loss: 0.4962 - val_acc: 0.8427\n",
      "Epoch 17/100\n",
      "236/236 [==============================] - 50s 212ms/step - loss: 0.8406 - acc: 0.7165 - val_loss: 0.4495 - val_acc: 0.8675\n",
      "Epoch 18/100\n",
      "236/236 [==============================] - 50s 211ms/step - loss: 0.8263 - acc: 0.7153 - val_loss: 0.4600 - val_acc: 0.8613\n",
      "Epoch 19/100\n",
      "236/236 [==============================] - 52s 222ms/step - loss: 0.8186 - acc: 0.7197 - val_loss: 0.4950 - val_acc: 0.8285\n",
      "Epoch 20/100\n",
      "236/236 [==============================] - 50s 210ms/step - loss: 0.7983 - acc: 0.7292 - val_loss: 0.4237 - val_acc: 0.8644\n",
      "Epoch 21/100\n",
      "236/236 [==============================] - 50s 212ms/step - loss: 0.7583 - acc: 0.7464 - val_loss: 0.3730 - val_acc: 0.8830\n",
      "Epoch 22/100\n",
      "236/236 [==============================] - 51s 217ms/step - loss: 0.7306 - acc: 0.7504 - val_loss: 0.3973 - val_acc: 0.8892\n",
      "Epoch 23/100\n",
      "236/236 [==============================] - 50s 212ms/step - loss: 0.7286 - acc: 0.7508 - val_loss: 0.3598 - val_acc: 0.8923\n",
      "Epoch 24/100\n",
      "236/236 [==============================] - 50s 212ms/step - loss: 0.6922 - acc: 0.7630 - val_loss: 0.3478 - val_acc: 0.8947\n",
      "Epoch 25/100\n",
      "236/236 [==============================] - 50s 212ms/step - loss: 0.6655 - acc: 0.7741 - val_loss: 0.3565 - val_acc: 0.8811\n",
      "Epoch 26/100\n",
      "236/236 [==============================] - 50s 211ms/step - loss: 0.6611 - acc: 0.7741 - val_loss: 0.3476 - val_acc: 0.8923\n",
      "Epoch 27/100\n",
      "236/236 [==============================] - 50s 212ms/step - loss: 0.6680 - acc: 0.7718 - val_loss: 0.3160 - val_acc: 0.9084\n",
      "Epoch 28/100\n",
      "236/236 [==============================] - 50s 213ms/step - loss: 0.6344 - acc: 0.7824 - val_loss: 0.3155 - val_acc: 0.9034\n",
      "Epoch 29/100\n",
      "236/236 [==============================] - 50s 212ms/step - loss: 0.6235 - acc: 0.7884 - val_loss: 0.3063 - val_acc: 0.8991\n",
      "Epoch 30/100\n",
      "236/236 [==============================] - 50s 213ms/step - loss: 0.5967 - acc: 0.7940 - val_loss: 0.3361 - val_acc: 0.8985\n",
      "Epoch 31/100\n",
      "236/236 [==============================] - 50s 213ms/step - loss: 0.5997 - acc: 0.7956 - val_loss: 0.3156 - val_acc: 0.8960\n",
      "Epoch 32/100\n",
      "236/236 [==============================] - 50s 211ms/step - loss: 0.6063 - acc: 0.7875 - val_loss: 0.2714 - val_acc: 0.9214\n",
      "Epoch 33/100\n",
      "236/236 [==============================] - 50s 212ms/step - loss: 0.5998 - acc: 0.7958 - val_loss: 0.2917 - val_acc: 0.9102\n",
      "Epoch 34/100\n",
      "236/236 [==============================] - 51s 216ms/step - loss: 0.5679 - acc: 0.8072 - val_loss: 0.2746 - val_acc: 0.9146\n",
      "Epoch 35/100\n",
      "236/236 [==============================] - 50s 213ms/step - loss: 0.5500 - acc: 0.8048 - val_loss: 0.2401 - val_acc: 0.9269\n",
      "Epoch 36/100\n",
      "236/236 [==============================] - 50s 212ms/step - loss: 0.5664 - acc: 0.8048 - val_loss: 0.2375 - val_acc: 0.9269\n",
      "Epoch 37/100\n",
      "236/236 [==============================] - 50s 211ms/step - loss: 0.5429 - acc: 0.8116 - val_loss: 0.2498 - val_acc: 0.9201\n",
      "Epoch 38/100\n",
      "236/236 [==============================] - 50s 211ms/step - loss: 0.5257 - acc: 0.8155 - val_loss: 0.2665 - val_acc: 0.9096\n",
      "Epoch 39/100\n",
      "236/236 [==============================] - 50s 211ms/step - loss: 0.5271 - acc: 0.8189 - val_loss: 0.2360 - val_acc: 0.9214\n",
      "Epoch 40/100\n",
      "236/236 [==============================] - 50s 214ms/step - loss: 0.5381 - acc: 0.8124 - val_loss: 0.2412 - val_acc: 0.9245\n",
      "Epoch 41/100\n",
      "236/236 [==============================] - 50s 213ms/step - loss: 0.4939 - acc: 0.8280 - val_loss: 0.2246 - val_acc: 0.9294\n",
      "Epoch 42/100\n",
      "236/236 [==============================] - 50s 212ms/step - loss: 0.5105 - acc: 0.8264 - val_loss: 0.2326 - val_acc: 0.9344\n",
      "Epoch 43/100\n",
      "236/236 [==============================] - 51s 217ms/step - loss: 0.5044 - acc: 0.8231 - val_loss: 0.2483 - val_acc: 0.9257\n",
      "Epoch 44/100\n",
      "236/236 [==============================] - 50s 211ms/step - loss: 0.4812 - acc: 0.8338 - val_loss: 0.2213 - val_acc: 0.9263\n",
      "Epoch 45/100\n",
      "236/236 [==============================] - 51s 214ms/step - loss: 0.4586 - acc: 0.8402 - val_loss: 0.2347 - val_acc: 0.9158\n",
      "Epoch 46/100\n",
      "236/236 [==============================] - 51s 214ms/step - loss: 0.4861 - acc: 0.8301 - val_loss: 0.2086 - val_acc: 0.9300\n",
      "Epoch 47/100\n",
      "236/236 [==============================] - 50s 210ms/step - loss: 0.4613 - acc: 0.8387 - val_loss: 0.2548 - val_acc: 0.9096\n",
      "Epoch 48/100\n",
      "236/236 [==============================] - 50s 211ms/step - loss: 0.4690 - acc: 0.8398 - val_loss: 0.2177 - val_acc: 0.9276\n",
      "Epoch 49/100\n",
      "236/236 [==============================] - 50s 213ms/step - loss: 0.4637 - acc: 0.8391 - val_loss: 0.2051 - val_acc: 0.9313\n",
      "Epoch 50/100\n",
      "236/236 [==============================] - 50s 212ms/step - loss: 0.4673 - acc: 0.8395 - val_loss: 0.2327 - val_acc: 0.9189\n",
      "Epoch 51/100\n",
      "236/236 [==============================] - 50s 214ms/step - loss: 0.4612 - acc: 0.8408 - val_loss: 0.2221 - val_acc: 0.9269\n",
      "Epoch 52/100\n",
      "236/236 [==============================] - 50s 214ms/step - loss: 0.4586 - acc: 0.8419 - val_loss: 0.1948 - val_acc: 0.9375\n",
      "Epoch 53/100\n",
      "236/236 [==============================] - 50s 212ms/step - loss: 0.4251 - acc: 0.8502 - val_loss: 0.1939 - val_acc: 0.9344\n",
      "Epoch 54/100\n",
      "236/236 [==============================] - 50s 210ms/step - loss: 0.4245 - acc: 0.8550 - val_loss: 0.1992 - val_acc: 0.9331\n",
      "Epoch 55/100\n",
      "236/236 [==============================] - 50s 213ms/step - loss: 0.4150 - acc: 0.8570 - val_loss: 0.1874 - val_acc: 0.9393\n",
      "Epoch 56/100\n",
      "236/236 [==============================] - 50s 214ms/step - loss: 0.4314 - acc: 0.8542 - val_loss: 0.1846 - val_acc: 0.9362\n",
      "Epoch 57/100\n",
      "236/236 [==============================] - 51s 216ms/step - loss: 0.4129 - acc: 0.8595 - val_loss: 0.1792 - val_acc: 0.9455\n",
      "Epoch 58/100\n",
      "236/236 [==============================] - 50s 213ms/step - loss: 0.4192 - acc: 0.8558 - val_loss: 0.1793 - val_acc: 0.9399\n"
     ]
    },
    {
     "name": "stdout",
     "output_type": "stream",
     "text": [
      "Epoch 59/100\n",
      "236/236 [==============================] - 49s 209ms/step - loss: 0.3955 - acc: 0.8647 - val_loss: 0.1786 - val_acc: 0.9424\n",
      "Epoch 60/100\n",
      "236/236 [==============================] - 49s 208ms/step - loss: 0.3992 - acc: 0.8603 - val_loss: 0.1852 - val_acc: 0.9350\n",
      "Epoch 61/100\n",
      "236/236 [==============================] - 49s 208ms/step - loss: 0.3978 - acc: 0.8596 - val_loss: 0.2136 - val_acc: 0.9238\n",
      "Epoch 62/100\n",
      "236/236 [==============================] - 49s 210ms/step - loss: 0.3886 - acc: 0.8663 - val_loss: 0.1798 - val_acc: 0.9381\n",
      "Epoch 63/100\n",
      "236/236 [==============================] - 49s 209ms/step - loss: 0.4116 - acc: 0.8588 - val_loss: 0.1797 - val_acc: 0.9381\n",
      "Epoch 64/100\n",
      "236/236 [==============================] - 49s 210ms/step - loss: 0.3787 - acc: 0.8716 - val_loss: 0.1750 - val_acc: 0.9387\n",
      "Epoch 65/100\n",
      "236/236 [==============================] - 49s 209ms/step - loss: 0.3720 - acc: 0.8675 - val_loss: 0.1624 - val_acc: 0.9474\n",
      "Epoch 66/100\n",
      "236/236 [==============================] - 49s 210ms/step - loss: 0.3897 - acc: 0.8661 - val_loss: 0.1631 - val_acc: 0.9437\n",
      "Epoch 67/100\n",
      "236/236 [==============================] - 49s 209ms/step - loss: 0.3727 - acc: 0.8698 - val_loss: 0.1628 - val_acc: 0.9455\n",
      "Epoch 68/100\n",
      "236/236 [==============================] - 49s 209ms/step - loss: 0.3914 - acc: 0.8624 - val_loss: 0.1762 - val_acc: 0.9387\n",
      "Epoch 69/100\n",
      "236/236 [==============================] - 51s 215ms/step - loss: 0.3670 - acc: 0.8745 - val_loss: 0.1685 - val_acc: 0.9406\n",
      "Epoch 70/100\n",
      "236/236 [==============================] - 50s 214ms/step - loss: 0.3630 - acc: 0.8745 - val_loss: 0.1533 - val_acc: 0.9486\n",
      "Epoch 71/100\n",
      "236/236 [==============================] - 50s 211ms/step - loss: 0.3540 - acc: 0.8718 - val_loss: 0.1685 - val_acc: 0.9455\n",
      "Epoch 72/100\n",
      "236/236 [==============================] - 51s 217ms/step - loss: 0.3847 - acc: 0.8659 - val_loss: 0.1683 - val_acc: 0.9467\n",
      "Epoch 73/100\n",
      "236/236 [==============================] - 50s 213ms/step - loss: 0.3615 - acc: 0.8759 - val_loss: 0.1460 - val_acc: 0.9511\n",
      "Epoch 74/100\n",
      "236/236 [==============================] - 52s 220ms/step - loss: 0.3563 - acc: 0.8811 - val_loss: 0.1546 - val_acc: 0.9455\n",
      "Epoch 75/100\n",
      "236/236 [==============================] - 51s 214ms/step - loss: 0.3471 - acc: 0.8784 - val_loss: 0.1511 - val_acc: 0.9461\n",
      "Epoch 76/100\n",
      "236/236 [==============================] - 52s 221ms/step - loss: 0.3686 - acc: 0.8717 - val_loss: 0.1535 - val_acc: 0.9467\n",
      "Epoch 77/100\n",
      "236/236 [==============================] - 50s 210ms/step - loss: 0.3471 - acc: 0.8833 - val_loss: 0.1570 - val_acc: 0.9467\n",
      "Epoch 78/100\n",
      "236/236 [==============================] - 50s 212ms/step - loss: 0.3310 - acc: 0.8852 - val_loss: 0.1647 - val_acc: 0.9461\n",
      "Epoch 79/100\n",
      "236/236 [==============================] - 50s 212ms/step - loss: 0.3472 - acc: 0.8774 - val_loss: 0.1541 - val_acc: 0.9511\n",
      "Epoch 80/100\n",
      "236/236 [==============================] - 52s 220ms/step - loss: 0.3486 - acc: 0.8829 - val_loss: 0.1545 - val_acc: 0.9449\n",
      "Epoch 81/100\n",
      "236/236 [==============================] - 50s 212ms/step - loss: 0.3631 - acc: 0.8758 - val_loss: 0.1629 - val_acc: 0.9418\n",
      "Epoch 82/100\n",
      "236/236 [==============================] - 50s 212ms/step - loss: 0.3357 - acc: 0.8841 - val_loss: 0.1581 - val_acc: 0.9424\n",
      "Epoch 83/100\n",
      "236/236 [==============================] - 50s 212ms/step - loss: 0.3404 - acc: 0.8848 - val_loss: 0.1420 - val_acc: 0.9529\n",
      "Epoch 84/100\n",
      "236/236 [==============================] - 50s 212ms/step - loss: 0.3483 - acc: 0.8774 - val_loss: 0.1775 - val_acc: 0.9430\n",
      "Epoch 85/100\n",
      "236/236 [==============================] - 50s 212ms/step - loss: 0.3420 - acc: 0.8811 - val_loss: 0.1497 - val_acc: 0.9505\n",
      "Epoch 86/100\n",
      "236/236 [==============================] - 50s 211ms/step - loss: 0.3409 - acc: 0.8873 - val_loss: 0.1519 - val_acc: 0.9486\n",
      "Epoch 87/100\n",
      "236/236 [==============================] - 50s 212ms/step - loss: 0.3146 - acc: 0.8926 - val_loss: 0.1536 - val_acc: 0.9474\n",
      "Epoch 88/100\n",
      "236/236 [==============================] - 51s 217ms/step - loss: 0.3253 - acc: 0.8880 - val_loss: 0.1582 - val_acc: 0.9474\n",
      "Epoch 89/100\n",
      "236/236 [==============================] - 51s 214ms/step - loss: 0.3101 - acc: 0.8930 - val_loss: 0.1364 - val_acc: 0.9560\n",
      "Epoch 90/100\n",
      "236/236 [==============================] - 50s 211ms/step - loss: 0.3106 - acc: 0.8941 - val_loss: 0.1609 - val_acc: 0.9412\n",
      "Epoch 91/100\n",
      "236/236 [==============================] - 50s 213ms/step - loss: 0.3116 - acc: 0.8893 - val_loss: 0.1591 - val_acc: 0.9443\n",
      "Epoch 92/100\n",
      "236/236 [==============================] - 50s 212ms/step - loss: 0.3059 - acc: 0.8969 - val_loss: 0.1356 - val_acc: 0.9486\n",
      "Epoch 93/100\n",
      "236/236 [==============================] - 50s 210ms/step - loss: 0.3169 - acc: 0.8898 - val_loss: 0.1282 - val_acc: 0.9585\n",
      "Epoch 94/100\n",
      "236/236 [==============================] - 50s 213ms/step - loss: 0.3056 - acc: 0.8946 - val_loss: 0.1381 - val_acc: 0.9498\n",
      "Epoch 95/100\n",
      "236/236 [==============================] - 50s 212ms/step - loss: 0.3148 - acc: 0.8927 - val_loss: 0.1284 - val_acc: 0.9567\n",
      "Epoch 96/100\n",
      "236/236 [==============================] - 50s 214ms/step - loss: 0.3007 - acc: 0.8941 - val_loss: 0.1348 - val_acc: 0.9585\n",
      "Epoch 97/100\n",
      "236/236 [==============================] - 50s 211ms/step - loss: 0.3134 - acc: 0.8957 - val_loss: 0.1259 - val_acc: 0.9579\n",
      "Epoch 98/100\n",
      "236/236 [==============================] - 50s 211ms/step - loss: 0.3060 - acc: 0.8945 - val_loss: 0.1375 - val_acc: 0.9492\n",
      "Epoch 99/100\n",
      "236/236 [==============================] - 50s 211ms/step - loss: 0.3109 - acc: 0.8951 - val_loss: 0.1573 - val_acc: 0.9461\n",
      "Epoch 100/100\n",
      "236/236 [==============================] - 50s 213ms/step - loss: 0.3047 - acc: 0.8945 - val_loss: 0.1313 - val_acc: 0.9517\n"
     ]
    }
   ],
   "source": [
    "history = classifier.fit_generator(training_data,\n",
    "                                  steps_per_epoch= math.ceil(training_data.n/training_data.batch_size),\n",
    "                                  epochs=100,\n",
    "                                  validation_data= validation_data,\n",
    "                                  validation_steps= math.ceil(validation_data.n/validation_data.batch_size))"
   ]
  },
  {
   "cell_type": "code",
   "execution_count": 22,
   "metadata": {},
   "outputs": [
    {
     "data": {
      "text/plain": [
       "<matplotlib.legend.Legend at 0x20dc026ad68>"
      ]
     },
     "execution_count": 22,
     "metadata": {},
     "output_type": "execute_result"
    },
    {
     "data": {
      "image/png": "[encoded data removed]",
      "text/plain": [
       "<Figure size 432x288 with 1 Axes>"
      ]
     },
     "metadata": {
      "needs_background": "light"
     },
     "output_type": "display_data"
    }
   ],
   "source": [
    "\n",
    "plt.plot(history.history['acc'])\n",
    "plt.plot(history.history['val_acc'])\n",
    "plt.title('Model Accuracy')\n",
    "plt.ylabel('accuracy')\n",
    "plt.xlabel('epoch')\n",
    "plt.legend(['Training', 'Validation'])\n"
   ]
  },
  {
   "cell_type": "code",
   "execution_count": 9,
   "metadata": {},
   "outputs": [
    {
     "name": "stdout",
     "output_type": "stream",
     "text": [
      "Accuracy on test set : 0.9549104385423101\n"
     ]
    }
   ],
   "source": [
    "test_loss, test_accuracy = classifier.evaluate_generator(test_data, math.ceil(test_data.n / test_data.batch_size))\n",
    "print(\"Accuracy on test set : {}\".format(test_accuracy))"
   ]
  },
  {
   "cell_type": "code",
   "execution_count": 10,
   "metadata": {},
   "outputs": [
    {
     "name": "stdout",
     "output_type": "stream",
     "text": [
      "Accuracy on validation set: 0.9517027864884297\n"
     ]
    }
   ],
   "source": [
    "validation_loss, validation_accuracy = classifier.evaluate_generator(validation_data, math.ceil(validation_data.n / validation_data.batch_size))\n",
    "print(\"Accuracy on validation set: {}\".format(validation_accuracy))"
   ]
  },
  {
   "cell_type": "code",
   "execution_count": 11,
   "metadata": {},
   "outputs": [
    {
     "name": "stdout",
     "output_type": "stream",
     "text": [
      "Accuracy on training set: 0.9905685441020191\n"
     ]
    }
   ],
   "source": [
    "train_loss, training_accuracy = classifier.evaluate_generator(training_data, math.ceil(training_data.n / training_data.batch_size))\n",
    "print(\"Accuracy on training set: {}\".format(training_accuracy))"
   ]
  },
  {
   "cell_type": "code",
   "execution_count": 15,
   "metadata": {},
   "outputs": [
    {
     "data": {
      "text/plain": [
       "['model1.pkl']"
      ]
     },
     "execution_count": 15,
     "metadata": {},
     "output_type": "execute_result"
    }
   ],
   "source": [
    "import joblib\n",
    "joblib.dump(history, 'model1.pkl')"
   ]
  },
  {
   "cell_type": "code",
   "execution_count": 41,
   "metadata": {},
   "outputs": [],
   "source": [
    "import joblib\n",
    "history_reloaded = joblib.load('model1.pkl')"
   ]
  },
  {
   "cell_type": "code",
   "execution_count": 3,
   "metadata": {},
   "outputs": [
    {
     "data": {
      "text/plain": [
       "<matplotlib.legend.Legend at 0x19fbb24d400>"
      ]
     },
     "execution_count": 3,
     "metadata": {},
     "output_type": "execute_result"
    },
    {
     "data": {
      "image/png": "[encoded data removed]",
      "text/plain": [
       "<Figure size 432x288 with 1 Axes>"
      ]
     },
     "metadata": {
      "needs_background": "light"
     },
     "output_type": "display_data"
    }
   ],
   "source": [
    "plt.plot(history_reloaded.history['acc'])\n",
    "plt.plot(history_reloaded.history['val_acc'])\n",
    "plt.title('Model Accuracy')\n",
    "plt.ylabel('accuracy')\n",
    "plt.xlabel('epoch')\n",
    "plt.legend(['Training', 'Validation'])\n"
   ]
  },
  {
   "cell_type": "code",
   "execution_count": 62,
   "metadata": {},
   "outputs": [
    {
     "name": "stdout",
     "output_type": "stream",
     "text": [
      "G\n",
      "K\n",
      "D\n",
      "del\n",
      "K\n",
      "K\n",
      "N\n",
      "Z\n",
      "T\n",
      "N\n",
      "P\n",
      "\n"
     ]
    }
   ],
   "source": [
    "from keras.preprocessing.image import load_img\n",
    "from keras.applications.resnet50 import preprocess_input\n",
    "sentence = \"\"\n",
    "cat_dir = \"Predict\"\n",
    "cat_files = os.listdir(cat_dir)\n",
    "\n",
    "for i in cat_files:\n",
    "    img = load_img(os.path.join(cat_dir, i), target_size=(64,64))\n",
    "    test_image = image.img_to_array(img)\n",
    "    test_image = test_image / 255\n",
    "    test_image = np.expand_dims(test_image, axis = 0)\n",
    "    images = np.vstack([test_image])\n",
    "    classes = classifier.predict(images, batch_size=10)\n",
    "    print(class_list[np.argmax(classes)])\n",
    "    \n",
    "\n",
    "print(sentence)"
   ]
  },
  {
   "cell_type": "code",
   "execution_count": 44,
   "metadata": {},
   "outputs": [],
   "source": [
    "class_list = ['0', '1', '2', '3', '4', '5', '6', '7', '8', '9', 'A', 'B', 'C', 'D', 'del', 'E', 'F', 'G', 'H', 'I', 'J', 'K', 'L', 'M', 'N', 'nothing', 'O', 'P', 'Q', 'R', 'S', 'space', 'T', 'U', 'V', 'W', 'X', 'Y', 'Z']"
   ]
  }
 ],
 "metadata": {
  "kernelspec": {
   "display_name": "Python 3",
   "language": "python",
   "name": "python3"
  },
  "language_info": {
   "codemirror_mode": {
    "name": "ipython",
    "version": 3
   },
   "file_extension": ".py",
   "mimetype": "text/x-python",
   "name": "python",
   "nbconvert_exporter": "python",
   "pygments_lexer": "ipython3",
   "version": "3.7.1"
  }
 },
 "nbformat": 4,
 "nbformat_minor": 2
}
