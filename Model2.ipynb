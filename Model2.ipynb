{
 "cells": [
  {
   "cell_type": "code",
   "execution_count": 1,
   "metadata": {},
   "outputs": [
    {
     "name": "stderr",
     "output_type": "stream",
     "text": [
      "Using TensorFlow backend.\n",
      "C:\\Users\\91876\\Anaconda3\\lib\\site-packages\\tensorflow\\python\\framework\\dtypes.py:526: FutureWarning: Passing (type, 1) or '1type' as a synonym of type is deprecated; in a future version of numpy, it will be understood as (type, (1,)) / '(1,)type'.\n",
      "  _np_qint8 = np.dtype([(\"qint8\", np.int8, 1)])\n",
      "C:\\Users\\91876\\Anaconda3\\lib\\site-packages\\tensorflow\\python\\framework\\dtypes.py:527: FutureWarning: Passing (type, 1) or '1type' as a synonym of type is deprecated; in a future version of numpy, it will be understood as (type, (1,)) / '(1,)type'.\n",
      "  _np_quint8 = np.dtype([(\"quint8\", np.uint8, 1)])\n",
      "C:\\Users\\91876\\Anaconda3\\lib\\site-packages\\tensorflow\\python\\framework\\dtypes.py:528: FutureWarning: Passing (type, 1) or '1type' as a synonym of type is deprecated; in a future version of numpy, it will be understood as (type, (1,)) / '(1,)type'.\n",
      "  _np_qint16 = np.dtype([(\"qint16\", np.int16, 1)])\n",
      "C:\\Users\\91876\\Anaconda3\\lib\\site-packages\\tensorflow\\python\\framework\\dtypes.py:529: FutureWarning: Passing (type, 1) or '1type' as a synonym of type is deprecated; in a future version of numpy, it will be understood as (type, (1,)) / '(1,)type'.\n",
      "  _np_quint16 = np.dtype([(\"quint16\", np.uint16, 1)])\n",
      "C:\\Users\\91876\\Anaconda3\\lib\\site-packages\\tensorflow\\python\\framework\\dtypes.py:530: FutureWarning: Passing (type, 1) or '1type' as a synonym of type is deprecated; in a future version of numpy, it will be understood as (type, (1,)) / '(1,)type'.\n",
      "  _np_qint32 = np.dtype([(\"qint32\", np.int32, 1)])\n",
      "C:\\Users\\91876\\Anaconda3\\lib\\site-packages\\tensorflow\\python\\framework\\dtypes.py:535: FutureWarning: Passing (type, 1) or '1type' as a synonym of type is deprecated; in a future version of numpy, it will be understood as (type, (1,)) / '(1,)type'.\n",
      "  np_resource = np.dtype([(\"resource\", np.ubyte, 1)])\n"
     ]
    }
   ],
   "source": [
    "import os, cv, math\n",
    "from keras.models import Sequential\n",
    "from keras.layers import Conv2D\n",
    "from keras.layers import MaxPooling2D\n",
    "from keras.layers import Flatten\n",
    "from keras.layers import Dense\n",
    "from keras.layers import Dropout, BatchNormalization\n",
    "from keras.preprocessing.image import ImageDataGenerator\n",
    "from keras.utils import plot_model\n",
    "import numpy as np\n",
    "from keras.preprocessing import image\n",
    "from sklearn.model_selection import train_test_split\n",
    "from shutil import copyfile\n",
    "from tqdm import tqdm\n",
    "import matplotlib.pyplot as plt\n",
    "import matplotlib.image as mpimg\n",
    "%matplotlib inline"
   ]
  },
  {
   "cell_type": "code",
   "execution_count": 2,
   "metadata": {},
   "outputs": [
    {
     "name": "stdout",
     "output_type": "stream",
     "text": [
      "['0', '1', '2', '3', '4', '5', '6', '7', '8', '9', 'A', 'B', 'C', 'D', 'del', 'E', 'F', 'G', 'H', 'I', 'J', 'K', 'L', 'M', 'N', 'nothing', 'O', 'P', 'Q', 'R', 'S', 'space', 'T', 'test_set', 'training_set', 'U', 'V', 'validation_set', 'W', 'X', 'Y', 'Z']\n"
     ]
    }
   ],
   "source": [
    "dataset_path = 'asl_dataset'\n",
    "dataset_list = os.listdir(dataset_path)\n",
    "print(dataset_list)"
   ]
  },
  {
   "cell_type": "code",
   "execution_count": 3,
   "metadata": {},
   "outputs": [
    {
     "name": "stdout",
     "output_type": "stream",
     "text": [
      "Found 7528 images belonging to 39 classes.\n",
      "Found 1615 images belonging to 39 classes.\n",
      "Found 1619 images belonging to 39 classes.\n"
     ]
    }
   ],
   "source": [
    "train_datagen = ImageDataGenerator(rescale=1./255, shear_range=0.2, zoom_range=0.2, horizontal_flip=True)\n",
    "validation_datagen = ImageDataGenerator(rescale=1./255)\n",
    "test_datagen = ImageDataGenerator(rescale=1./255)\n",
    "\n",
    "training_data = train_datagen.flow_from_directory(os.path.join(dataset_path, 'training_set'),\n",
    "                                                 target_size = (64,64),\n",
    "                                                 batch_size = 32,\n",
    "                                                 class_mode = 'categorical')\n",
    "\n",
    "validation_data = validation_datagen.flow_from_directory(os.path.join(dataset_path, 'validation_set'),\n",
    "                                            target_size = (64,64),\n",
    "                                            batch_size = 32,\n",
    "                                            class_mode = 'categorical')\n",
    "\n",
    "test_data = test_datagen.flow_from_directory(os.path.join(dataset_path, 'test_set'),\n",
    "                                            target_size = (64,64),\n",
    "                                            batch_size = 32,\n",
    "                                            class_mode = 'categorical')"
   ]
  },
  {
   "cell_type": "code",
   "execution_count": 4,
   "metadata": {},
   "outputs": [
    {
     "name": "stdout",
     "output_type": "stream",
     "text": [
      "WARNING:tensorflow:From C:\\Users\\91876\\Anaconda3\\lib\\site-packages\\tensorflow\\python\\framework\\op_def_library.py:263: colocate_with (from tensorflow.python.framework.ops) is deprecated and will be removed in a future version.\n",
      "Instructions for updating:\n",
      "Colocations handled automatically by placer.\n",
      "WARNING:tensorflow:From C:\\Users\\91876\\Anaconda3\\lib\\site-packages\\keras\\backend\\tensorflow_backend.py:3445: calling dropout (from tensorflow.python.ops.nn_ops) with keep_prob is deprecated and will be removed in a future version.\n",
      "Instructions for updating:\n",
      "Please use `rate` instead of `keep_prob`. Rate should be set to `rate = 1 - keep_prob`.\n"
     ]
    }
   ],
   "source": [
    "classifier = Sequential()\n",
    "\n",
    "classifier.add(Conv2D(32, (3,3), input_shape = (64,64,3), activation= 'relu'))\n",
    "# BatchNormalization()\n",
    "classifier.add(MaxPooling2D(pool_size=(2,2)))\n",
    "\n",
    "classifier.add(Conv2D(32, (3,3), activation = 'relu'))\n",
    "# BatchNormalization()\n",
    "classifier.add(MaxPooling2D(pool_size = (2,2)))\n",
    "\n",
    "# classifier.add(Conv2D(32, (3,3), activation = 'relu'))\n",
    "# classifier.add(MaxPooling2D(pool_size = (2,2)))\n",
    "\n",
    "classifier.add(Dropout(0.5))\n",
    "classifier.add(Flatten())\n",
    "classifier.add(Dense(units = 128, activation = 'relu'))\n",
    "classifier.add(Dropout(0.5))\n",
    "classifier.add(Dense(units = 39, activation = 'softmax'))\n",
    "\n",
    "classifier.compile(optimizer = 'adam', loss = 'categorical_crossentropy', metrics = ['accuracy'])"
   ]
  },
  {
   "cell_type": "code",
   "execution_count": 5,
   "metadata": {},
   "outputs": [
    {
     "name": "stdout",
     "output_type": "stream",
     "text": [
      "WARNING:tensorflow:From C:\\Users\\91876\\Anaconda3\\lib\\site-packages\\tensorflow\\python\\ops\\math_ops.py:3066: to_int32 (from tensorflow.python.ops.math_ops) is deprecated and will be removed in a future version.\n",
      "Instructions for updating:\n",
      "Use tf.cast instead.\n",
      "Epoch 1/100\n",
      "236/236 [==============================] - 49s 207ms/step - loss: 3.4322 - acc: 0.0575 - val_loss: 2.9754 - val_acc: 0.1486\n",
      "Epoch 2/100\n",
      "236/236 [==============================] - 49s 207ms/step - loss: 2.9391 - acc: 0.1486 - val_loss: 2.4352 - val_acc: 0.3034\n",
      "Epoch 3/100\n",
      "236/236 [==============================] - 49s 208ms/step - loss: 2.5980 - acc: 0.2272 - val_loss: 2.1238 - val_acc: 0.3851\n",
      "Epoch 4/100\n",
      "236/236 [==============================] - 49s 208ms/step - loss: 2.3260 - acc: 0.2887 - val_loss: 1.7761 - val_acc: 0.4613\n",
      "Epoch 5/100\n",
      "236/236 [==============================] - 51s 216ms/step - loss: 2.1233 - acc: 0.3349 - val_loss: 1.6297 - val_acc: 0.5127\n",
      "Epoch 6/100\n",
      "236/236 [==============================] - 50s 211ms/step - loss: 2.0070 - acc: 0.3680 - val_loss: 1.5638 - val_acc: 0.5207\n",
      "Epoch 7/100\n",
      "236/236 [==============================] - 49s 209ms/step - loss: 1.8827 - acc: 0.3966 - val_loss: 1.3800 - val_acc: 0.5678\n",
      "Epoch 8/100\n",
      "236/236 [==============================] - 49s 208ms/step - loss: 1.8064 - acc: 0.4157 - val_loss: 1.4673 - val_acc: 0.5139\n",
      "Epoch 9/100\n",
      "236/236 [==============================] - 49s 208ms/step - loss: 1.7171 - acc: 0.4388 - val_loss: 1.2627 - val_acc: 0.6093\n",
      "Epoch 10/100\n",
      "236/236 [==============================] - 49s 210ms/step - loss: 1.6670 - acc: 0.4628 - val_loss: 1.1851 - val_acc: 0.6279\n",
      "Epoch 11/100\n",
      "236/236 [==============================] - 51s 216ms/step - loss: 1.6166 - acc: 0.4666 - val_loss: 1.1259 - val_acc: 0.6458\n",
      "Epoch 12/100\n",
      "236/236 [==============================] - 49s 208ms/step - loss: 1.5676 - acc: 0.4856 - val_loss: 1.0585 - val_acc: 0.6675\n",
      "Epoch 13/100\n",
      "236/236 [==============================] - 50s 211ms/step - loss: 1.5257 - acc: 0.4956 - val_loss: 1.0604 - val_acc: 0.6489\n",
      "Epoch 14/100\n",
      "236/236 [==============================] - 50s 210ms/step - loss: 1.4675 - acc: 0.5155 - val_loss: 1.0047 - val_acc: 0.6935\n",
      "Epoch 15/100\n",
      "236/236 [==============================] - 50s 210ms/step - loss: 1.4449 - acc: 0.5144 - val_loss: 0.9494 - val_acc: 0.7183\n",
      "Epoch 16/100\n",
      "236/236 [==============================] - 49s 209ms/step - loss: 1.4142 - acc: 0.5365 - val_loss: 0.9612 - val_acc: 0.7046\n",
      "Epoch 17/100\n",
      "236/236 [==============================] - 49s 209ms/step - loss: 1.3673 - acc: 0.5372 - val_loss: 0.8985 - val_acc: 0.7164\n",
      "Epoch 18/100\n",
      "236/236 [==============================] - 49s 209ms/step - loss: 1.3571 - acc: 0.5454 - val_loss: 0.8668 - val_acc: 0.7195\n",
      "Epoch 19/100\n",
      "236/236 [==============================] - 49s 209ms/step - loss: 1.3241 - acc: 0.5502 - val_loss: 0.8980 - val_acc: 0.7077\n",
      "Epoch 20/100\n",
      "236/236 [==============================] - 49s 208ms/step - loss: 1.3116 - acc: 0.5572 - val_loss: 0.9149 - val_acc: 0.6997\n",
      "Epoch 21/100\n",
      "236/236 [==============================] - 49s 209ms/step - loss: 1.2750 - acc: 0.5681 - val_loss: 0.7958 - val_acc: 0.7393\n",
      "Epoch 22/100\n",
      "236/236 [==============================] - 49s 209ms/step - loss: 1.2452 - acc: 0.5800 - val_loss: 0.7923 - val_acc: 0.7548\n",
      "Epoch 23/100\n",
      "236/236 [==============================] - 49s 208ms/step - loss: 1.2358 - acc: 0.5805 - val_loss: 0.8083 - val_acc: 0.7362\n",
      "Epoch 24/100\n",
      "236/236 [==============================] - 49s 208ms/step - loss: 1.2093 - acc: 0.5940 - val_loss: 0.7900 - val_acc: 0.7412\n",
      "Epoch 25/100\n",
      "236/236 [==============================] - 49s 208ms/step - loss: 1.2188 - acc: 0.5906 - val_loss: 0.8100 - val_acc: 0.7381\n",
      "Epoch 26/100\n",
      "236/236 [==============================] - 49s 210ms/step - loss: 1.1831 - acc: 0.5944 - val_loss: 0.7132 - val_acc: 0.7659\n",
      "Epoch 27/100\n",
      "236/236 [==============================] - 49s 208ms/step - loss: 1.1545 - acc: 0.6026 - val_loss: 0.7103 - val_acc: 0.7684\n",
      "Epoch 28/100\n",
      "236/236 [==============================] - 51s 216ms/step - loss: 1.1589 - acc: 0.6084 - val_loss: 0.7073 - val_acc: 0.7759\n",
      "Epoch 29/100\n",
      "236/236 [==============================] - 50s 210ms/step - loss: 1.1441 - acc: 0.6140 - val_loss: 0.6682 - val_acc: 0.7926\n",
      "Epoch 30/100\n",
      "236/236 [==============================] - 50s 210ms/step - loss: 1.1350 - acc: 0.6135 - val_loss: 0.7580 - val_acc: 0.7474\n",
      "Epoch 31/100\n",
      "236/236 [==============================] - 49s 208ms/step - loss: 1.1170 - acc: 0.6220 - val_loss: 0.6543 - val_acc: 0.7845\n",
      "Epoch 32/100\n",
      "236/236 [==============================] - 49s 208ms/step - loss: 1.0794 - acc: 0.6314 - val_loss: 0.6433 - val_acc: 0.7944\n",
      "Epoch 33/100\n",
      "236/236 [==============================] - 49s 208ms/step - loss: 1.0792 - acc: 0.6340 - val_loss: 0.6326 - val_acc: 0.8037\n",
      "Epoch 34/100\n",
      "236/236 [==============================] - 49s 208ms/step - loss: 1.0551 - acc: 0.6382 - val_loss: 0.6241 - val_acc: 0.7920\n",
      "Epoch 35/100\n",
      "236/236 [==============================] - 49s 209ms/step - loss: 1.0494 - acc: 0.6410 - val_loss: 0.6326 - val_acc: 0.8031\n",
      "Epoch 36/100\n",
      "236/236 [==============================] - 49s 208ms/step - loss: 1.0520 - acc: 0.6397 - val_loss: 0.6174 - val_acc: 0.7988\n",
      "Epoch 37/100\n",
      "236/236 [==============================] - 49s 208ms/step - loss: 1.0413 - acc: 0.6434 - val_loss: 0.5976 - val_acc: 0.8105\n",
      "Epoch 38/100\n",
      "236/236 [==============================] - 49s 210ms/step - loss: 1.0375 - acc: 0.6417 - val_loss: 0.6471 - val_acc: 0.7839\n",
      "Epoch 39/100\n",
      "236/236 [==============================] - 49s 209ms/step - loss: 1.0102 - acc: 0.6545 - val_loss: 0.5688 - val_acc: 0.8186\n",
      "Epoch 40/100\n",
      "236/236 [==============================] - 49s 209ms/step - loss: 1.0035 - acc: 0.6502 - val_loss: 0.6080 - val_acc: 0.8068\n",
      "Epoch 41/100\n",
      "236/236 [==============================] - 50s 210ms/step - loss: 0.9961 - acc: 0.6610 - val_loss: 0.5778 - val_acc: 0.8130\n",
      "Epoch 42/100\n",
      "236/236 [==============================] - 49s 209ms/step - loss: 0.9830 - acc: 0.6629 - val_loss: 0.5405 - val_acc: 0.8272\n",
      "Epoch 43/100\n",
      "236/236 [==============================] - 49s 209ms/step - loss: 1.0019 - acc: 0.6555 - val_loss: 0.5310 - val_acc: 0.8310\n",
      "Epoch 44/100\n",
      "236/236 [==============================] - 49s 209ms/step - loss: 0.9576 - acc: 0.6659 - val_loss: 0.5315 - val_acc: 0.8365\n",
      "Epoch 45/100\n",
      "236/236 [==============================] - 49s 209ms/step - loss: 0.9671 - acc: 0.6643 - val_loss: 0.5160 - val_acc: 0.8384\n",
      "Epoch 46/100\n",
      "236/236 [==============================] - 49s 208ms/step - loss: 0.9383 - acc: 0.6792 - val_loss: 0.5179 - val_acc: 0.8396\n",
      "Epoch 47/100\n",
      "236/236 [==============================] - 49s 207ms/step - loss: 0.9379 - acc: 0.6810 - val_loss: 0.5195 - val_acc: 0.8279\n",
      "Epoch 48/100\n",
      "236/236 [==============================] - 49s 209ms/step - loss: 0.9309 - acc: 0.6822 - val_loss: 0.5297 - val_acc: 0.8310\n",
      "Epoch 49/100\n",
      "236/236 [==============================] - 50s 211ms/step - loss: 0.9382 - acc: 0.6719 - val_loss: 0.4892 - val_acc: 0.8502\n",
      "Epoch 50/100\n",
      "236/236 [==============================] - 49s 208ms/step - loss: 0.8998 - acc: 0.6879 - val_loss: 0.5018 - val_acc: 0.8421\n",
      "Epoch 51/100\n",
      "236/236 [==============================] - 49s 209ms/step - loss: 0.8995 - acc: 0.6925 - val_loss: 0.4718 - val_acc: 0.8557\n",
      "Epoch 52/100\n",
      "236/236 [==============================] - 49s 208ms/step - loss: 0.9021 - acc: 0.6925 - val_loss: 0.4580 - val_acc: 0.8663\n",
      "Epoch 53/100\n",
      "236/236 [==============================] - 49s 207ms/step - loss: 0.9020 - acc: 0.6833 - val_loss: 0.5057 - val_acc: 0.8452\n",
      "Epoch 54/100\n",
      "236/236 [==============================] - 49s 209ms/step - loss: 0.8841 - acc: 0.6949 - val_loss: 0.4927 - val_acc: 0.8551\n",
      "Epoch 55/100\n",
      "236/236 [==============================] - 52s 219ms/step - loss: 0.8714 - acc: 0.7007 - val_loss: 0.5128 - val_acc: 0.8372\n",
      "Epoch 56/100\n",
      "236/236 [==============================] - 50s 210ms/step - loss: 0.8698 - acc: 0.6997 - val_loss: 0.4812 - val_acc: 0.8489\n",
      "Epoch 57/100\n",
      "236/236 [==============================] - 50s 211ms/step - loss: 0.8698 - acc: 0.6968 - val_loss: 0.4690 - val_acc: 0.8520\n",
      "Epoch 58/100\n",
      "236/236 [==============================] - 49s 209ms/step - loss: 0.8630 - acc: 0.6980 - val_loss: 0.4754 - val_acc: 0.8495\n"
     ]
    },
    {
     "name": "stdout",
     "output_type": "stream",
     "text": [
      "Epoch 59/100\n",
      "236/236 [==============================] - 49s 206ms/step - loss: 0.8460 - acc: 0.7074 - val_loss: 0.4692 - val_acc: 0.8613\n",
      "Epoch 60/100\n",
      "236/236 [==============================] - 48s 205ms/step - loss: 0.8410 - acc: 0.7120 - val_loss: 0.5515 - val_acc: 0.8235\n",
      "Epoch 61/100\n",
      "236/236 [==============================] - 48s 205ms/step - loss: 0.8657 - acc: 0.7058 - val_loss: 0.4630 - val_acc: 0.8601\n",
      "Epoch 62/100\n",
      "236/236 [==============================] - 49s 206ms/step - loss: 0.8250 - acc: 0.7143 - val_loss: 0.4510 - val_acc: 0.8644\n",
      "Epoch 63/100\n",
      "236/236 [==============================] - 48s 204ms/step - loss: 0.8144 - acc: 0.7173 - val_loss: 0.4209 - val_acc: 0.8774\n",
      "Epoch 64/100\n",
      "236/236 [==============================] - 49s 207ms/step - loss: 0.8061 - acc: 0.7176 - val_loss: 0.4310 - val_acc: 0.8625\n",
      "Epoch 65/100\n",
      "236/236 [==============================] - 49s 209ms/step - loss: 0.8241 - acc: 0.7205 - val_loss: 0.4830 - val_acc: 0.8526\n",
      "Epoch 66/100\n",
      "236/236 [==============================] - 49s 206ms/step - loss: 0.8025 - acc: 0.7238 - val_loss: 0.4242 - val_acc: 0.8656\n",
      "Epoch 67/100\n",
      "236/236 [==============================] - 49s 208ms/step - loss: 0.8027 - acc: 0.7255 - val_loss: 0.4090 - val_acc: 0.8762\n",
      "Epoch 68/100\n",
      "236/236 [==============================] - 49s 208ms/step - loss: 0.8129 - acc: 0.7152 - val_loss: 0.4490 - val_acc: 0.8706\n",
      "Epoch 69/100\n",
      "236/236 [==============================] - 49s 208ms/step - loss: 0.7846 - acc: 0.7284 - val_loss: 0.4182 - val_acc: 0.8731\n",
      "Epoch 70/100\n",
      "236/236 [==============================] - 49s 207ms/step - loss: 0.7980 - acc: 0.7284 - val_loss: 0.4292 - val_acc: 0.8675\n",
      "Epoch 71/100\n",
      "236/236 [==============================] - 49s 207ms/step - loss: 0.8016 - acc: 0.7247 - val_loss: 0.3942 - val_acc: 0.8824\n",
      "Epoch 72/100\n",
      "236/236 [==============================] - 49s 207ms/step - loss: 0.7806 - acc: 0.7319 - val_loss: 0.4284 - val_acc: 0.8805\n",
      "Epoch 73/100\n",
      "236/236 [==============================] - 49s 207ms/step - loss: 0.7784 - acc: 0.7304 - val_loss: 0.4131 - val_acc: 0.8737\n",
      "Epoch 74/100\n",
      "236/236 [==============================] - 49s 207ms/step - loss: 0.7898 - acc: 0.7246 - val_loss: 0.4026 - val_acc: 0.8724\n",
      "Epoch 75/100\n",
      "236/236 [==============================] - 49s 206ms/step - loss: 0.7630 - acc: 0.7358 - val_loss: 0.3787 - val_acc: 0.8836\n",
      "Epoch 76/100\n",
      "236/236 [==============================] - 49s 207ms/step - loss: 0.7600 - acc: 0.7419 - val_loss: 0.3726 - val_acc: 0.8817\n",
      "Epoch 77/100\n",
      "236/236 [==============================] - 49s 206ms/step - loss: 0.7759 - acc: 0.7391 - val_loss: 0.3893 - val_acc: 0.8774\n",
      "Epoch 78/100\n",
      "236/236 [==============================] - 49s 208ms/step - loss: 0.7359 - acc: 0.7459 - val_loss: 0.3726 - val_acc: 0.8892\n",
      "Epoch 79/100\n",
      "236/236 [==============================] - 49s 210ms/step - loss: 0.7453 - acc: 0.7417 - val_loss: 0.3747 - val_acc: 0.8817\n",
      "Epoch 80/100\n",
      "236/236 [==============================] - 50s 211ms/step - loss: 0.7673 - acc: 0.7368 - val_loss: 0.3714 - val_acc: 0.8731\n",
      "Epoch 81/100\n",
      "236/236 [==============================] - 49s 207ms/step - loss: 0.7466 - acc: 0.7422 - val_loss: 0.3910 - val_acc: 0.8731\n",
      "Epoch 82/100\n",
      "236/236 [==============================] - 49s 208ms/step - loss: 0.7630 - acc: 0.7376 - val_loss: 0.3679 - val_acc: 0.8954\n",
      "Epoch 83/100\n",
      "236/236 [==============================] - 49s 208ms/step - loss: 0.7316 - acc: 0.7515 - val_loss: 0.3750 - val_acc: 0.8885\n",
      "Epoch 84/100\n",
      "236/236 [==============================] - 49s 207ms/step - loss: 0.7610 - acc: 0.7385 - val_loss: 0.4082 - val_acc: 0.8718\n",
      "Epoch 85/100\n",
      "236/236 [==============================] - 49s 208ms/step - loss: 0.7420 - acc: 0.7417 - val_loss: 0.3729 - val_acc: 0.8848\n",
      "Epoch 86/100\n",
      "236/236 [==============================] - 49s 207ms/step - loss: 0.7313 - acc: 0.7481 - val_loss: 0.3456 - val_acc: 0.8941\n",
      "Epoch 87/100\n",
      "236/236 [==============================] - 49s 209ms/step - loss: 0.7247 - acc: 0.7499 - val_loss: 0.3732 - val_acc: 0.8892\n",
      "Epoch 88/100\n",
      "236/236 [==============================] - 49s 207ms/step - loss: 0.7144 - acc: 0.7566 - val_loss: 0.3627 - val_acc: 0.8830\n",
      "Epoch 89/100\n",
      "236/236 [==============================] - 49s 208ms/step - loss: 0.7056 - acc: 0.7541 - val_loss: 0.3499 - val_acc: 0.8904\n",
      "Epoch 90/100\n",
      "236/236 [==============================] - 49s 208ms/step - loss: 0.7129 - acc: 0.7470 - val_loss: 0.3712 - val_acc: 0.8805\n",
      "Epoch 91/100\n",
      "236/236 [==============================] - 49s 209ms/step - loss: 0.7032 - acc: 0.7512 - val_loss: 0.3711 - val_acc: 0.8786\n",
      "Epoch 92/100\n",
      "236/236 [==============================] - 49s 207ms/step - loss: 0.7158 - acc: 0.7491 - val_loss: 0.3400 - val_acc: 0.8916\n",
      "Epoch 93/100\n",
      "236/236 [==============================] - 49s 208ms/step - loss: 0.7271 - acc: 0.7520 - val_loss: 0.3296 - val_acc: 0.8960\n",
      "Epoch 94/100\n",
      "236/236 [==============================] - 49s 208ms/step - loss: 0.6782 - acc: 0.7632 - val_loss: 0.3483 - val_acc: 0.8941\n",
      "Epoch 95/100\n",
      "236/236 [==============================] - 49s 207ms/step - loss: 0.6958 - acc: 0.7593 - val_loss: 0.3612 - val_acc: 0.8811\n",
      "Epoch 96/100\n",
      "236/236 [==============================] - 49s 208ms/step - loss: 0.6876 - acc: 0.7579 - val_loss: 0.3415 - val_acc: 0.8892\n",
      "Epoch 97/100\n",
      "236/236 [==============================] - 49s 208ms/step - loss: 0.6793 - acc: 0.7671 - val_loss: 0.3407 - val_acc: 0.9003\n",
      "Epoch 98/100\n",
      "236/236 [==============================] - 49s 209ms/step - loss: 0.6848 - acc: 0.7591 - val_loss: 0.3255 - val_acc: 0.8985\n",
      "Epoch 99/100\n",
      "236/236 [==============================] - 49s 208ms/step - loss: 0.6834 - acc: 0.7676 - val_loss: 0.4253 - val_acc: 0.8687\n",
      "Epoch 100/100\n",
      "236/236 [==============================] - 49s 208ms/step - loss: 0.6883 - acc: 0.7642 - val_loss: 0.3359 - val_acc: 0.9003\n"
     ]
    }
   ],
   "source": [
    "history = classifier.fit_generator(training_data,\n",
    "                                  steps_per_epoch= math.ceil(training_data.n/training_data.batch_size),\n",
    "                                  epochs=100,\n",
    "                                  validation_data= validation_data,\n",
    "                                  validation_steps= math.ceil(validation_data.n/validation_data.batch_size))"
   ]
  },
  {
   "cell_type": "code",
   "execution_count": 6,
   "metadata": {},
   "outputs": [
    {
     "data": {
      "text/plain": [
       "['model2.pkl']"
      ]
     },
     "execution_count": 6,
     "metadata": {},
     "output_type": "execute_result"
    }
   ],
   "source": [
    "import joblib\n",
    "joblib.dump(history, 'model2.pkl')"
   ]
  },
  {
   "cell_type": "code",
   "execution_count": 8,
   "metadata": {},
   "outputs": [],
   "source": [
    "import joblib\n",
    "history_reloaded = joblib.load('model2.pkl')"
   ]
  },
  {
   "cell_type": "code",
   "execution_count": null,
   "metadata": {},
   "outputs": [],
   "source": []
  },
  {
   "cell_type": "code",
   "execution_count": null,
   "metadata": {},
   "outputs": [],
   "source": []
  },
  {
   "cell_type": "code",
   "execution_count": null,
   "metadata": {},
   "outputs": [],
   "source": []
  }
 ],
 "metadata": {
  "kernelspec": {
   "display_name": "Python 3",
   "language": "python",
   "name": "python3"
  },
  "language_info": {
   "codemirror_mode": {
    "name": "ipython",
    "version": 3
   },
   "file_extension": ".py",
   "mimetype": "text/x-python",
   "name": "python",
   "nbconvert_exporter": "python",
   "pygments_lexer": "ipython3",
   "version": "3.7.1"
  }
 },
 "nbformat": 4,
 "nbformat_minor": 2
}
